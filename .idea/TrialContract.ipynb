{
 "cells": [
  {
   "cell_type": "code",
   "execution_count": 668,
   "metadata": {
    "collapsed": false
   },
   "outputs": [],
   "source": [
    "import pandas as pd\n",
    "import re\n",
    "import sqlalchemy\n",
    "import unicodedata\n",
    "import difflib\n",
    "import xlwings as xw\n",
    "from datetime import datetime\n",
    "from googletrans import Translator\n",
    "from os import listdir\n",
    "from os.path import isfile, join\n",
    "\n",
    "mypath = 'C:\\\\Users\\\\anicieja\\Documents\\\\OBJ\\\\PL_automation\\\\source_new\\\\stawki'\n",
    "onlyfiles = [f for f in listdir(mypath) if isfile(join(mypath, f))]"
   ]
  },
  {
   "cell_type": "code",
   "execution_count": 669,
   "metadata": {},
   "outputs": [
    {
     "data": {
      "text/plain": [
       "['ZESTAWIENIE WYNAGRODZEŃ_102018.xlsx']"
      ]
     },
     "execution_count": 669,
     "metadata": {},
     "output_type": "execute_result"
    }
   ],
   "source": [
    "onlyfiles = [file for file in onlyfiles if not '~' in file]\n",
    "onlyfiles\n"
   ]
  },
  {
   "cell_type": "code",
   "execution_count": 670,
   "metadata": {},
   "outputs": [],
   "source": [
    "def get_protected_sheet_data(PATH):\n",
    "    wb = xw.Book(PATH)\n",
    "\n",
    "    salaries = []\n",
    "    for sheet in wb.sheets:\n",
    "        print(sheet)\n",
    "\n",
    "        data_from_sheet = sheet.range('A1').expand().options(pd.DataFrame, index=False, header=True).value\n",
    "\n",
    "        # data_from_sheet['Etat'] = data_from_sheet['Etat']\n",
    "\n",
    "        data_from_sheet.rename(columns={\"Tytul\": \"Stanowisko\",\n",
    "                                        \"Kwota\": \"Stawka\",\n",
    "                                        \"kwota\": \"Stawka\",\n",
    "                                        \"Wartość\": \"Stawka\",\n",
    "                                        \"wartość\": \"Stawka\",\n",
    "                                        \"Nazwisko i imię\": \"Pracownik\",\n",
    "                                        \"Nazwisko\": \"Pracownik\",\n",
    "                                        \"ETAT\": 'Etat'}, inplace=True)\n",
    "\n",
    "        data_from_sheet['FinanceSheet'] = sheet.name\n",
    "        \n",
    "        if \"B2B\" in sheet.name:\n",
    "            data_from_sheet['Etat'] = \"B2B\"\n",
    "            data_from_sheet['Typ umowy'] = 'B2B'\n",
    "        \n",
    "        if 'UOP' in sheet.name:\n",
    "            data_from_sheet['Pracownik'] = data_from_sheet['Pracownik'] + ' ' + data_from_sheet['Imie']\n",
    "        \n",
    "        date_tmp = wb.name[26:30] + '-' + wb.name[24:26] + '-' + '01'\n",
    "        print(date_tmp)\n",
    "        data_from_sheet['Date'] = date_tmp\n",
    "        data_from_sheet['Date'] = data_from_sheet['Date'].apply(lambda x: datetime.strptime(x, '%Y-%m-%d'))\n",
    "        \n",
    "        # full_cost_columns = data_from_sheet.columns.values\n",
    "        # data_from_sheet['EnovaEmployerCost'] = data_from_sheet.apply(lambda x: get_full_cost(x, full_cost_columns), axis=1)\n",
    "\n",
    "        salaries.append(data_from_sheet[['Kod', 'Pracownik', 'Stanowisko', 'Etat',\n",
    "                                         'Typ umowy', 'FinanceSheet', 'Stawka', 'Date']])\n",
    "\n",
    "    return salaries\n",
    "\n",
    "def etat_to_number(x):\n",
    "    g = re.match('([0-9])/([0-9])', str(x).replace(\"'\", \"\"))\n",
    "    if g is None:\n",
    "        return g\n",
    "    g = g.groups()\n",
    "    if len(g) == 1:\n",
    "        return g[0]\n",
    "    return float(g[0])/float(g[1])\n",
    "\n",
    "def get_name(x):\n",
    "    x = unicodedata.normalize('NFD', x.lower()).replace('ł', 'l').encode('ascii', 'ignore').decode()\n",
    "    if '(' in x:\n",
    "        full_name = re.match('(.{1,}) (.{1,}) \\(.{1,}\\)', x).groups()\n",
    "    else:\n",
    "        full_name = re.match('(.{1,}) (.{1,})', x).groups()\n",
    "    return full_name[1].title() + ' ' + full_name[0].title()"
   ]
  },
  {
   "cell_type": "code",
   "execution_count": 671,
   "metadata": {},
   "outputs": [
    {
     "name": "stdout",
     "output_type": "stream",
     "text": [
      "ZESTAWIENIE WYNAGRODZEŃ_102018.xlsx\n"
     ]
    },
    {
     "name": "stdout",
     "output_type": "stream",
     "text": [
      "<Sheet [ZESTAWIENIE WYNAGRODZEŃ_102018.xlsx]UOP_OBSS>\n"
     ]
    },
    {
     "name": "stdout",
     "output_type": "stream",
     "text": [
      "2018-10-01\n<Sheet [ZESTAWIENIE WYNAGRODZEŃ_102018.xlsx]B2B_OBSS>\n2018-10-01"
     ]
    },
    {
     "name": "stdout",
     "output_type": "stream",
     "text": [
      "\n<Sheet [ZESTAWIENIE WYNAGRODZEŃ_102018.xlsx]UOP_OITS>\n2018-10-01\n<Sheet [ZESTAWIENIE WYNAGRODZEŃ_102018.xlsx]B2B_OITS>"
     ]
    },
    {
     "name": "stdout",
     "output_type": "stream",
     "text": [
      "\n2018-10-01\n"
     ]
    }
   ],
   "source": [
    "salaries_array = []\n",
    "for name in onlyfiles:\n",
    "    print(name)\n",
    "    salaries_array.append(pd.concat(get_protected_sheet_data(mypath + '\\\\' + name)))\n",
    "    "
   ]
  },
  {
   "cell_type": "code",
   "execution_count": 672,
   "metadata": {},
   "outputs": [],
   "source": [
    "salaries = pd.concat(salaries_array)\n",
    "\n",
    "salaries = salaries.rename(columns={\n",
    "    'Kod': 'FinanceCode',\n",
    "    'Pracownik': 'FinanceName',\n",
    "    'Stanowisko': 'FinancePosition',\n",
    "    'Etat': 'PartTime',\n",
    "    'Stawka': 'ContractValue',\n",
    "    'Typ umowy': 'ContractType',\n",
    "})\n",
    "\n",
    "salaries['PartTime'] = salaries['PartTime'].apply(etat_to_number) \n",
    "salaries = salaries.drop_duplicates()\n",
    "# tmp = 4 - len(salaries['FinanceCode'])\n",
    "# for x in range(tmp):\n",
    "#     salaries['FinanceCode'] = \"0\" + salaries['FinanceCode']\n",
    "# \n",
    "# salaries['FinanceCode'] = str(salaries['FinanceCode'])\n",
    "# print(salaries['FinanceCode'])\n",
    "salaries['CorrectedFinanceName'] = salaries['FinanceName'].apply(get_name)\n",
    "salaries['CorrectedFinanceName'] = salaries['CorrectedFinanceName'].str.upper()\n",
    "salaries['PartTime'] = salaries['PartTime'].fillna(1)\n",
    "# salaries['CorrectedFinanceName'] = \"(\" + salaries['FinanceCode'] + \") \" + salaries['FinanceName'].str.upper()"
   ]
  },
  {
   "cell_type": "code",
   "execution_count": 673,
   "metadata": {},
   "outputs": [
    {
     "data": {
      "text/html": [
       "<div>\n",
       "<style scoped>\n",
       "    .dataframe tbody tr th:only-of-type {\n",
       "        vertical-align: middle;\n",
       "    }\n",
       "\n",
       "    .dataframe tbody tr th {\n",
       "        vertical-align: top;\n",
       "    }\n",
       "\n",
       "    .dataframe thead th {\n",
       "        text-align: right;\n",
       "    }\n",
       "</style>\n",
       "<table border=\"1\" class=\"dataframe\">\n",
       "  <thead>\n",
       "    <tr style=\"text-align: right;\">\n",
       "      <th></th>\n",
       "      <th>FinanceCode</th>\n",
       "      <th>FinanceName</th>\n",
       "      <th>FinancePosition</th>\n",
       "      <th>PartTime</th>\n",
       "      <th>ContractType</th>\n",
       "      <th>FinanceSheet</th>\n",
       "      <th>ContractValue</th>\n",
       "      <th>Date</th>\n",
       "      <th>CorrectedFinanceName</th>\n",
       "    </tr>\n",
       "  </thead>\n",
       "  <tbody>\n",
       "    <tr>\n",
       "      <th>0</th>\n",
       "      <td>74</td>\n",
       "      <td>ADAMSKA URSZULA</td>\n",
       "      <td>SENIOR PROJECT MANAGER</td>\n",
       "      <td>0.8</td>\n",
       "      <td>Na czas nieokreślony</td>\n",
       "      <td>UOP_OBSS</td>\n",
       "      <td>10000.0</td>\n",
       "      <td>2018-10-01</td>\n",
       "      <td>URSZULA ADAMSKA</td>\n",
       "    </tr>\n",
       "    <tr>\n",
       "      <th>1</th>\n",
       "      <td>41</td>\n",
       "      <td>ADAMSKA-WOŹNY ALEKSANDRA</td>\n",
       "      <td>Assistant Guild Master</td>\n",
       "      <td>1.0</td>\n",
       "      <td>Na czas nieokreślony</td>\n",
       "      <td>UOP_OBSS</td>\n",
       "      <td>8000.0</td>\n",
       "      <td>2018-10-01</td>\n",
       "      <td>ALEKSANDRA ADAMSKA-WOZNY</td>\n",
       "    </tr>\n",
       "    <tr>\n",
       "      <th>2</th>\n",
       "      <td>821</td>\n",
       "      <td>ANDRUSIECZKO ANDRZEJ</td>\n",
       "      <td>Junior Quality Engineer/ Młodszy Tester Oprogr...</td>\n",
       "      <td>1.0</td>\n",
       "      <td>Na czas nieokreślony</td>\n",
       "      <td>UOP_OBSS</td>\n",
       "      <td>5000.0</td>\n",
       "      <td>2018-10-01</td>\n",
       "      <td>ANDRZEJ ANDRUSIECZKO</td>\n",
       "    </tr>\n",
       "    <tr>\n",
       "      <th>3</th>\n",
       "      <td>157</td>\n",
       "      <td>ANDRZEJEWSKI ADRIAN</td>\n",
       "      <td>Chapter Leader Service Delivery Manager</td>\n",
       "      <td>1.0</td>\n",
       "      <td>Na czas nieokreślony</td>\n",
       "      <td>UOP_OBSS</td>\n",
       "      <td>12000.0</td>\n",
       "      <td>2018-10-01</td>\n",
       "      <td>ADRIAN ANDRZEJEWSKI</td>\n",
       "    </tr>\n",
       "    <tr>\n",
       "      <th>4</th>\n",
       "      <td>802</td>\n",
       "      <td>ANTONETS IULIIA</td>\n",
       "      <td>ANALITYK BIZNESOWY</td>\n",
       "      <td>1.0</td>\n",
       "      <td>Na czas nieokreślony</td>\n",
       "      <td>UOP_OBSS</td>\n",
       "      <td>12500.0</td>\n",
       "      <td>2018-10-01</td>\n",
       "      <td>IULIIA ANTONETS</td>\n",
       "    </tr>\n",
       "  </tbody>\n",
       "</table>\n",
       "</div>"
      ],
      "text/plain": [
       "<div>\n",
       "<style scoped>\n",
       "    .dataframe tbody tr th:only-of-type {\n",
       "        vertical-align: middle;\n",
       "    }\n",
       "\n",
       "    .dataframe tbody tr th {\n",
       "        vertical-align: top;\n",
       "    }\n",
       "\n",
       "    .dataframe thead th {\n",
       "        text-align: right;\n",
       "    }\n",
       "</style>\n",
       "<table border=\"1\" class=\"dataframe\">\n",
       "  <thead>\n",
       "    <tr style=\"text-align: right;\">\n",
       "      <th></th>\n",
       "      <th>FinanceCode</th>\n",
       "      <th>FinanceName</th>\n",
       "      <th>FinancePosition</th>\n",
       "      <th>PartTime</th>\n",
       "      <th>ContractType</th>\n",
       "      <th>FinanceSheet</th>\n",
       "      <th>ContractValue</th>\n",
       "      <th>Date</th>\n",
       "      <th>CorrectedFinanceName</th>\n",
       "    </tr>\n",
       "  </thead>\n",
       "  <tbody>\n",
       "    <tr>\n",
       "      <th>0</th>\n",
       "      <td>74</td>\n",
       "      <td>ADAMSKA URSZULA</td>\n",
       "      <td>SENIOR PROJECT MANAGER</td>\n",
       "      <td>0.8</td>\n",
       "      <td>Na czas nieokreślony</td>\n",
       "      <td>UOP_OBSS</td>\n",
       "      <td>10000.0</td>\n",
       "      <td>2018-10-01</td>\n",
       "      <td>URSZULA ADAMSKA</td>\n",
       "    </tr>\n",
       "    <tr>\n",
       "      <th>1</th>\n",
       "      <td>41</td>\n",
       "      <td>ADAMSKA-WOŹNY ALEKSANDRA</td>\n",
       "      <td>Assistant Guild Master</td>\n",
       "      <td>1.0</td>\n",
       "      <td>Na czas nieokreślony</td>\n",
       "      <td>UOP_OBSS</td>\n",
       "      <td>8000.0</td>\n",
       "      <td>2018-10-01</td>\n",
       "      <td>ALEKSANDRA ADAMSKA-WOZNY</td>\n",
       "    </tr>\n",
       "    <tr>\n",
       "      <th>2</th>\n",
       "      <td>821</td>\n",
       "      <td>ANDRUSIECZKO ANDRZEJ</td>\n",
       "      <td>Junior Quality Engineer/ Młodszy Tester Oprogr...</td>\n",
       "      <td>1.0</td>\n",
       "      <td>Na czas nieokreślony</td>\n",
       "      <td>UOP_OBSS</td>\n",
       "      <td>5000.0</td>\n",
       "      <td>2018-10-01</td>\n",
       "      <td>ANDRZEJ ANDRUSIECZKO</td>\n",
       "    </tr>\n",
       "    <tr>\n",
       "      <th>3</th>\n",
       "      <td>157</td>\n",
       "      <td>ANDRZEJEWSKI ADRIAN</td>\n",
       "      <td>Chapter Leader Service Delivery Manager</td>\n",
       "      <td>1.0</td>\n",
       "      <td>Na czas nieokreślony</td>\n",
       "      <td>UOP_OBSS</td>\n",
       "      <td>12000.0</td>\n",
       "      <td>2018-10-01</td>\n",
       "      <td>ADRIAN ANDRZEJEWSKI</td>\n",
       "    </tr>\n",
       "    <tr>\n",
       "      <th>4</th>\n",
       "      <td>802</td>\n",
       "      <td>ANTONETS IULIIA</td>\n",
       "      <td>ANALITYK BIZNESOWY</td>\n",
       "      <td>1.0</td>\n",
       "      <td>Na czas nieokreślony</td>\n",
       "      <td>UOP_OBSS</td>\n",
       "      <td>12500.0</td>\n",
       "      <td>2018-10-01</td>\n",
       "      <td>IULIIA ANTONETS</td>\n",
       "    </tr>\n",
       "  </tbody>\n",
       "</table>\n",
       "</div>"
      ]
     },
     "execution_count": 673,
     "metadata": {},
     "output_type": "execute_result"
    }
   ],
   "source": [
    "salaries.head()"
   ]
  },
  {
   "cell_type": "code",
   "execution_count": 674,
   "metadata": {},
   "outputs": [],
   "source": [
    "FIN_SERVER = \"OBJPLDMFIN1\"\n",
    "FIN_DATABASE = \"Cost\"\n",
    "FIN_SCHEMA = \"dbo\"\n",
    "FIN_DB_CONNECTION = 'mssql+pyodbc://@' + FIN_SERVER + '/' + FIN_DATABASE + '?driver=SQL+Server+Native+Client+11.0?trusted_connection=yes'\n",
    "FIN_ENGINE = sqlalchemy.create_engine(FIN_DB_CONNECTION, pool_size=20, max_overflow=100)"
   ]
  },
  {
   "cell_type": "code",
   "execution_count": 675,
   "metadata": {},
   "outputs": [],
   "source": [
    "salaries.reset_index()\n",
    "salaries.to_sql('Sal_con', FIN_ENGINE.connect(), if_exists='replace')"
   ]
  },
  {
   "cell_type": "code",
   "execution_count": 676,
   "metadata": {},
   "outputs": [],
   "source": [
    "DM_SERVER = \"OBJPLDMSQL\"\n",
    "DM_DATABASE = \"Structure\"\n",
    "DM_SCHEMA = \"dbo\"\n",
    "DM_DB_CONNECTION = 'mssql+pyodbc://@' + DM_SERVER + '/' + DM_DATABASE + '?driver=SQL+Server+Native+Client+11.0?trusted_connection=yes'\n",
    "DM_ENGINE = sqlalchemy.create_engine(DM_DB_CONNECTION, pool_size=20, max_overflow=100)"
   ]
  },
  {
   "cell_type": "code",
   "execution_count": 677,
   "metadata": {},
   "outputs": [],
   "source": [
    "employees = pd.read_sql('''\n",
    "select * FROM [Structure].[dbo].[Structure_Monthly] where Date >= '{0}' and Date <= '{1}'\n",
    "'''.format(salaries['Date'].min(), salaries['Date'].max()), DM_ENGINE.connect())"
   ]
  },
  {
   "cell_type": "code",
   "execution_count": 678,
   "metadata": {},
   "outputs": [],
   "source": [
    "employees['Level'] = employees['Level'].replace({'': 'Regular'})"
   ]
  },
  {
   "cell_type": "code",
   "execution_count": 679,
   "metadata": {},
   "outputs": [],
   "source": [
    "names_changes = pd.read_sql('''\n",
    "SELECT distinct concat([First_Name], ' ', [Surname]) as NameFrom\n",
    "      ,concat([First_Name], ' ', [Previous_Surname]) as NameTo\n",
    "FROM [Translations].[dbo].[Maiden_Name]\n",
    "\n",
    "UNION ALL\n",
    "\n",
    "SELECT distinct concat([First_Name], ' ', [Previous_Surname]) as NameFrom\n",
    "      ,concat([First_Name], ' ', [Surname]) as NameTo\n",
    "FROM [Translations].[dbo].[Maiden_Name]\n",
    "''', DM_ENGINE.connect())"
   ]
  },
  {
   "cell_type": "code",
   "execution_count": 680,
   "metadata": {},
   "outputs": [
    {
     "data": {
      "text/html": [
       "<div>\n",
       "<style scoped>\n",
       "    .dataframe tbody tr th:only-of-type {\n",
       "        vertical-align: middle;\n",
       "    }\n",
       "\n",
       "    .dataframe tbody tr th {\n",
       "        vertical-align: top;\n",
       "    }\n",
       "\n",
       "    .dataframe thead th {\n",
       "        text-align: right;\n",
       "    }\n",
       "</style>\n",
       "<table border=\"1\" class=\"dataframe\">\n",
       "  <thead>\n",
       "    <tr style=\"text-align: right;\">\n",
       "      <th></th>\n",
       "      <th>FinancePosition</th>\n",
       "      <th>FinanceEnglishPosition</th>\n",
       "    </tr>\n",
       "  </thead>\n",
       "  <tbody>\n",
       "    <tr>\n",
       "      <th>0</th>\n",
       "      <td>SENIOR PROJECT MANAGER</td>\n",
       "      <td>SENIOR PROJECT MANAGER</td>\n",
       "    </tr>\n",
       "    <tr>\n",
       "      <th>1</th>\n",
       "      <td>Assistant Guild Master</td>\n",
       "      <td>Assistant Guild Master</td>\n",
       "    </tr>\n",
       "    <tr>\n",
       "      <th>2</th>\n",
       "      <td>Junior Quality Engineer/ Młodszy Tester Oprogr...</td>\n",
       "      <td>Junior Quality Engineer/ Młodszy Tester Oprogr...</td>\n",
       "    </tr>\n",
       "    <tr>\n",
       "      <th>3</th>\n",
       "      <td>Chapter Leader Service Delivery Manager</td>\n",
       "      <td>Chapter Leader Service Delivery Manager</td>\n",
       "    </tr>\n",
       "    <tr>\n",
       "      <th>4</th>\n",
       "      <td>ANALITYK BIZNESOWY</td>\n",
       "      <td>ANALITYK BIZNESOWY</td>\n",
       "    </tr>\n",
       "  </tbody>\n",
       "</table>\n",
       "</div>"
      ],
      "text/plain": [
       "<div>\n",
       "<style scoped>\n",
       "    .dataframe tbody tr th:only-of-type {\n",
       "        vertical-align: middle;\n",
       "    }\n",
       "\n",
       "    .dataframe tbody tr th {\n",
       "        vertical-align: top;\n",
       "    }\n",
       "\n",
       "    .dataframe thead th {\n",
       "        text-align: right;\n",
       "    }\n",
       "</style>\n",
       "<table border=\"1\" class=\"dataframe\">\n",
       "  <thead>\n",
       "    <tr style=\"text-align: right;\">\n",
       "      <th></th>\n",
       "      <th>FinancePosition</th>\n",
       "      <th>FinanceEnglishPosition</th>\n",
       "    </tr>\n",
       "  </thead>\n",
       "  <tbody>\n",
       "    <tr>\n",
       "      <th>0</th>\n",
       "      <td>SENIOR PROJECT MANAGER</td>\n",
       "      <td>SENIOR PROJECT MANAGER</td>\n",
       "    </tr>\n",
       "    <tr>\n",
       "      <th>1</th>\n",
       "      <td>Assistant Guild Master</td>\n",
       "      <td>Assistant Guild Master</td>\n",
       "    </tr>\n",
       "    <tr>\n",
       "      <th>2</th>\n",
       "      <td>Junior Quality Engineer/ Młodszy Tester Oprogr...</td>\n",
       "      <td>Junior Quality Engineer/ Młodszy Tester Oprogr...</td>\n",
       "    </tr>\n",
       "    <tr>\n",
       "      <th>3</th>\n",
       "      <td>Chapter Leader Service Delivery Manager</td>\n",
       "      <td>Chapter Leader Service Delivery Manager</td>\n",
       "    </tr>\n",
       "    <tr>\n",
       "      <th>4</th>\n",
       "      <td>ANALITYK BIZNESOWY</td>\n",
       "      <td>ANALITYK BIZNESOWY</td>\n",
       "    </tr>\n",
       "  </tbody>\n",
       "</table>\n",
       "</div>"
      ]
     },
     "execution_count": 680,
     "metadata": {},
     "output_type": "execute_result"
    }
   ],
   "source": [
    "translator = Translator()\n",
    "positions = salaries['FinancePosition'].unique()\n",
    "translations = []\n",
    "for x in positions:\n",
    "    #print(x)\n",
    "    try:\n",
    "        translations.append(translator.translate(x.replace('/', ''), dest='en').text)\n",
    "    except Exception as e:\n",
    "        translations.append(x)\n",
    "positions_translations = pd.DataFrame({'FinancePosition': positions, 'FinanceEnglishPosition': translations})\n",
    "positions_translations.head()"
   ]
  },
  {
   "cell_type": "code",
   "execution_count": 681,
   "metadata": {},
   "outputs": [
    {
     "data": {
      "text/plain": [
       "(656, 10)"
      ]
     },
     "execution_count": 681,
     "metadata": {},
     "output_type": "execute_result"
    }
   ],
   "source": [
    "salaries = salaries.merge(positions_translations, how='left')\n",
    "salaries.shape"
   ]
  },
  {
   "cell_type": "code",
   "execution_count": 682,
   "metadata": {},
   "outputs": [],
   "source": [
    "def get_matched_record(record, name_column='CorrectedFinanceName', position_column='FinanceEnglishPosition', prefix=''):\n",
    "    record = record.iloc[0]\n",
    "    x = record[name_column]\n",
    "    #print(x)\n",
    "\n",
    "    ratios = pd.DataFrame({'Name': employees['Name'].unique(),\n",
    "                           'Ratio': [difflib.SequenceMatcher(None, x, name).ratio() for name in employees['Name'].unique()]\n",
    "                           })\n",
    "\n",
    "    max_ratio = ratios['Ratio'].max() - 0.1\n",
    "    if max_ratio < 0.85:\n",
    "        print(x)\n",
    "        print(ratios['Ratio'].max())\n",
    "\n",
    "        ratios_maiden = pd.DataFrame({'Name': names_changes['NameFrom'].tolist(),\n",
    "                                      'Ratio': [difflib.SequenceMatcher(None, x, name).ratio() for name in names_changes['NameFrom'].tolist()]\n",
    "                                      })\n",
    "        max_ratio_maiden = ratios_maiden['Ratio'].max()\n",
    "        matched_name_maiden = ratios_maiden[ratios_maiden['Ratio'] >= max_ratio_maiden]\n",
    "        if matched_name_maiden.shape[0] >= 1 and (max_ratio_maiden - 0.1) > max_ratio:\n",
    "            x = names_changes['NameTo'][names_changes['NameFrom'] == matched_name_maiden['Name'].iloc[0]].iloc[0]\n",
    "\n",
    "            ratios = pd.DataFrame({'Name': employees['Name'].unique(),\n",
    "                                   'Ratio': [difflib.SequenceMatcher(None, x, name).ratio() for name in employees['Name'].unique()]\n",
    "                                   })\n",
    "\n",
    "            max_ratio = ratios['Ratio'].max() - 0.1\n",
    "\n",
    "    matched_name = ratios[ratios['Ratio'] >= max_ratio]\n",
    "\n",
    "    x = record[position_column]\n",
    "    #TODO\n",
    "    #x= translator.translate(x, dest='en').text\n",
    "\n",
    "    positions = employees[['Name', 'Position']].drop_duplicates().merge(matched_name, how='inner', on='Name')[['Name', 'Position', 'Ratio']]\n",
    "\n",
    "    pos_ratios = pd.DataFrame({\n",
    "        prefix + 'MatchedName': positions['Name'].tolist(),\n",
    "        prefix + 'MatchedNameRatio': positions['Ratio'].tolist(),\n",
    "        prefix + 'MatchedPosition': positions['Position'].tolist(),\n",
    "        prefix + 'MatchedPositionRatio': [difflib.SequenceMatcher(None, x.lower() if x is not None else ' '\n",
    "                                                                  , name.lower() if name is not None else ' ').ratio() for name in positions['Position'].tolist()]\n",
    "    })\n",
    "    pos_max_ratio = pos_ratios[prefix + 'MatchedPositionRatio'].max()\n",
    "    matched_pos = pos_ratios[pos_ratios[prefix + 'MatchedPositionRatio'] >= pos_max_ratio]\n",
    "\n",
    "    matched_pos = matched_pos[matched_pos[prefix + 'MatchedNameRatio'].max() == matched_pos[prefix + 'MatchedNameRatio']]\n",
    "\n",
    "    return matched_pos"
   ]
  },
  {
   "cell_type": "code",
   "execution_count": 683,
   "metadata": {},
   "outputs": [
    {
     "name": "stdout",
     "output_type": "stream",
     "text": [
      "ABIKE STRZEBINCZYK\n0.2222222222222222\nABIKE STRZEBINCZYK\n0.2222222222222222\n"
     ]
    },
    {
     "name": "stdout",
     "output_type": "stream",
     "text": [
      "ADAM AUKSEL\n0.3\nADAM BASTRZYK\n0.2727272727272727\nADAM KOWALCZYK\n0.25\n"
     ]
    },
    {
     "name": "stdout",
     "output_type": "stream",
     "text": [
      "ADAM LASON\n0.3157894736842105\nADAM LEPKOWSKI\n0.2608695652173913\nADAM LUCZAK\n0.2857142857142857\nADRIAN ANDRZEJEWSKI"
     ]
    },
    {
     "name": "stdout",
     "output_type": "stream",
     "text": [
      "\n0.21428571428571427\nADRIAN DOBROWOLSKI\n0.2222222222222222\nADRIAN DOLNIAK\n0.25\n"
     ]
    },
    {
     "name": "stdout",
     "output_type": "stream",
     "text": [
      "ADRIAN DUDACZYK\n0.24\nADRIAN MACZUGA\n0.25\nADRIAN MUCHA\n0.2857142857142857\nADRIAN NOWAKOWSKI"
     ]
    },
    {
     "name": "stdout",
     "output_type": "stream",
     "text": [
      "\n0.23076923076923078\nADRIAN SLABICKI\n0.25\nADRIAN SZCZEPANEK\n0.23076923076923078\n"
     ]
    },
    {
     "name": "stdout",
     "output_type": "stream",
     "text": [
      "AGATA BEDNAREK\n0.2608695652173913\nAGATA HAMILTON\n0.25\nAGATA MARCHWICKA\n0.24\nAGATA PAWLOWICZ\n0.24"
     ]
    },
    {
     "name": "stdout",
     "output_type": "stream",
     "text": [
      "\nAGATA SWIERK\n0.2857142857142857\nAGNIESZKA BARTNIKIEWICZ\n0.1875\nAGNIESZKA LOZOWICKA\n0.20689655172413793\n"
     ]
    },
    {
     "name": "stdout",
     "output_type": "stream",
     "text": [
      "AGNIESZKA MACIEJ\n0.23076923076923078\nAGNIESZKA PATALAS\n0.2222222222222222\nAGNIESZKA PIECZENCZYK\n0.1875\n"
     ]
    },
    {
     "name": "stdout",
     "output_type": "stream",
     "text": [
      "ALEKSANDER BADURA\n0.22857142857142856\nALEKSANDER LAUROWSKI\n0.23809523809523808\nALEKSANDRA ADAMSKA-WOZNY\n0.20833333333333334\n"
     ]
    },
    {
     "name": "stdout",
     "output_type": "stream",
     "text": [
      "ALEKSANDRA KALISZAN\n0.20689655172413793\nALEKSANDRA KLONOWSKA\n0.2\n"
     ]
    },
    {
     "name": "stdout",
     "output_type": "stream",
     "text": [
      "ALEKSANDRA OTREMBA\n0.21428571428571427\nALEKSANDRA SZABLONSKA\n0.2\nALEKSANDRA WOJCIECHOWSKA"
     ]
    },
    {
     "name": "stdout",
     "output_type": "stream",
     "text": [
      "\n0.18181818181818182\nALICJA DUDEK\n0.2608695652173913\nALICJA JAKUBEK\n0.24\n"
     ]
    },
    {
     "name": "stdout",
     "output_type": "stream",
     "text": [
      "ALICJA NICIEJA\n0.2608695652173913\nALICJA PYCZAK\n0.2727272727272727\nANDRZEJ ANDRUSIECZKO\n0.23809523809523808\nANDRZEJ JURZAK\n0.25\n"
     ]
    },
    {
     "name": "stdout",
     "output_type": "stream",
     "text": [
      "ANDRZEJ KRZEPTOWSKI\n0.21428571428571427\nANDRZEJ NOWIK\n0.2608695652173913\nANDRZEJ SMOLINSKI\n0.23076923076923078\n"
     ]
    },
    {
     "name": "stdout",
     "output_type": "stream",
     "text": [
      "ANDRZEJ STADNIK\n0.25\nANDRZEJ SYDOR\n0.2727272727272727\nANDZELIKA STEPKOWSKA\n0.20689655172413793\n"
     ]
    },
    {
     "name": "stdout",
     "output_type": "stream",
     "text": [
      "ANETA WILCZYNSKA-GALESKA\n0.23255813953488372\nANGELIKA PLATEK\n0.23076923076923078\nANNA BARTOSIEWICZ\n0.23076923076923078\nANNA DREZNER-GAJAK\n0.2777777777777778\n"
     ]
    },
    {
     "name": "stdout",
     "output_type": "stream",
     "text": [
      "ANNA FIDOR\n0.3157894736842105\nANNA FRATCZAK\n0.2727272727272727\nANNA GALEWSKA\n0.2727272727272727\nANNA GARLIKOWSKA\n0.24\n"
     ]
    },
    {
     "name": "stdout",
     "output_type": "stream",
     "text": [
      "ANNA GOLUCHOWSKA\n0.24\nANNA KOSCIELNA\n0.2608695652173913\nANNA KURYLOWICZ\n0.25\nANNA LISOWSKA\n0.2727272727272727\n"
     ]
    },
    {
     "name": "stdout",
     "output_type": "stream",
     "text": [
      "ANNA LISZEWSKA\n0.2608695652173913\nANNA MOROZ\n0.3157894736842105\nANNA SIEK\n0.3333333333333333\n"
     ]
    },
    {
     "name": "stdout",
     "output_type": "stream",
     "text": [
      "ANNA SOKOLOWSKA\n0.25\nANNA SZCZEPANSKA\n0.24\nANNA ZACHAREWICZ\n0.24\n"
     ]
    },
    {
     "name": "stdout",
     "output_type": "stream",
     "text": [
      "ARKADIUSZ KUMPIN\n0.27586206896551724\nARKADIUSZ PACHUCY\n0.23076923076923078\nARKADIUSZ PEKACZ\n0.2222222222222222\nARKADIUSZ STARCZEWSKI\n0.2\n"
     ]
    },
    {
     "name": "stdout",
     "output_type": "stream",
     "text": [
      "ARTUR CZARTORYSKI\n0.23076923076923078\nARTUR GAJOS\n0.3\nARTUR KOSTA\n0.3\nARTUR KOSTYRA\n0.2727272727272727\n"
     ]
    },
    {
     "name": "stdout",
     "output_type": "stream",
     "text": [
      "ARTUR PAKULA\n0.2727272727272727\nARTUR SKRZYPEK\n0.2608695652173913\nBARBARA GLOBISZ-DURAWA\n0.22727272727272727\nBARBARA SERAFINOWICZ\n"
     ]
    },
    {
     "name": "stdout",
     "output_type": "stream",
     "text": [
      "0.20689655172413793\nBARTLOMIEJ BUGAJNY\n0.2222222222222222\nBARTLOMIEJ GULIS\n0.24\n"
     ]
    },
    {
     "name": "stdout",
     "output_type": "stream",
     "text": [
      "BARTLOMIEJ HORONIECKI\n0.2\nBARTLOMIEJ WALOCHA\n0.2222222222222222\n"
     ]
    },
    {
     "name": "stdout",
     "output_type": "stream",
     "text": [
      "BARTLOMIEJ WITYCH\n0.23076923076923078\nBARTLOMIEJ WOJCIK\n0.21428571428571427\nBARTOSZ CICHOWSKI\n0.23076923076923078\n"
     ]
    },
    {
     "name": "stdout",
     "output_type": "stream",
     "text": [
      "BARTOSZ FRANCZAK\n0.24\nBARTOSZ HETMANSKI\n0.26666666666666666\nBARTOSZ JANIAK\n0.24\n"
     ]
    },
    {
     "name": "stdout",
     "output_type": "stream",
     "text": [
      "BARTOSZ JANUSZKIEWICZ\n0.1875\nBARTOSZ JASZCZAK\n0.2222222222222222\nBARTOSZ MADRY\n0.2608695652173913\n"
     ]
    },
    {
     "name": "stdout",
     "output_type": "stream",
     "text": [
      "BARTOSZ ORLOWSKI\n0.23076923076923078\nBARTOSZ SZATANIK\n0.24\nBARTOSZ WYSOCKI\n0.23076923076923078\n"
     ]
    },
    {
     "name": "stdout",
     "output_type": "stream",
     "text": [
      "BEATA JAROS\n0.3\nBEATA WINCZASZEK\n0.24\nBLAZEJ CEPIL\n0.2608695652173913\nBLAZEJ GWOZDECKI\n0.26666666666666666\n"
     ]
    },
    {
     "name": "stdout",
     "output_type": "stream",
     "text": [
      "BLAZEJ JANKOWIAK\n0.2222222222222222\nBLAZEJ KOWALEWSKI\n0.23076923076923078\nBLAZEJ PIETRZAK\n0.25\nCELINA URBANCZYK\n"
     ]
    },
    {
     "name": "stdout",
     "output_type": "stream",
     "text": [
      "0.24\nCEZARY DABROWSKI\n0.24\nDAGMARA KONIECZNA\n0.2222222222222222\nDAMIAN BIS\n"
     ]
    },
    {
     "name": "stdout",
     "output_type": "stream",
     "text": [
      "0.3157894736842105\nDAMIAN GRZEGORZEWSKI\n0.20689655172413793\nDAMIAN RUTKIEWICZ\n0.23076923076923078\nDAMIAN URBASZEWSKI\n0.2222222222222222\n"
     ]
    },
    {
     "name": "stdout",
     "output_type": "stream",
     "text": [
      "DAMIAN WOLAN\n0.2727272727272727\nDARIA KACZMAREK\n0.24\nDARIUSZ DANIELECKI\n0.2222222222222222\n"
     ]
    },
    {
     "name": "stdout",
     "output_type": "stream",
     "text": [
      "DARIUSZ OLSZEWSKI\n0.2222222222222222\nDARIUSZ RATAJCZYK\n0.23076923076923078\nDAVID BELTRAN RUIZ\n0.2222222222222222\n"
     ]
    },
    {
     "name": "stdout",
     "output_type": "stream",
     "text": [
      "DAVID MAYNARD\n0.2727272727272727\nDAWID CIESLICKI\n0.25\nDAWID JASINSKI\n0.2608695652173913\nDAWID KOBIERSKI\n0.25\n"
     ]
    },
    {
     "name": "stdout",
     "output_type": "stream",
     "text": [
      "DAWID MEGA\n0.3\nDAWID PAJAK\n0.2857142857142857\nDAWID PLUTA\n0.2857142857142857\nDAWID TRESCINSKI\n0.24\n"
     ]
    },
    {
     "name": "stdout",
     "output_type": "stream",
     "text": [
      "DAWID WOZNIAK\n0.2727272727272727\nDOMINIK BAS\n0.2857142857142857\nDOMINIK NISZEWSKI\n0.23076923076923078\nDOMINIKA CHMIEL\n0.24\n"
     ]
    },
    {
     "name": "stdout",
     "output_type": "stream",
     "text": [
      "DOMINIKA KOLODZIEJ\n0.21428571428571427\nDOROTA HOJDA\n0.2857142857142857\nDOROTA NOWOSWIECKA\n0.2222222222222222\nDOROTA OBIEGLO"
     ]
    },
    {
     "name": "stdout",
     "output_type": "stream",
     "text": [
      "\n0.25\nDOROTA SZUL\n0.3\nDZIANIS KAZHAMIAKIN\n0.20689655172413793\n"
     ]
    },
    {
     "name": "stdout",
     "output_type": "stream",
     "text": [
      "EDWARD WEINERT\n0.24\nEDYTA CHWIALKOWSKA\n0.2222222222222222\nEWA BORKOWSKA\n0.2727272727272727\n"
     ]
    },
    {
     "name": "stdout",
     "output_type": "stream",
     "text": [
      "EWA FURMANEK\n0.2857142857142857\nEWA KAMINSKA\n0.2857142857142857\nEWA SIERKA\n0.3157894736842105\nEWELINA BUBIEN\n0.25\n"
     ]
    },
    {
     "name": "stdout",
     "output_type": "stream",
     "text": [
      "EWELINA KIELKOWSKA-CZYZ\n0.19047619047619047\nEWELINA RESZYC\n0.2608695652173913\nEWELINA WOJCIESZAK\n0.2222222222222222\n"
     ]
    },
    {
     "name": "stdout",
     "output_type": "stream",
     "text": [
      "FILIP DRZEWIECKI\n0.23076923076923078\nFILIP LIPINSKI\n0.2608695652173913\nFILIP WOJCIK\n0.2727272727272727\nGABRIELA KOMOROWSKA\n0.21428571428571427\n"
     ]
    },
    {
     "name": "stdout",
     "output_type": "stream",
     "text": [
      "GABRIELA WIKTORZAK\n0.20689655172413793\nGABRIELA WYSOCKA\n0.24\nGRZEGORZ FRYDRYK\n0.21428571428571427\n"
     ]
    },
    {
     "name": "stdout",
     "output_type": "stream",
     "text": [
      "GRZEGORZ GONDEK\n0.22857142857142856\nGRZEGORZ JANKOWIAK\n0.20689655172413793\nGRZEGORZ KUBICZEK\n0.21428571428571427\n"
     ]
    },
    {
     "name": "stdout",
     "output_type": "stream",
     "text": [
      "GRZEGORZ KUPIDURA\n0.21428571428571427\nGRZEGORZ LONIEWSKI\n0.21428571428571427\nGRZEGORZ MAKARA\n0.23076923076923078\n"
     ]
    },
    {
     "name": "stdout",
     "output_type": "stream",
     "text": [
      "GRZEGORZ MALICKI\n0.2222222222222222\nGRZEGORZ MARSZALEK\n0.21428571428571427\nGRZEGORZ PAWELSKI\n0.2222222222222222\n"
     ]
    },
    {
     "name": "stdout",
     "output_type": "stream",
     "text": [
      "GRZEGORZ SITKOWSKI\n0.21428571428571427\nGRZEGORZ STRZELECKI\n0.20689655172413793\nGRZEGORZ TOSNOWIEC\n0.21428571428571427\n"
     ]
    },
    {
     "name": "stdout",
     "output_type": "stream",
     "text": [
      "GRZEGORZ ZAWALNICKI\n0.2\nHANNA JADCZYK\n0.2608695652173913\nHANNA SPYCHALSKA-WASZEK\n0.19047619047619047\n"
     ]
    },
    {
     "name": "stdout",
     "output_type": "stream",
     "text": [
      "IDA NOWAK\n0.3333333333333333\nIGA DUTCZAK\n0.2727272727272727\nIGOR TREGUB\n0.2727272727272727\nIRENEUSZ KUBAS\n0.25\n"
     ]
    },
    {
     "name": "stdout",
     "output_type": "stream",
     "text": [
      "IRENEUSZ PATALAS\n0.2222222222222222\nIRENEUSZ ZASADNI\n0.23076923076923078\nIULIIA ANTONETS\n0.25\nIURII BORSUK\n0.2608695652173913\n"
     ]
    },
    {
     "name": "stdout",
     "output_type": "stream",
     "text": [
      "IWONA LEWANDOWSKA\n0.23076923076923078\nIWONA PIATEK\n0.2608695652173913\nJACEK BIERNACKI\n0.25\nJACEK GACH\n0.3\n"
     ]
    },
    {
     "name": "stdout",
     "output_type": "stream",
     "text": [
      "JACEK GRATKA\n0.2857142857142857\nJACEK KOLONKO\n0.2608695652173913\nJACEK KRASNOBORSKI\n0.2222222222222222\n"
     ]
    },
    {
     "name": "stdout",
     "output_type": "stream",
     "text": [
      "JACEK KUCHARSKI\n0.25\nJACEK PARFIANOWICZ\n0.23076923076923078\nJACEK SLUPIANEK\n0.25\n"
     ]
    },
    {
     "name": "stdout",
     "output_type": "stream",
     "text": [
      "JACEK WANDYCZ\n0.2727272727272727\nJACEK WESOLOWSKI\n0.24\nJADWIGA JOZEFCZYK\n0.24\n"
     ]
    },
    {
     "name": "stdout",
     "output_type": "stream",
     "text": [
      "JAKUB BRYLAK\n0.2857142857142857\nJAKUB GARBOWSKI\n0.25\nJAKUB JAGOSZ\n0.2857142857142857\nJAKUB KACZMAREK\n0.25\n"
     ]
    },
    {
     "name": "stdout",
     "output_type": "stream",
     "text": [
      "JAKUB LUBERADZKI\n0.24\nJAKUB MAZUR\n0.3\nJAKUB MEDRZAK\n0.2727272727272727\n"
     ]
    },
    {
     "name": "stdout",
     "output_type": "stream",
     "text": [
      "JAKUB MICHALSKI\n0.25\nJAKUB MIELCZAREK\n0.24\nJAKUB MIODOWSKI\n0.27586206896551724\n"
     ]
    },
    {
     "name": "stdout",
     "output_type": "stream",
     "text": [
      "JAKUB RACZEK\n0.2857142857142857\nJAKUB RASZEWSKI\n0.25\nJAN GRZEGRZOLKA\n0.25\nJAN KEDZIERSKI\n0.2608695652173913\n"
     ]
    },
    {
     "name": "stdout",
     "output_type": "stream",
     "text": [
      "JAN MUCHA\n0.3333333333333333\nJAN ZAJAC\n0.3333333333333333\nJANUSZ GORAL\n0.2857142857142857\nJANUSZ PIKTA\n0.2608695652173913\n"
     ]
    },
    {
     "name": "stdout",
     "output_type": "stream",
     "text": [
      "JAROSLAW KATNIK\n0.23076923076923078\nJAROSLAW SZCZEGIELNIAK\n0.1935483870967742\nJAROSLAW SZMIGIEL\n0.23076923076923078\n"
     ]
    },
    {
     "name": "stdout",
     "output_type": "stream",
     "text": [
      "JAROSLAW WESELSKI\n0.21428571428571427\nJAROSLAW WOJCIAK\n0.2222222222222222\nJEDRZEJ PAWLAK\n0.25\n"
     ]
    },
    {
     "name": "stdout",
     "output_type": "stream",
     "text": [
      "JERZY WICKOWSKI\n0.24\nJOANNA BIENKIEWICZ\n0.2222222222222222\nJOANNA FARKAS\n0.2857142857142857\nJOANNA LIMBERGER\n0.24\n"
     ]
    },
    {
     "name": "stdout",
     "output_type": "stream",
     "text": [
      "JOANNA MAMCZYNSKA\n0.23076923076923078\nJOANNA PIATEK\n0.25\nJOANNA RADON\n0.2857142857142857\nJOLANTA BARAN\n0.2727272727272727\n"
     ]
    },
    {
     "name": "stdout",
     "output_type": "stream",
     "text": [
      "JOZEF KOZYRA\n0.25\nJULIA ORLOWSKA\n0.2608695652173913\nJULITA HAJTKO\n0.2727272727272727\nJUSTYN KAMINSKI\n0.25\n"
     ]
    },
    {
     "name": "stdout",
     "output_type": "stream",
     "text": [
      "JUSTYNA IWASIECZKO\n0.2222222222222222\nJUSTYNA JOB\n0.2857142857142857\nJUSTYNA KOZIEJ\n0.2608695652173913\nJUSTYNA ROMANOWSKA\n0.2222222222222222\n"
     ]
    },
    {
     "name": "stdout",
     "output_type": "stream",
     "text": [
      "KACPER KOZIMOR\n0.25\nKALINA PASTERNAK\n0.24\nKAMIL BUCZEK\n0.2608695652173913\n"
     ]
    },
    {
     "name": "stdout",
     "output_type": "stream",
     "text": [
      "KAMIL GREGORCZYK\n0.24\nKAMIL HALADUS\n0.2727272727272727\nKAMIL KARPOWICZ\n0.25\nKAMIL KOCIUGA\n0.25\n"
     ]
    },
    {
     "name": "stdout",
     "output_type": "stream",
     "text": [
      "KAMIL KONIECZNY\n0.25\nKAMIL KOWALCZYK\n0.23076923076923078\nKAMIL MARCINKOWSKI\n0.2222222222222222\n"
     ]
    },
    {
     "name": "stdout",
     "output_type": "stream",
     "text": [
      "KAMIL ROBAK\n0.3\nKAMIL WOJCIULEWICZ\n0.20689655172413793\nKAMILA MROZEK"
     ]
    },
    {
     "name": "stdout",
     "output_type": "stream",
     "text": [
      "\n0.2727272727272727\nKAMILA SLOWIK\n0.2727272727272727\nKAMILA WEGRZYN\n0.2608695652173913\nKAROL MOZDZIOCH\n"
     ]
    },
    {
     "name": "stdout",
     "output_type": "stream",
     "text": [
      "0.25\nKAROL STASINSKI\n0.25\nKAROL TOMASZEWSKI\n0.23076923076923078\nKAROL TUSZKIEWICZ"
     ]
    },
    {
     "name": "stdout",
     "output_type": "stream",
     "text": [
      "\n0.23076923076923078\nKAROLINA GLOWACKA\n0.21428571428571427\nKAROLINA GONET\n0.24\n"
     ]
    },
    {
     "name": "stdout",
     "output_type": "stream",
     "text": [
      "KAROLINA JAWORSKA\n0.23076923076923078\nKAROLINA KACPRZAK\n0.21428571428571427\n"
     ]
    },
    {
     "name": "stdout",
     "output_type": "stream",
     "text": [
      "KAROLINA LUSZCZEWSKA\n0.20689655172413793\nKAROLINA MADEJ-DEMPNIAK\n0.21739130434782608\nKATARZYNA FRANKIEWICZ\n0.1935483870967742\n"
     ]
    },
    {
     "name": "stdout",
     "output_type": "stream",
     "text": [
      "KATARZYNA GIL\n0.2608695652173913\nKATARZYNA JASION\n0.24\nKATARZYNA KOSOWSKA\n0.2222222222222222\n"
     ]
    },
    {
     "name": "stdout",
     "output_type": "stream",
     "text": [
      "KATARZYNA KUBAT-EIJERIKS\n0.20833333333333334\nKATARZYNA MOTYKA\n0.23076923076923078\nKATARZYNA NOWAK-RYBKA\n0.23809523809523808\n"
     ]
    },
    {
     "name": "stdout",
     "output_type": "stream",
     "text": [
      "KATARZYNA OSINSKA\n0.23076923076923078\nKATARZYNA PAJAK\n0.23076923076923078\nKATARZYNA PIETER\n0.2222222222222222\n"
     ]
    },
    {
     "name": "stdout",
     "output_type": "stream",
     "text": [
      "KATARZYNA SOBOTKA\n0.23076923076923078\nKEVIN CHARECKI\n0.24\nKLAUDIA EKIERT\n0.2608695652173913\n"
     ]
    },
    {
     "name": "stdout",
     "output_type": "stream",
     "text": [
      "KLAUDYNA NIECZYSZCZAK\n0.2\nKONRAD GANCZUK\n0.24\nKONRAD GLAC\n0.2857142857142857\nKONRAD LUKASIK"
     ]
    },
    {
     "name": "stdout",
     "output_type": "stream",
     "text": [
      "\n0.2608695652173913\nKONRAD SKRZYPEK\n0.25\nKONRAD SOBIESKI\n0.25\nKONRAD TILL"
     ]
    },
    {
     "name": "stdout",
     "output_type": "stream",
     "text": [
      "\n0.2857142857142857\nKOSMA TOMASZEK\n0.24\nKRYSTIAN CHWALISZ\n0.23076923076923078\nKRYSTIAN HORECKI"
     ]
    },
    {
     "name": "stdout",
     "output_type": "stream",
     "text": [
      "\n0.24\nKRZYSZTOF BARCZYK\n0.21428571428571427\nKRZYSZTOF BIEGLUK\n0.21428571428571427\n"
     ]
    },
    {
     "name": "stdout",
     "output_type": "stream",
     "text": [
      "KRZYSZTOF DOBOSZ\n0.2222222222222222\nKRZYSZTOF HADAS\n0.25\nKRZYSZTOF JADCZYK\n0.20689655172413793\nKRZYSZTOF JANAS\n0.24\n"
     ]
    },
    {
     "name": "stdout",
     "output_type": "stream",
     "text": [
      "KRZYSZTOF KEPA\n0.24\nKRZYSZTOF KISIEL\n0.2222222222222222\nKRZYSZTOF KOZIARSKI\n0.1935483870967742\n"
     ]
    },
    {
     "name": "stdout",
     "output_type": "stream",
     "text": [
      "KRZYSZTOF KOZLOWSKI\n0.2\nKRZYSZTOF KRAWCZYK\n0.20689655172413793\nKRZYSZTOF MIECHOWICZ\n0.20689655172413793\n"
     ]
    },
    {
     "name": "stdout",
     "output_type": "stream",
     "text": [
      "KRZYSZTOF MOSCICHOWSKI\n0.1935483870967742\nKRZYSZTOF NAJDA\n0.24\nKRZYSZTOF NOGA\n0.25\nKRZYSZTOF NOWAKOWSKI\n0.2\n"
     ]
    },
    {
     "name": "stdout",
     "output_type": "stream",
     "text": [
      "KRZYSZTOF PASZKO\n0.21428571428571427\nKRZYSZTOF POLASIK\n0.20689655172413793\nKRZYSZTOF RUDNICKI\n0.21428571428571427\nKRZYSZTOF SIUDA\n0.2222222222222222\n"
     ]
    },
    {
     "name": "stdout",
     "output_type": "stream",
     "text": [
      "KRZYSZTOF STANASZEK\n0.20689655172413793\nLAURA MILLER\n0.2727272727272727\nLESZEK SYTNIEWSKI\n0.2222222222222222\nLUDMILA KADZIOLKA\n0.2222222222222222\n"
     ]
    },
    {
     "name": "stdout",
     "output_type": "stream",
     "text": [
      "LUKASZ BLACHURA\n0.25\nLUKASZ BONIARCZYK\n0.23076923076923078\nLUKASZ BRODNY\n0.2727272727272727\nLUKASZ CIESIELSKI\n0.21428571428571427\n"
     ]
    },
    {
     "name": "stdout",
     "output_type": "stream",
     "text": [
      "LUKASZ CZARNY\n0.2727272727272727\nLUKASZ DERKACZ\n0.2608695652173913\nLUKASZ GORSKI\n0.2727272727272727\nLUKASZ JAWORSKI\n0.25\n"
     ]
    },
    {
     "name": "stdout",
     "output_type": "stream",
     "text": [
      "LUKASZ KADROW\n0.2727272727272727\nLUKASZ KORZENIOWSKI\n0.21428571428571427\nLUKASZ KORZENIOWSKI\n0.21428571428571427\n"
     ]
    },
    {
     "name": "stdout",
     "output_type": "stream",
     "text": [
      "LUKASZ KOZIEL\n0.25\nLUKASZ KRZYKOWSKI\n0.23076923076923078\nLUKASZ KUCZYNSKI\n0.2631578947368421\n"
     ]
    },
    {
     "name": "stdout",
     "output_type": "stream",
     "text": [
      "LUKASZ KUKLIS\n0.2857142857142857\nLUKASZ KULIK\n0.29411764705882354\nLUKASZ MALEC\n0.2727272727272727\nLUKASZ MARCZAK\n0.2608695652173913\n"
     ]
    },
    {
     "name": "stdout",
     "output_type": "stream",
     "text": [
      "LUKASZ MAREK\n0.2857142857142857\nLUKASZ MISZTAL\n0.25\nLUKASZ NIEDZWIECKI\n0.21428571428571427\nLUKASZ ORDON\n0.2857142857142857\n"
     ]
    },
    {
     "name": "stdout",
     "output_type": "stream",
     "text": [
      "LUKASZ RYBARCZYK\n0.24\nLUKASZ SAMIEC\n0.2727272727272727\nLUKASZ SOBCZYK\n0.2608695652173913\nLUKASZ SWIATKOWSKI\n0.2222222222222222\n"
     ]
    },
    {
     "name": "stdout",
     "output_type": "stream",
     "text": [
      "LUKASZ TOMALA\n0.2608695652173913\nLUKASZ WOJCICKI\n0.23076923076923078\nLUKASZ WYSOTA\n0.25\nMACIEJ BRYNDZA\n0.2608695652173913\n"
     ]
    },
    {
     "name": "stdout",
     "output_type": "stream",
     "text": [
      "MACIEJ GRZESIAK\n0.25\nMACIEJ HORBACZ\n0.2608695652173913\nMACIEJ JASTRZEBSKI\n0.2222222222222222\n"
     ]
    },
    {
     "name": "stdout",
     "output_type": "stream",
     "text": [
      "MACIEJ KIEDROWSKI\n0.23076923076923078\nMACIEJ KOPEC\n0.2608695652173913\n"
     ]
    },
    {
     "name": "stdout",
     "output_type": "stream",
     "text": [
      "MACIEJ NOHANOWICZ\n0.23076923076923078\nMACIEJ RUDY\n0.3\nMACIEJ TOPOROWICZ\n0.23076923076923078\n"
     ]
    },
    {
     "name": "stdout",
     "output_type": "stream",
     "text": [
      "MACIEJ TULAZA\n0.2727272727272727\nMACIEJ WAWRUSZCZAK\n0.2222222222222222\nMACIEJ WYRODEK\n0.2857142857142857\nMACIEJ ZIELINSKI\n0.24\n"
     ]
    },
    {
     "name": "stdout",
     "output_type": "stream",
     "text": [
      "MAGDA LENCZEWSKA\n0.24\nMAGDA RICHMOND\n0.2608695652173913\nMAGDALENA GLOWACKA\n0.21428571428571427\n"
     ]
    },
    {
     "name": "stdout",
     "output_type": "stream",
     "text": [
      "MAGDALENA JARGUZ\n0.24\nMAGDALENA KEDZIORA\n0.2222222222222222\nMAGDALENA LESZCZYC-LASKOWSKA\n0.2127659574468085\n"
     ]
    },
    {
     "name": "stdout",
     "output_type": "stream",
     "text": [
      "MAGDALENA MUCHA\n0.25\nMAGDALENA NOGA\n0.24\nMAGDALENA SITEK\n0.25\n"
     ]
    },
    {
     "name": "stdout",
     "output_type": "stream",
     "text": [
      "MAGDALENA SOJA\n0.2608695652173913\nMAGDALENA WASCINSKA\n0.21428571428571427\nMAGDALENA WROBLEWSKA\n0.20689655172413793\n"
     ]
    },
    {
     "name": "stdout",
     "output_type": "stream",
     "text": [
      "MAJA BANASZEWSKA-DUDEK\n0.22727272727272727\nMAKSYMILIAN KANOZA\n0.20689655172413793\nMALGORZATA CIESIELSKA\n0.2\n"
     ]
    },
    {
     "name": "stdout",
     "output_type": "stream",
     "text": [
      "MALGORZATA KARCZEWSKA\n0.2\nMALGORZATA KRASZEWSKA\n0.2\n"
     ]
    },
    {
     "name": "stdout",
     "output_type": "stream",
     "text": [
      "MALGORZATA MLONEK-PEC\n0.23809523809523808\nMALGORZATA PODSIADLO\n0.20689655172413793\nMALGORZATA SLOWIK\n0.23076923076923078\n"
     ]
    },
    {
     "name": "stdout",
     "output_type": "stream",
     "text": [
      "MALWINA SIEK\n0.2857142857142857\nMALWINA SWIATEK\n0.25\nMARCEL FALKIEWICZ\n0.2222222222222222\nMARCELI GRABOWSKI\n0.23076923076923078\n"
     ]
    },
    {
     "name": "stdout",
     "output_type": "stream",
     "text": [
      "MARCIN BARABASZ\n0.25\nMARCIN BIEN\n0.2857142857142857\nMARCIN BIERNACIK\n0.23076923076923078\nMARCIN FABER\n0.2727272727272727\n"
     ]
    },
    {
     "name": "stdout",
     "output_type": "stream",
     "text": [
      "MARCIN GLAC\n0.2857142857142857\nMARCIN GRUDZINSKI\n0.23076923076923078\nMARCIN JANIK\n0.2608695652173913\nMARCIN KIEPAL\n0.2608695652173913\n"
     ]
    },
    {
     "name": "stdout",
     "output_type": "stream",
     "text": [
      "MARCIN KOWALSKI\n0.25\nMARCIN MACIEJEWSKI\n0.2222222222222222\nMARCIN MEDAK\n0.2727272727272727\n"
     ]
    },
    {
     "name": "stdout",
     "output_type": "stream",
     "text": [
      "MARCIN MUSIAL\n0.2727272727272727\nMARCIN PASTERNAK\n0.24\nMARCIN PIETRZYK\n0.23076923076923078\n"
     ]
    },
    {
     "name": "stdout",
     "output_type": "stream",
     "text": [
      "MARCIN PILARCZYK\n0.23076923076923078\nMARCIN PRZEPIORKOWSKI\n0.2\nMARCIN RADLAK\n0.2727272727272727\n"
     ]
    },
    {
     "name": "stdout",
     "output_type": "stream",
     "text": [
      "MARCIN RYCHTER\n0.2608695652173913\nMARCIN SKOWRONSKI\n0.23076923076923078\nMARCIN SLUSARCZYK\n0.23076923076923078\nMARCIN ZAJAC\n0.2608695652173913\n"
     ]
    },
    {
     "name": "stdout",
     "output_type": "stream",
     "text": [
      "MARCIN ZYBURA\n0.2608695652173913\nMAREK BLAZEJOWSKI\n0.23076923076923078\nMAREK GRONOSTAJSKI\n0.2222222222222222\n"
     ]
    },
    {
     "name": "stdout",
     "output_type": "stream",
     "text": [
      "MAREK MATYS\n0.3\nMAREK TRZASKOWSKI\n0.23076923076923078\nMAREK TYWONIAK\n0.25\nMAREK WISNIEWSKI\n0.24\n"
     ]
    },
    {
     "name": "stdout",
     "output_type": "stream",
     "text": [
      "MARIA MISZTAL\n0.2727272727272727\nMARIA WAWRYCZUK\n0.23076923076923078\nMARIUSZ JADACH\n0.2608695652173913\nMARIUSZ ROKITA\n0.2608695652173913\n"
     ]
    },
    {
     "name": "stdout",
     "output_type": "stream",
     "text": [
      "MARIUSZ WOZNIAK\n0.25\nMARTA CZWOJDZINSKA\n0.2222222222222222\nMARTA DRZEWINSKA\n0.24\n"
     ]
    },
    {
     "name": "stdout",
     "output_type": "stream",
     "text": [
      "MARTA DUDEK\n0.2727272727272727\nMARTA DYCJAN\n0.2608695652173913\nMARTA GORALIK\n0.2608695652173913"
     ]
    },
    {
     "name": "stdout",
     "output_type": "stream",
     "text": [
      "\nMARTA GREGORCZYK\n0.2222222222222222\nMARTA KACPRZAK\n0.24\n"
     ]
    },
    {
     "name": "stdout",
     "output_type": "stream",
     "text": [
      "MARTA KARBOWSKA\n0.25\nMARTA KOCAJ\n0.2727272727272727\nMARTA KOZLOWSKA\n0.25\nMARTA LACH\n0.3157894736842105\n"
     ]
    },
    {
     "name": "stdout",
     "output_type": "stream",
     "text": [
      "MARTA MACIASZEK\n0.25\nMARTA MARKIEWICZ\n0.23076923076923078\n"
     ]
    },
    {
     "name": "stdout",
     "output_type": "stream",
     "text": [
      "MARTA MICHALCZEWSKA\n0.21428571428571427\nMARTA MONDZELEWSKA\n0.2222222222222222\nMARTA NOWIK\n"
     ]
    },
    {
     "name": "stdout",
     "output_type": "stream",
     "text": [
      "0.2727272727272727\nMARTA PARADOWSKA\n0.24\nMARTA SCIEGLINSKA-SZTABA\n0.23255813953488372\nMARTA WLODARCZYK\n0.23076923076923078\n"
     ]
    },
    {
     "name": "stdout",
     "output_type": "stream",
     "text": [
      "MARTYNA FIJOLEK\n0.24\nMARZENA PIETRUS\n0.25\nMATEUSZ BODZIONY\n0.2222222222222222\n"
     ]
    },
    {
     "name": "stdout",
     "output_type": "stream",
     "text": [
      "MATEUSZ CYRZAN\n0.2608695652173913\nMATEUSZ CZERNIAWSKI\n0.21428571428571427\nMATEUSZ GIZA\n0.2608695652173913\n"
     ]
    },
    {
     "name": "stdout",
     "output_type": "stream",
     "text": [
      "MATEUSZ GROMULSKI\n0.23076923076923078\nMATEUSZ PACHOLEC\n0.23076923076923078\n"
     ]
    },
    {
     "name": "stdout",
     "output_type": "stream",
     "text": [
      "MATEUSZ PUSTELNIK\n0.2222222222222222\nMATEUSZ RAZNIAK\n0.25\n"
     ]
    },
    {
     "name": "stdout",
     "output_type": "stream",
     "text": [
      "MATEUSZ ROZANSKI\n0.24\nMATEUSZ ZAJAC\n0.25\nMATEUSZ ZIETA\n0.25\n"
     ]
    },
    {
     "name": "stdout",
     "output_type": "stream",
     "text": [
      "MICHAL BUCZKO\n0.25\nMICHAL DRON"
     ]
    },
    {
     "name": "stdout",
     "output_type": "stream",
     "text": [
      "\n0.3\nMICHAL GALINSKI\n0.25\nMICHAL GLOGIEWICZ\n0.21428571428571427\n"
     ]
    },
    {
     "name": "stdout",
     "output_type": "stream",
     "text": [
      "MICHAL GLOWACZEWSKI\n0.21428571428571427\nMICHAL GLUSZCZAK\n0.24\nMICHAL GOGOL"
     ]
    },
    {
     "name": "stdout",
     "output_type": "stream",
     "text": [
      "\n0.2608695652173913\nMICHAL GOLKA\n0.2608695652173913\nMICHAL GORNIK"
     ]
    },
    {
     "name": "stdout",
     "output_type": "stream",
     "text": [
      "\n0.2727272727272727\nMICHAL HRYNCEWICZ\n0.23076923076923078\n"
     ]
    },
    {
     "name": "stdout",
     "output_type": "stream",
     "text": [
      "MICHAL JAKUBIUK\n0.23076923076923078\nMICHAL JANKOWSKI\n0.24\n"
     ]
    },
    {
     "name": "stdout",
     "output_type": "stream",
     "text": [
      "MICHAL KOPEC\n0.2608695652173913\nMICHAL KOZIAROWSKI\n0.2222222222222222\nMICHAL KOZLOWSKI\n"
     ]
    },
    {
     "name": "stdout",
     "output_type": "stream",
     "text": [
      "0.24\nMICHAL LAPETA\n0.2608695652173913\nMICHAL LENARTOWICZ\n0.2222222222222222\nMICHAL MARKOWSKI\n0.24\nMICHAL NIEZBORALA\n0.23076923076923078\n"
     ]
    },
    {
     "name": "stdout",
     "output_type": "stream",
     "text": [
      "MICHAL OCZKOWICZ\n0.2222222222222222\nMICHAL PINDYCH\n0.2608695652173913\nMICHAL ROME\n0.3\n"
     ]
    },
    {
     "name": "stdout",
     "output_type": "stream",
     "text": [
      "MICHAL STANKIEWICZ\n0.2222222222222222\nMICHAL SWIETLIK\n0.25\nMICHAL SZEREMETA\n0.24\n"
     ]
    },
    {
     "name": "stdout",
     "output_type": "stream",
     "text": [
      "MICHAL TABOLA\n0.25\nMICHAL TARASEWICZ\n0.23076923076923078\nMIKOLAJ HOLCMAN\n0.25\n"
     ]
    },
    {
     "name": "stdout",
     "output_type": "stream",
     "text": [
      "MIKOLAJ KOWALCZYK\n0.23076923076923078\nMIKOLAJ RADOJEWSKI\n0.2222222222222222\nMILENA JEZIORNA\n0.25\nMILENA ROGALA\n"
     ]
    },
    {
     "name": "stdout",
     "output_type": "stream",
     "text": [
      "0.2727272727272727\nMIROSLAW KARPIEWSKI\n0.2\nMONIKA GORZELAK\n0.25\nMONIKA GORZELAK-BIENKO\n0.22727272727272727\n"
     ]
    },
    {
     "name": "stdout",
     "output_type": "stream",
     "text": [
      "MONIKA GRZECH\n0.2727272727272727\nMONIKA LASZCZYNSKA\n0.2222222222222222\nNATALIA MYSLAK\n0.2608695652173913\nNATALLIA KEDRAVA\n0.24\n"
     ]
    },
    {
     "name": "stdout",
     "output_type": "stream",
     "text": [
      "NIKOS CZUCZOS\n0.24\nNINA KOLODZIEJEK\n0.23076923076923078\nNINA LEMIESZEWSKA\n0.23076923076923078\nNINA WOJCIK\n0.2727272727272727\n"
     ]
    },
    {
     "name": "stdout",
     "output_type": "stream",
     "text": [
      "OKSANA KRYSIUK\n0.2608695652173913\nOLGA BETIUK\n0.2727272727272727\nOLGA LAVRYNENKO\n0.25\nOLGA SZYMCZYK\n0.2727272727272727\n"
     ]
    },
    {
     "name": "stdout",
     "output_type": "stream",
     "text": [
      "OSKAR KUNICKI\n0.2608695652173913\nPATRYK CZECZOT\n0.25\nPATRYK HEMPEREK\n0.25\n"
     ]
    },
    {
     "name": "stdout",
     "output_type": "stream",
     "text": [
      "PATRYK KULECKI\n0.25\nPATRYK LOTZWI\n0.2608695652173913\nPAULA BRYSIK\n0.2857142857142857\nPAULA LACZYNSKA\n0.25\n"
     ]
    },
    {
     "name": "stdout",
     "output_type": "stream",
     "text": [
      "PAULINA CHYBICKA\n0.24\nPAULINA KUDACH\n0.2608695652173913\nPAULINA MACHOWSKA\n0.23076923076923078\nPAULINA MLYNSKA\n0.25\n"
     ]
    },
    {
     "name": "stdout",
     "output_type": "stream",
     "text": [
      "PAULINA PALUCH\n0.2608695652173913\nPAULINA ROSZCZAK-SLIWA\n0.24390243902439024\nPAULINA SIELSKA\n0.25\nPAULINA SWISTACZ-GRZYWA\n0.21739130434782608\n"
     ]
    },
    {
     "name": "stdout",
     "output_type": "stream",
     "text": [
      "PAWEL BAJ\n0.3333333333333333\nPAWEL BAJRAK\n0.2857142857142857\nPAWEL BORKOWSKI\n0.25\nPAWEL BUTYLINSKI\n0.24\n"
     ]
    },
    {
     "name": "stdout",
     "output_type": "stream",
     "text": [
      "PAWEL GORECKI\n0.2727272727272727\nPAWEL GRUDZINSKI\n0.24\nPAWEL GRUNDYS\n0.2727272727272727\nPAWEL GRZYWACZ\n0.2608695652173913\n"
     ]
    },
    {
     "name": "stdout",
     "output_type": "stream",
     "text": [
      "PAWEL HAJZER\n0.2857142857142857\nPAWEL JABLONSKI\n0.25\n"
     ]
    },
    {
     "name": "stdout",
     "output_type": "stream",
     "text": [
      "PAWEL JACKIEWICZ\n0.23076923076923078\nPAWEL JAROSZ\n0.2857142857142857\nPAWEL KOSTECKI\n0.2608695652173913\n"
     ]
    },
    {
     "name": "stdout",
     "output_type": "stream",
     "text": [
      "PAWEL KRAWCZYK\n0.2608695652173913\nPAWEL KRECIWILK\n0.25\nPAWEL KWIATKOWSKI\n0.23076923076923078\n"
     ]
    },
    {
     "name": "stdout",
     "output_type": "stream",
     "text": [
      "PAWEL MURACZEWSKI\n0.23076923076923078\nPAWEL OZOG\n0.3\nPAWEL PRAJZNER\n0.2608695652173913\nPAWEL PROCUKIEWICZ\n"
     ]
    },
    {
     "name": "stdout",
     "output_type": "stream",
     "text": [
      "0.2222222222222222\nPAWEL RAWSKI\n0.2857142857142857\nPAWEL RYGOWSKI\n0.2608695652173913\nPAWEL SKORNICZ\n0.2608695652173913\nPAWEL STOPINSKI\n0.25\n"
     ]
    },
    {
     "name": "stdout",
     "output_type": "stream",
     "text": [
      "PAWEL STRYCZEK\n0.2608695652173913\nPAWEL TUREK\n0.3\nPAWEL URBAN\n0.3\nPAWEL WASIK\n0.3\n"
     ]
    },
    {
     "name": "stdout",
     "output_type": "stream",
     "text": [
      "PAWEL WORONIECKI\n0.24\nPAWEL ZAJAC\n0.2727272727272727\n"
     ]
    },
    {
     "name": "stdout",
     "output_type": "stream",
     "text": [
      "PAWEL ZAPALOWSKI\n0.24\nPETRO ROGUTSKYI\n0.24\n"
     ]
    },
    {
     "name": "stdout",
     "output_type": "stream",
     "text": [
      "PIOTR BARANOWSKI\n0.24\nPIOTR BARCZYNSKI\n0.24\n"
     ]
    },
    {
     "name": "stdout",
     "output_type": "stream",
     "text": [
      "PIOTR BLAZKOWSKI\n0.24\nPIOTR BUGAJ\n0.3\nPIOTR CHRZCZONOWICZ"
     ]
    },
    {
     "name": "stdout",
     "output_type": "stream",
     "text": [
      "\n0.21428571428571427\nPIOTR CZAPLA\n0.2608695652173913\nPIOTR FALKOWSKI\n0.24\n"
     ]
    },
    {
     "name": "stdout",
     "output_type": "stream",
     "text": [
      "PIOTR GORZELANY\n0.25\nPIOTR HEPNER\n0.2857142857142857\nPIOTR IZAK\n0.3\nPIOTR JAMINSKI\n0.2608695652173913\n"
     ]
    },
    {
     "name": "stdout",
     "output_type": "stream",
     "text": [
      "PIOTR KLAMERUS\n0.25\nPIOTR KLIMISZ\n0.2608695652173913\nPIOTR KLYS\n0.3\nPIOTR KROL\n0.3\n"
     ]
    },
    {
     "name": "stdout",
     "output_type": "stream",
     "text": [
      "PIOTR KWIATKOWSKI\n0.2222222222222222\nPIOTR MACIOCHA\n0.2608695652173913\nPIOTR MAJSTEREK\n0.24\nPIOTR MANIEWSKI\n"
     ]
    },
    {
     "name": "stdout",
     "output_type": "stream",
     "text": [
      "0.25\nPIOTR MAZUR\n0.2727272727272727\nPIOTR MITKA\n0.2857142857142857\nPIOTR OSTROWSKI\n0.24\n"
     ]
    },
    {
     "name": "stdout",
     "output_type": "stream",
     "text": [
      "PIOTR PIECHURA\n0.2608695652173913\nPIOTR TOMCZYK\n0.2608695652173913\nPIOTR TORONCZAK\n0.25\nPIOTR WINIARSKI\n0.25\n"
     ]
    },
    {
     "name": "stdout",
     "output_type": "stream",
     "text": [
      "PIOTR ZABINSKI\n0.2608695652173913\nPIOTR ZAJAC\n0.2727272727272727\nPIOTR ZUZAK\n0.2857142857142857\nPRZEMYSLAW GONIOWSKI\n0.2\n"
     ]
    },
    {
     "name": "stdout",
     "output_type": "stream",
     "text": [
      "PRZEMYSLAW JASKOLOWSKI\n0.1875\nPRZEMYSLAW KIELMAN\n0.21428571428571427\nPRZEMYSLAW KRYSTKOWIAK"
     ]
    },
    {
     "name": "stdout",
     "output_type": "stream",
     "text": [
      "\n0.1875\nPRZEMYSLAW PILZYS\n0.2222222222222222\nPRZEMYSLAW RADON\n0.24\n"
     ]
    },
    {
     "name": "stdout",
     "output_type": "stream",
     "text": [
      "RADOSLAW BIENIEK\n0.23076923076923078\nRADOSLAW GNUTEK\n0.24\nRADOSLAW JANKOWSKI\n0.21428571428571427\n"
     ]
    },
    {
     "name": "stdout",
     "output_type": "stream",
     "text": [
      "RADOSLAW JANKOWSKI\n0.21428571428571427\nRADOSLAW MAZIARKA\n0.2222222222222222\nRADOSLAW PRETCZYNSKI\n0.2\n"
     ]
    },
    {
     "name": "stdout",
     "output_type": "stream",
     "text": [
      "RADOSLAW STAWIARSKI\n0.21428571428571427\nRADOSLAW WOZNIAKOWSKI\n0.1935483870967742\nRADOSLAW ZACHARZEWSKI\n0.2\n"
     ]
    },
    {
     "name": "stdout",
     "output_type": "stream",
     "text": [
      "RAFAEL FRACEK\n0.2608695652173913\nRAFAL BAJNO\n0.2727272727272727\nRAFAL CZAKON\n0.2608695652173913\nRAFAL KOWALIK\n0.25\n"
     ]
    },
    {
     "name": "stdout",
     "output_type": "stream",
     "text": [
      "RAFAL LUKJANOWICZ\n0.2222222222222222\nRAFAL LYDUCH\n0.2857142857142857\nRAFAL MOJZA\n0.2857142857142857\nRAFAL PYTKOWSKI"
     ]
    },
    {
     "name": "stdout",
     "output_type": "stream",
     "text": [
      "\n0.25\nRAFAL SZAMPERA\n0.2608695652173913\nRAFAL SZYMCZAK\n0.2608695652173913\nRENATA WODA\n0.2857142857142857\n"
     ]
    },
    {
     "name": "stdout",
     "output_type": "stream",
     "text": [
      "ROBERT GRUSZKA\n0.25\nROBERT KALINA\n0.25\nROMAN CZARKO-WASIUTYCZ\n0.22727272727272727\n"
     ]
    },
    {
     "name": "stdout",
     "output_type": "stream",
     "text": [
      "ROMAN MORDAK\n0.2727272727272727\nROMAN TRACZ\n0.2727272727272727\nRYSZARD SENIUTA\n0.25\nRYSZARD ZUKOWSKI"
     ]
    },
    {
     "name": "stdout",
     "output_type": "stream",
     "text": [
      "\n0.23076923076923078\nSANDRA KUBICKA\n0.25\nSANDRA SAMOR\n0.2857142857142857\nSEBASTIAN BANASZAK\n0.21428571428571427\n"
     ]
    },
    {
     "name": "stdout",
     "output_type": "stream",
     "text": [
      "SEBASTIAN LEWANDOWSKI\n0.1935483870967742\nSEBASTIAN NAWARA\n0.24\nSERGII POVZANIUK\n0.24\n"
     ]
    },
    {
     "name": "stdout",
     "output_type": "stream",
     "text": [
      "SERGIUSZ WOLEWICZ\n0.21428571428571427\nSERGIUSZ WOZNICKI\n0.23076923076923078\nSERHII KRYVETS\n0.24\n"
     ]
    },
    {
     "name": "stdout",
     "output_type": "stream",
     "text": [
      "SEWERYN KRACZYNSKI\n0.20689655172413793\nSLAWOMIR KOPACZ\n0.23076923076923078\nSLAWOMIR PACIA\n0.24\n"
     ]
    },
    {
     "name": "stdout",
     "output_type": "stream",
     "text": [
      "SLAWOMIR SOLKIEWICZ\n0.21428571428571427\nSTEFANIA KOLARZ\n0.25\nSTEFANIA WINKEL\n0.24\n"
     ]
    },
    {
     "name": "stdout",
     "output_type": "stream",
     "text": [
      "SYLWESTER KRASZKIEWICZ\n0.18181818181818182\nSYLWESTER NIEMIEC\n0.21428571428571427\nSYLWIA CZAJKOWSKA\n0.21428571428571427\n"
     ]
    },
    {
     "name": "stdout",
     "output_type": "stream",
     "text": [
      "SYLWIA GREZAK\n0.2727272727272727\nSYLWIA KACPERSKA\n0.24\nSYLWIA SIEWIERTOKA\n0.2222222222222222\n"
     ]
    },
    {
     "name": "stdout",
     "output_type": "stream",
     "text": [
      "TOMASZ BIELASZEWSKI\n0.20689655172413793\nTOMASZ BIEN\n0.2727272727272727\n"
     ]
    },
    {
     "name": "stdout",
     "output_type": "stream",
     "text": [
      "TOMASZ CZYZKOWSKI\n0.21428571428571427\nTOMASZ DABROWSKI\n0.24\nTOMASZ FAJKS\n0.2727272727272727\n"
     ]
    },
    {
     "name": "stdout",
     "output_type": "stream",
     "text": [
      "TOMASZ FILAK\n0.2727272727272727\nTOMASZ GOLEBIOWSKI\n0.21428571428571427\nTOMASZ JASINSKI\n0.23076923076923078\n"
     ]
    },
    {
     "name": "stdout",
     "output_type": "stream",
     "text": [
      "TOMASZ KOZLOWSKI\n0.23076923076923078\nTOMASZ KRAKOWCZYK\n0.23076923076923078\nTOMASZ KRASNODEBSKI"
     ]
    },
    {
     "name": "stdout",
     "output_type": "stream",
     "text": [
      "\n0.21428571428571427\nTOMASZ LEHMAN\n0.2608695652173913\nTOMASZ LUKASIEWICZ\n0.21428571428571427\n"
     ]
    },
    {
     "name": "stdout",
     "output_type": "stream",
     "text": [
      "TOMASZ PASZEK\n0.25\nTOMASZ PIERONEK\n0.25\nTOMASZ POROSINSKI\n0.23076923076923078\n"
     ]
    },
    {
     "name": "stdout",
     "output_type": "stream",
     "text": [
      "TOMASZ ROMANOWSKI\n0.23076923076923078\nTOMASZ SKIBICKI\n0.25\nTOMASZ SMOLINSKI\n0.24\n"
     ]
    },
    {
     "name": "stdout",
     "output_type": "stream",
     "text": [
      "TOMASZ SUCHAN\n0.2727272727272727\nTOMASZ SZPYTKO\n0.2608695652173913\nTOMASZ TOKARSKI\n0.25\nTOMASZ TRYBALA\n"
     ]
    },
    {
     "name": "stdout",
     "output_type": "stream",
     "text": [
      "0.2608695652173913\nURSZULA ADAMSKA\n0.24\nURSZULA GAZDA\n0.25\nURSZULA KRUPA-SAWICKA\n0.23809523809523808\n"
     ]
    },
    {
     "name": "stdout",
     "output_type": "stream",
     "text": [
      "URSZULA PUKALSKA\n0.2222222222222222\nVICTOR MARTINEZ ROIG\n0.25\nWALDEMAR SZUMIGAJ\n0.23076923076923078\n"
     ]
    },
    {
     "name": "stdout",
     "output_type": "stream",
     "text": [
      "WERONIKA MORISSON-GLAPA\n0.21739130434782608\nWERONIKA NOWACKA\n0.24\nWERONIKA SABINIEWICZ\n0.20689655172413793\n"
     ]
    },
    {
     "name": "stdout",
     "output_type": "stream",
     "text": [
      "WERONIKA TOBOR\n0.25\nWIOLETA PATKOWSKA\n0.23076923076923078\n"
     ]
    },
    {
     "name": "stdout",
     "output_type": "stream",
     "text": [
      "WITOLD ERGIETOWSKI\n0.21428571428571427\nWOJCIECH CHROBAK\n0.2222222222222222\nWOJCIECH CZUJOWSKI\n0.2222222222222222\n"
     ]
    },
    {
     "name": "stdout",
     "output_type": "stream",
     "text": [
      "WOJCIECH DOLISZNY\n0.23076923076923078\nWOJCIECH DUTKIEWICZ\n0.21428571428571427\nWOJCIECH DZIKOWICZ\n0.2222222222222222\nWOJCIECH JAKUBOWSKI\n0.20689655172413793\n"
     ]
    },
    {
     "name": "stdout",
     "output_type": "stream",
     "text": [
      "WOJCIECH KACZMAREK\n0.2222222222222222\nWOJCIECH KROLIKOWSKI\n0.2\nWOJCIECH LUCIOW\n0.20689655172413793\n"
     ]
    },
    {
     "name": "stdout",
     "output_type": "stream",
     "text": [
      "WOJCIECH MACHNIAK\n0.23076923076923078\nWOJCIECH MIODEK\n0.25\nWOJCIECH NOWAK\n0.2608695652173913\nWOJCIECH OSTROWSKI\n0.21428571428571427\n"
     ]
    },
    {
     "name": "stdout",
     "output_type": "stream",
     "text": [
      "WOJCIECH SOLTYSIK\n0.2222222222222222\nWOJCIECH WYZGA\n0.2608695652173913\nYAROSLAV GONTAR\n0.23076923076923078\nZBIGNIEW RUBINSKI\n0.2222222222222222\n"
     ]
    },
    {
     "name": "stdout",
     "output_type": "stream",
     "text": [
      "ZUZANNA KOKOSZKA\n0.24\n"
     ]
    }
   ],
   "source": [
    "matched_employees = salaries.groupby(['CorrectedFinanceName', 'FinanceEnglishPosition']).apply(get_matched_record).reset_index()"
   ]
  },
  {
   "cell_type": "code",
   "execution_count": 684,
   "metadata": {},
   "outputs": [],
   "source": [
    "matched_employees = matched_employees.drop(['level_2'], axis=1)"
   ]
  },
  {
   "cell_type": "code",
   "execution_count": 685,
   "metadata": {},
   "outputs": [
    {
     "data": {
      "text/plain": [
       "(706, 14)"
      ]
     },
     "execution_count": 685,
     "metadata": {},
     "output_type": "execute_result"
    }
   ],
   "source": [
    "merged_salary = salaries.merge(matched_employees, how=\"outer\")\n",
    "merged_salary.shape\n"
   ]
  },
  {
   "cell_type": "code",
   "execution_count": 686,
   "metadata": {},
   "outputs": [],
   "source": [
    "merged_salary['Ratio'] = merged_salary['MatchedNameRatio'] * merged_salary['MatchedPositionRatio']"
   ]
  },
  {
   "cell_type": "code",
   "execution_count": 687,
   "metadata": {},
   "outputs": [
    {
     "data": {
      "text/html": [
       "<div>\n",
       "<style scoped>\n",
       "    .dataframe tbody tr th:only-of-type {\n",
       "        vertical-align: middle;\n",
       "    }\n",
       "\n",
       "    .dataframe tbody tr th {\n",
       "        vertical-align: top;\n",
       "    }\n",
       "\n",
       "    .dataframe thead th {\n",
       "        text-align: right;\n",
       "    }\n",
       "</style>\n",
       "<table border=\"1\" class=\"dataframe\">\n",
       "  <thead>\n",
       "    <tr style=\"text-align: right;\">\n",
       "      <th></th>\n",
       "      <th>FinanceName</th>\n",
       "      <th>FinancePosition</th>\n",
       "      <th>MatchedPosition</th>\n",
       "    </tr>\n",
       "  </thead>\n",
       "  <tbody>\n",
       "    <tr>\n",
       "      <th>1</th>\n",
       "      <td>ADAMSKA-WOŹNY ALEKSANDRA</td>\n",
       "      <td>Assistant Guild Master</td>\n",
       "      <td>Assistants Guild Manager</td>\n",
       "    </tr>\n",
       "    <tr>\n",
       "      <th>2</th>\n",
       "      <td>ANDRUSIECZKO ANDRZEJ</td>\n",
       "      <td>Junior Quality Engineer/ Młodszy Tester Oprogr...</td>\n",
       "      <td>Junior Quality Engineer</td>\n",
       "    </tr>\n",
       "    <tr>\n",
       "      <th>3</th>\n",
       "      <td>ANDRZEJEWSKI ADRIAN</td>\n",
       "      <td>Chapter Leader Service Delivery Manager</td>\n",
       "      <td>Chapter Leader Service Delivery Manager</td>\n",
       "    </tr>\n",
       "    <tr>\n",
       "      <th>4</th>\n",
       "      <td>ANTONETS IULIIA</td>\n",
       "      <td>ANALITYK BIZNESOWY</td>\n",
       "      <td>Quality Engineer</td>\n",
       "    </tr>\n",
       "    <tr>\n",
       "      <th>6</th>\n",
       "      <td>Badura ALEKSANDER</td>\n",
       "      <td>Senior Automation Quality Engineer/Starszy Tester</td>\n",
       "      <td>Automation Quality Engineer</td>\n",
       "    </tr>\n",
       "    <tr>\n",
       "      <th>10</th>\n",
       "      <td>BARTNIKIEWICZ AGNIESZKA</td>\n",
       "      <td>Personal Assistant</td>\n",
       "      <td>Attract Lead HR Business Partner</td>\n",
       "    </tr>\n",
       "    <tr>\n",
       "      <th>11</th>\n",
       "      <td>BARTOSIEWICZ ANNA</td>\n",
       "      <td>Finance Project Office Specialist</td>\n",
       "      <td>Finance Project Office Specialist</td>\n",
       "    </tr>\n",
       "    <tr>\n",
       "      <th>13</th>\n",
       "      <td>BEDNAREK AGATA</td>\n",
       "      <td>BUSINESS ANALYST /  Analityk Biznesowy</td>\n",
       "      <td>Business Analyst</td>\n",
       "    </tr>\n",
       "    <tr>\n",
       "      <th>15</th>\n",
       "      <td>BIENKIEWICZ JOANNA</td>\n",
       "      <td>Quality Engineer</td>\n",
       "      <td>Quality Engineer</td>\n",
       "    </tr>\n",
       "    <tr>\n",
       "      <th>19</th>\n",
       "      <td>BŁAŻKOWSKI PIOTR</td>\n",
       "      <td>TEAM LEADER SENIOR QUALITY ENGINEER</td>\n",
       "      <td>Team Leader Senior Quality Engineer</td>\n",
       "    </tr>\n",
       "    <tr>\n",
       "      <th>20</th>\n",
       "      <td>Boniarczyk Łukasz</td>\n",
       "      <td>Senior Software Developer / Starszy Programista</td>\n",
       "      <td>Senior Software Developer</td>\n",
       "    </tr>\n",
       "    <tr>\n",
       "      <th>30</th>\n",
       "      <td>BUGAJ Piotr</td>\n",
       "      <td>SOFTWARE  DEVELOPER / Programista</td>\n",
       "      <td>Software Developer</td>\n",
       "    </tr>\n",
       "    <tr>\n",
       "      <th>33</th>\n",
       "      <td>CHARECKI KEVIN</td>\n",
       "      <td>Software Developer / Programista</td>\n",
       "      <td>Attract Lead HR Business Partner</td>\n",
       "    </tr>\n",
       "    <tr>\n",
       "      <th>36</th>\n",
       "      <td>CHWALISZ KRYSTIAN</td>\n",
       "      <td>TRIBE MASTER</td>\n",
       "      <td>Tribe Master</td>\n",
       "    </tr>\n",
       "    <tr>\n",
       "      <th>37</th>\n",
       "      <td>CHYBICKA PAULINA</td>\n",
       "      <td>JUNIOR PAYROLL SPECIALIST</td>\n",
       "      <td>Junior Payroll Specialist</td>\n",
       "    </tr>\n",
       "    <tr>\n",
       "      <th>39</th>\n",
       "      <td>CIESIELSKI ŁUKASZ</td>\n",
       "      <td>MARKETING DIRECTOR</td>\n",
       "      <td>Marketing Director</td>\n",
       "    </tr>\n",
       "    <tr>\n",
       "      <th>41</th>\n",
       "      <td>CZAJKOWSKA SYLWIA</td>\n",
       "      <td>GROUP FINANCIAL CONTROLLER</td>\n",
       "      <td>Group Financial Controller</td>\n",
       "    </tr>\n",
       "    <tr>\n",
       "      <th>43</th>\n",
       "      <td>CZARTORYSKI ARTUR</td>\n",
       "      <td>Project Coordinator</td>\n",
       "      <td>Project Coordinator</td>\n",
       "    </tr>\n",
       "    <tr>\n",
       "      <th>44</th>\n",
       "      <td>CZERNIAWSKI MATEUSZ</td>\n",
       "      <td>IT System Architect</td>\n",
       "      <td>IT Systems Architect</td>\n",
       "    </tr>\n",
       "    <tr>\n",
       "      <th>45</th>\n",
       "      <td>CZUJOWSKI WOJCIECH</td>\n",
       "      <td>Senior Project Manager</td>\n",
       "      <td>Senior Project Manager</td>\n",
       "    </tr>\n",
       "    <tr>\n",
       "      <th>46</th>\n",
       "      <td>Czwojdzińska Marta</td>\n",
       "      <td>Service Operations Analyst / Analityk Sys Oper...</td>\n",
       "      <td>Service Operations Analyst</td>\n",
       "    </tr>\n",
       "    <tr>\n",
       "      <th>47</th>\n",
       "      <td>CZYŻKOWSKI TOMASZ</td>\n",
       "      <td>Team Leader Senior Visual Designer</td>\n",
       "      <td>Team Leader Senior Visual Designer</td>\n",
       "    </tr>\n",
       "    <tr>\n",
       "      <th>48</th>\n",
       "      <td>DANIELECKI DARIUSZ</td>\n",
       "      <td>Team Leader Junior Systems Engineer</td>\n",
       "      <td>Team Leader Junior IT Systems Engineer</td>\n",
       "    </tr>\n",
       "    <tr>\n",
       "      <th>49</th>\n",
       "      <td>DĄBROWSKI TOMASZ</td>\n",
       "      <td>IT Systems Engineer</td>\n",
       "      <td>Senior IT Systems Engineer</td>\n",
       "    </tr>\n",
       "    <tr>\n",
       "      <th>55</th>\n",
       "      <td>DUTKIEWICZ WOJCIECH</td>\n",
       "      <td>SENIOR SOFTWARE DEVELOPER</td>\n",
       "      <td>Senior Software Developer</td>\n",
       "    </tr>\n",
       "    <tr>\n",
       "      <th>58</th>\n",
       "      <td>Falkiewicz MARCEL</td>\n",
       "      <td>Data Scientist/Ekspert ds. Danych</td>\n",
       "      <td>Data Scientist</td>\n",
       "    </tr>\n",
       "    <tr>\n",
       "      <th>61</th>\n",
       "      <td>FIJOŁEK MARTYNA</td>\n",
       "      <td>SPECJALISTA DS. EVENTÓW I KOMUNIKACJI</td>\n",
       "      <td>Technical Development Manager</td>\n",
       "    </tr>\n",
       "    <tr>\n",
       "      <th>63</th>\n",
       "      <td>FRANKIEWICZ Katarzyna</td>\n",
       "      <td>Personal Assistant</td>\n",
       "      <td>Personal Assistant</td>\n",
       "    </tr>\n",
       "    <tr>\n",
       "      <th>67</th>\n",
       "      <td>FRĄTCZAK ANNA</td>\n",
       "      <td>Junior Support Management Office Specialist</td>\n",
       "      <td>Junior SMO Specialist</td>\n",
       "    </tr>\n",
       "    <tr>\n",
       "      <th>68</th>\n",
       "      <td>FRYDRYK GRZEGORZ</td>\n",
       "      <td>Team Leader Senior Automation Quality Engineer</td>\n",
       "      <td>Team Leader Senior Automation Quality Engineer</td>\n",
       "    </tr>\n",
       "    <tr>\n",
       "      <th>...</th>\n",
       "      <td>...</td>\n",
       "      <td>...</td>\n",
       "      <td>...</td>\n",
       "    </tr>\n",
       "    <tr>\n",
       "      <th>628</th>\n",
       "      <td>OŻÓG PAWEŁ</td>\n",
       "      <td>IT OPERATIONS AND DEVELOPMENT GUILD</td>\n",
       "      <td>IT Operations Services Guild Master</td>\n",
       "    </tr>\n",
       "    <tr>\n",
       "      <th>630</th>\n",
       "      <td>PARFIANOWICZ JACEK</td>\n",
       "      <td>SENIOR SOFTWARE DEVELOPER</td>\n",
       "      <td>Senior Software Developer</td>\n",
       "    </tr>\n",
       "    <tr>\n",
       "      <th>631</th>\n",
       "      <td>Pasternak MARCIN</td>\n",
       "      <td>Design Guild Master/Kierownik działu projektow...</td>\n",
       "      <td>Design Guild Master</td>\n",
       "    </tr>\n",
       "    <tr>\n",
       "      <th>633</th>\n",
       "      <td>Paszko KRZYSZTOF</td>\n",
       "      <td>Junior Service Deliver Manager</td>\n",
       "      <td>Junior Service Delivery Manager</td>\n",
       "    </tr>\n",
       "    <tr>\n",
       "      <th>634</th>\n",
       "      <td>Patalas Ireneusz</td>\n",
       "      <td>Team Leader Senior Software Developer</td>\n",
       "      <td>Team Leader Senior Software Developer</td>\n",
       "    </tr>\n",
       "    <tr>\n",
       "      <th>639</th>\n",
       "      <td>POLASIK KRZYSZTOF</td>\n",
       "      <td>PROJECT MANAGER</td>\n",
       "      <td>Project Manager</td>\n",
       "    </tr>\n",
       "    <tr>\n",
       "      <th>640</th>\n",
       "      <td>PRZEPIÓRKOWSKI MARCIN</td>\n",
       "      <td>SENIOR ANDROID DEVELOPER</td>\n",
       "      <td>Senior Android Developer</td>\n",
       "    </tr>\n",
       "    <tr>\n",
       "      <th>644</th>\n",
       "      <td>RADOJEWSKI MIKOŁAJ</td>\n",
       "      <td>SENIOR SOFTWARE DEVELOPER</td>\n",
       "      <td>Senior Software Developer</td>\n",
       "    </tr>\n",
       "    <tr>\n",
       "      <th>646</th>\n",
       "      <td>RADOŃ PRZEMYSŁAW</td>\n",
       "      <td>Senior Quality Engineer</td>\n",
       "      <td>Senior Quality Engineer</td>\n",
       "    </tr>\n",
       "    <tr>\n",
       "      <th>650</th>\n",
       "      <td>RAWSKI Paweł</td>\n",
       "      <td>TEAM LEADER SENIOR QUALITY ENGINEER</td>\n",
       "      <td>Senior Quality Engineer</td>\n",
       "    </tr>\n",
       "    <tr>\n",
       "      <th>654</th>\n",
       "      <td>RUDNICKI KRZYSZTOF</td>\n",
       "      <td>TECHNICAL ARCHITECT</td>\n",
       "      <td>Technical Architect</td>\n",
       "    </tr>\n",
       "    <tr>\n",
       "      <th>655</th>\n",
       "      <td>RUTKIEWICZ DAMIAN</td>\n",
       "      <td>AGILE EXPERT</td>\n",
       "      <td>Agile Expert</td>\n",
       "    </tr>\n",
       "    <tr>\n",
       "      <th>661</th>\n",
       "      <td>Smoliński Tomasz</td>\n",
       "      <td>IT Consultant</td>\n",
       "      <td>IT Consultant</td>\n",
       "    </tr>\n",
       "    <tr>\n",
       "      <th>663</th>\n",
       "      <td>SOŁTYSIK WOJCIECH</td>\n",
       "      <td>Robotic Process Automation Specialist</td>\n",
       "      <td>Procurement Specialist</td>\n",
       "    </tr>\n",
       "    <tr>\n",
       "      <th>664</th>\n",
       "      <td>STARCZEWSKI ARKADIUSZ</td>\n",
       "      <td>Team Leader Robotic Process Automation Specialist</td>\n",
       "      <td>Team Leader RPA Specialist</td>\n",
       "    </tr>\n",
       "    <tr>\n",
       "      <th>666</th>\n",
       "      <td>Stopiński Paweł</td>\n",
       "      <td>Senior IT System Engineer</td>\n",
       "      <td>Junior IT Systems Engineer</td>\n",
       "    </tr>\n",
       "    <tr>\n",
       "      <th>667</th>\n",
       "      <td>Strzelecki GRZEGORZ</td>\n",
       "      <td>Head of Development</td>\n",
       "      <td>Sales Development Leader</td>\n",
       "    </tr>\n",
       "    <tr>\n",
       "      <th>670</th>\n",
       "      <td>Szatanik Bartosz</td>\n",
       "      <td>TEAM LEADER TECHNICAL ARCHITECT</td>\n",
       "      <td>Technical Architect</td>\n",
       "    </tr>\n",
       "    <tr>\n",
       "      <th>672</th>\n",
       "      <td>Świetlik Michał</td>\n",
       "      <td>Senior Software Developer/ Starszy Programista</td>\n",
       "      <td>Senior Software Developer</td>\n",
       "    </tr>\n",
       "    <tr>\n",
       "      <th>676</th>\n",
       "      <td>TOMASZEWSKI KAROL</td>\n",
       "      <td>Team Leader Senior Software Developer</td>\n",
       "      <td>Team Leader Senior Software Developer</td>\n",
       "    </tr>\n",
       "    <tr>\n",
       "      <th>680</th>\n",
       "      <td>TOSNOWIEC GRZEGORZ</td>\n",
       "      <td>AUTOMATION QUALITY ENGINEER</td>\n",
       "      <td>Automation Quality Engineer</td>\n",
       "    </tr>\n",
       "    <tr>\n",
       "      <th>681</th>\n",
       "      <td>TREŚCIŃSKI DAWID</td>\n",
       "      <td>SOFTWARE DEVELOPER</td>\n",
       "      <td>Software Developer</td>\n",
       "    </tr>\n",
       "    <tr>\n",
       "      <th>687</th>\n",
       "      <td>WAWRUSZCZAK MACIEJ</td>\n",
       "      <td>BUSINESS ANALYST</td>\n",
       "      <td>Business Analyst</td>\n",
       "    </tr>\n",
       "    <tr>\n",
       "      <th>689</th>\n",
       "      <td>WILCZYŃSKA-GAŁĘSKA ANETA</td>\n",
       "      <td>HR BIZNES PARTNER</td>\n",
       "      <td>HR Business Partner</td>\n",
       "    </tr>\n",
       "    <tr>\n",
       "      <th>690</th>\n",
       "      <td>WINCZASZEK BEATA</td>\n",
       "      <td>QUALITY EXPERT</td>\n",
       "      <td>Quality Expert</td>\n",
       "    </tr>\n",
       "    <tr>\n",
       "      <th>692</th>\n",
       "      <td>WOJCIULEWICZ Kamil</td>\n",
       "      <td>Chief Information Security Officer</td>\n",
       "      <td>Chief Information Security Officer</td>\n",
       "    </tr>\n",
       "    <tr>\n",
       "      <th>695</th>\n",
       "      <td>WÓJCIK BARTŁOMIEJ</td>\n",
       "      <td>AUTOMATION QUALITY ENGINEER</td>\n",
       "      <td>Automation Quality Engineer</td>\n",
       "    </tr>\n",
       "    <tr>\n",
       "      <th>697</th>\n",
       "      <td>WYZGA WOJCIECH</td>\n",
       "      <td>UX &amp; RPA Guild Master Business Analyst</td>\n",
       "      <td>Business Analyst</td>\n",
       "    </tr>\n",
       "    <tr>\n",
       "      <th>698</th>\n",
       "      <td>ZACHARZEWSKI RADOSŁAW</td>\n",
       "      <td>RPG DEVELOPER</td>\n",
       "      <td>RPG Developer</td>\n",
       "    </tr>\n",
       "    <tr>\n",
       "      <th>705</th>\n",
       "      <td>ŻUKOWSKI RYSZARD</td>\n",
       "      <td>PM ADVISOR</td>\n",
       "      <td>Project Management Advisor</td>\n",
       "    </tr>\n",
       "  </tbody>\n",
       "</table>\n",
       "<p>301 rows × 3 columns</p>\n",
       "</div>"
      ],
      "text/plain": [
       "<div>\n",
       "<style scoped>\n",
       "    .dataframe tbody tr th:only-of-type {\n",
       "        vertical-align: middle;\n",
       "    }\n",
       "\n",
       "    .dataframe tbody tr th {\n",
       "        vertical-align: top;\n",
       "    }\n",
       "\n",
       "    .dataframe thead th {\n",
       "        text-align: right;\n",
       "    }\n",
       "</style>\n",
       "<table border=\"1\" class=\"dataframe\">\n",
       "  <thead>\n",
       "    <tr style=\"text-align: right;\">\n",
       "      <th></th>\n",
       "      <th>FinanceName</th>\n",
       "      <th>FinancePosition</th>\n",
       "      <th>MatchedPosition</th>\n",
       "    </tr>\n",
       "  </thead>\n",
       "  <tbody>\n",
       "    <tr>\n",
       "      <th>1</th>\n",
       "      <td>ADAMSKA-WOŹNY ALEKSANDRA</td>\n",
       "      <td>Assistant Guild Master</td>\n",
       "      <td>Assistants Guild Manager</td>\n",
       "    </tr>\n",
       "    <tr>\n",
       "      <th>2</th>\n",
       "      <td>ANDRUSIECZKO ANDRZEJ</td>\n",
       "      <td>Junior Quality Engineer/ Młodszy Tester Oprogr...</td>\n",
       "      <td>Junior Quality Engineer</td>\n",
       "    </tr>\n",
       "    <tr>\n",
       "      <th>3</th>\n",
       "      <td>ANDRZEJEWSKI ADRIAN</td>\n",
       "      <td>Chapter Leader Service Delivery Manager</td>\n",
       "      <td>Chapter Leader Service Delivery Manager</td>\n",
       "    </tr>\n",
       "    <tr>\n",
       "      <th>4</th>\n",
       "      <td>ANTONETS IULIIA</td>\n",
       "      <td>ANALITYK BIZNESOWY</td>\n",
       "      <td>Quality Engineer</td>\n",
       "    </tr>\n",
       "    <tr>\n",
       "      <th>6</th>\n",
       "      <td>Badura ALEKSANDER</td>\n",
       "      <td>Senior Automation Quality Engineer/Starszy Tester</td>\n",
       "      <td>Automation Quality Engineer</td>\n",
       "    </tr>\n",
       "    <tr>\n",
       "      <th>10</th>\n",
       "      <td>BARTNIKIEWICZ AGNIESZKA</td>\n",
       "      <td>Personal Assistant</td>\n",
       "      <td>Attract Lead HR Business Partner</td>\n",
       "    </tr>\n",
       "    <tr>\n",
       "      <th>11</th>\n",
       "      <td>BARTOSIEWICZ ANNA</td>\n",
       "      <td>Finance Project Office Specialist</td>\n",
       "      <td>Finance Project Office Specialist</td>\n",
       "    </tr>\n",
       "    <tr>\n",
       "      <th>13</th>\n",
       "      <td>BEDNAREK AGATA</td>\n",
       "      <td>BUSINESS ANALYST /  Analityk Biznesowy</td>\n",
       "      <td>Business Analyst</td>\n",
       "    </tr>\n",
       "    <tr>\n",
       "      <th>15</th>\n",
       "      <td>BIENKIEWICZ JOANNA</td>\n",
       "      <td>Quality Engineer</td>\n",
       "      <td>Quality Engineer</td>\n",
       "    </tr>\n",
       "    <tr>\n",
       "      <th>19</th>\n",
       "      <td>BŁAŻKOWSKI PIOTR</td>\n",
       "      <td>TEAM LEADER SENIOR QUALITY ENGINEER</td>\n",
       "      <td>Team Leader Senior Quality Engineer</td>\n",
       "    </tr>\n",
       "    <tr>\n",
       "      <th>20</th>\n",
       "      <td>Boniarczyk Łukasz</td>\n",
       "      <td>Senior Software Developer / Starszy Programista</td>\n",
       "      <td>Senior Software Developer</td>\n",
       "    </tr>\n",
       "    <tr>\n",
       "      <th>30</th>\n",
       "      <td>BUGAJ Piotr</td>\n",
       "      <td>SOFTWARE  DEVELOPER / Programista</td>\n",
       "      <td>Software Developer</td>\n",
       "    </tr>\n",
       "    <tr>\n",
       "      <th>33</th>\n",
       "      <td>CHARECKI KEVIN</td>\n",
       "      <td>Software Developer / Programista</td>\n",
       "      <td>Attract Lead HR Business Partner</td>\n",
       "    </tr>\n",
       "    <tr>\n",
       "      <th>36</th>\n",
       "      <td>CHWALISZ KRYSTIAN</td>\n",
       "      <td>TRIBE MASTER</td>\n",
       "      <td>Tribe Master</td>\n",
       "    </tr>\n",
       "    <tr>\n",
       "      <th>37</th>\n",
       "      <td>CHYBICKA PAULINA</td>\n",
       "      <td>JUNIOR PAYROLL SPECIALIST</td>\n",
       "      <td>Junior Payroll Specialist</td>\n",
       "    </tr>\n",
       "    <tr>\n",
       "      <th>39</th>\n",
       "      <td>CIESIELSKI ŁUKASZ</td>\n",
       "      <td>MARKETING DIRECTOR</td>\n",
       "      <td>Marketing Director</td>\n",
       "    </tr>\n",
       "    <tr>\n",
       "      <th>41</th>\n",
       "      <td>CZAJKOWSKA SYLWIA</td>\n",
       "      <td>GROUP FINANCIAL CONTROLLER</td>\n",
       "      <td>Group Financial Controller</td>\n",
       "    </tr>\n",
       "    <tr>\n",
       "      <th>43</th>\n",
       "      <td>CZARTORYSKI ARTUR</td>\n",
       "      <td>Project Coordinator</td>\n",
       "      <td>Project Coordinator</td>\n",
       "    </tr>\n",
       "    <tr>\n",
       "      <th>44</th>\n",
       "      <td>CZERNIAWSKI MATEUSZ</td>\n",
       "      <td>IT System Architect</td>\n",
       "      <td>IT Systems Architect</td>\n",
       "    </tr>\n",
       "    <tr>\n",
       "      <th>45</th>\n",
       "      <td>CZUJOWSKI WOJCIECH</td>\n",
       "      <td>Senior Project Manager</td>\n",
       "      <td>Senior Project Manager</td>\n",
       "    </tr>\n",
       "    <tr>\n",
       "      <th>46</th>\n",
       "      <td>Czwojdzińska Marta</td>\n",
       "      <td>Service Operations Analyst / Analityk Sys Oper...</td>\n",
       "      <td>Service Operations Analyst</td>\n",
       "    </tr>\n",
       "    <tr>\n",
       "      <th>47</th>\n",
       "      <td>CZYŻKOWSKI TOMASZ</td>\n",
       "      <td>Team Leader Senior Visual Designer</td>\n",
       "      <td>Team Leader Senior Visual Designer</td>\n",
       "    </tr>\n",
       "    <tr>\n",
       "      <th>48</th>\n",
       "      <td>DANIELECKI DARIUSZ</td>\n",
       "      <td>Team Leader Junior Systems Engineer</td>\n",
       "      <td>Team Leader Junior IT Systems Engineer</td>\n",
       "    </tr>\n",
       "    <tr>\n",
       "      <th>49</th>\n",
       "      <td>DĄBROWSKI TOMASZ</td>\n",
       "      <td>IT Systems Engineer</td>\n",
       "      <td>Senior IT Systems Engineer</td>\n",
       "    </tr>\n",
       "    <tr>\n",
       "      <th>55</th>\n",
       "      <td>DUTKIEWICZ WOJCIECH</td>\n",
       "      <td>SENIOR SOFTWARE DEVELOPER</td>\n",
       "      <td>Senior Software Developer</td>\n",
       "    </tr>\n",
       "    <tr>\n",
       "      <th>58</th>\n",
       "      <td>Falkiewicz MARCEL</td>\n",
       "      <td>Data Scientist/Ekspert ds. Danych</td>\n",
       "      <td>Data Scientist</td>\n",
       "    </tr>\n",
       "    <tr>\n",
       "      <th>61</th>\n",
       "      <td>FIJOŁEK MARTYNA</td>\n",
       "      <td>SPECJALISTA DS. EVENTÓW I KOMUNIKACJI</td>\n",
       "      <td>Technical Development Manager</td>\n",
       "    </tr>\n",
       "    <tr>\n",
       "      <th>63</th>\n",
       "      <td>FRANKIEWICZ Katarzyna</td>\n",
       "      <td>Personal Assistant</td>\n",
       "      <td>Personal Assistant</td>\n",
       "    </tr>\n",
       "    <tr>\n",
       "      <th>67</th>\n",
       "      <td>FRĄTCZAK ANNA</td>\n",
       "      <td>Junior Support Management Office Specialist</td>\n",
       "      <td>Junior SMO Specialist</td>\n",
       "    </tr>\n",
       "    <tr>\n",
       "      <th>68</th>\n",
       "      <td>FRYDRYK GRZEGORZ</td>\n",
       "      <td>Team Leader Senior Automation Quality Engineer</td>\n",
       "      <td>Team Leader Senior Automation Quality Engineer</td>\n",
       "    </tr>\n",
       "    <tr>\n",
       "      <th>...</th>\n",
       "      <td>...</td>\n",
       "      <td>...</td>\n",
       "      <td>...</td>\n",
       "    </tr>\n",
       "    <tr>\n",
       "      <th>628</th>\n",
       "      <td>OŻÓG PAWEŁ</td>\n",
       "      <td>IT OPERATIONS AND DEVELOPMENT GUILD</td>\n",
       "      <td>IT Operations Services Guild Master</td>\n",
       "    </tr>\n",
       "    <tr>\n",
       "      <th>630</th>\n",
       "      <td>PARFIANOWICZ JACEK</td>\n",
       "      <td>SENIOR SOFTWARE DEVELOPER</td>\n",
       "      <td>Senior Software Developer</td>\n",
       "    </tr>\n",
       "    <tr>\n",
       "      <th>631</th>\n",
       "      <td>Pasternak MARCIN</td>\n",
       "      <td>Design Guild Master/Kierownik działu projektow...</td>\n",
       "      <td>Design Guild Master</td>\n",
       "    </tr>\n",
       "    <tr>\n",
       "      <th>633</th>\n",
       "      <td>Paszko KRZYSZTOF</td>\n",
       "      <td>Junior Service Deliver Manager</td>\n",
       "      <td>Junior Service Delivery Manager</td>\n",
       "    </tr>\n",
       "    <tr>\n",
       "      <th>634</th>\n",
       "      <td>Patalas Ireneusz</td>\n",
       "      <td>Team Leader Senior Software Developer</td>\n",
       "      <td>Team Leader Senior Software Developer</td>\n",
       "    </tr>\n",
       "    <tr>\n",
       "      <th>639</th>\n",
       "      <td>POLASIK KRZYSZTOF</td>\n",
       "      <td>PROJECT MANAGER</td>\n",
       "      <td>Project Manager</td>\n",
       "    </tr>\n",
       "    <tr>\n",
       "      <th>640</th>\n",
       "      <td>PRZEPIÓRKOWSKI MARCIN</td>\n",
       "      <td>SENIOR ANDROID DEVELOPER</td>\n",
       "      <td>Senior Android Developer</td>\n",
       "    </tr>\n",
       "    <tr>\n",
       "      <th>644</th>\n",
       "      <td>RADOJEWSKI MIKOŁAJ</td>\n",
       "      <td>SENIOR SOFTWARE DEVELOPER</td>\n",
       "      <td>Senior Software Developer</td>\n",
       "    </tr>\n",
       "    <tr>\n",
       "      <th>646</th>\n",
       "      <td>RADOŃ PRZEMYSŁAW</td>\n",
       "      <td>Senior Quality Engineer</td>\n",
       "      <td>Senior Quality Engineer</td>\n",
       "    </tr>\n",
       "    <tr>\n",
       "      <th>650</th>\n",
       "      <td>RAWSKI Paweł</td>\n",
       "      <td>TEAM LEADER SENIOR QUALITY ENGINEER</td>\n",
       "      <td>Senior Quality Engineer</td>\n",
       "    </tr>\n",
       "    <tr>\n",
       "      <th>654</th>\n",
       "      <td>RUDNICKI KRZYSZTOF</td>\n",
       "      <td>TECHNICAL ARCHITECT</td>\n",
       "      <td>Technical Architect</td>\n",
       "    </tr>\n",
       "    <tr>\n",
       "      <th>655</th>\n",
       "      <td>RUTKIEWICZ DAMIAN</td>\n",
       "      <td>AGILE EXPERT</td>\n",
       "      <td>Agile Expert</td>\n",
       "    </tr>\n",
       "    <tr>\n",
       "      <th>661</th>\n",
       "      <td>Smoliński Tomasz</td>\n",
       "      <td>IT Consultant</td>\n",
       "      <td>IT Consultant</td>\n",
       "    </tr>\n",
       "    <tr>\n",
       "      <th>663</th>\n",
       "      <td>SOŁTYSIK WOJCIECH</td>\n",
       "      <td>Robotic Process Automation Specialist</td>\n",
       "      <td>Procurement Specialist</td>\n",
       "    </tr>\n",
       "    <tr>\n",
       "      <th>664</th>\n",
       "      <td>STARCZEWSKI ARKADIUSZ</td>\n",
       "      <td>Team Leader Robotic Process Automation Specialist</td>\n",
       "      <td>Team Leader RPA Specialist</td>\n",
       "    </tr>\n",
       "    <tr>\n",
       "      <th>666</th>\n",
       "      <td>Stopiński Paweł</td>\n",
       "      <td>Senior IT System Engineer</td>\n",
       "      <td>Junior IT Systems Engineer</td>\n",
       "    </tr>\n",
       "    <tr>\n",
       "      <th>667</th>\n",
       "      <td>Strzelecki GRZEGORZ</td>\n",
       "      <td>Head of Development</td>\n",
       "      <td>Sales Development Leader</td>\n",
       "    </tr>\n",
       "    <tr>\n",
       "      <th>670</th>\n",
       "      <td>Szatanik Bartosz</td>\n",
       "      <td>TEAM LEADER TECHNICAL ARCHITECT</td>\n",
       "      <td>Technical Architect</td>\n",
       "    </tr>\n",
       "    <tr>\n",
       "      <th>672</th>\n",
       "      <td>Świetlik Michał</td>\n",
       "      <td>Senior Software Developer/ Starszy Programista</td>\n",
       "      <td>Senior Software Developer</td>\n",
       "    </tr>\n",
       "    <tr>\n",
       "      <th>676</th>\n",
       "      <td>TOMASZEWSKI KAROL</td>\n",
       "      <td>Team Leader Senior Software Developer</td>\n",
       "      <td>Team Leader Senior Software Developer</td>\n",
       "    </tr>\n",
       "    <tr>\n",
       "      <th>680</th>\n",
       "      <td>TOSNOWIEC GRZEGORZ</td>\n",
       "      <td>AUTOMATION QUALITY ENGINEER</td>\n",
       "      <td>Automation Quality Engineer</td>\n",
       "    </tr>\n",
       "    <tr>\n",
       "      <th>681</th>\n",
       "      <td>TREŚCIŃSKI DAWID</td>\n",
       "      <td>SOFTWARE DEVELOPER</td>\n",
       "      <td>Software Developer</td>\n",
       "    </tr>\n",
       "    <tr>\n",
       "      <th>687</th>\n",
       "      <td>WAWRUSZCZAK MACIEJ</td>\n",
       "      <td>BUSINESS ANALYST</td>\n",
       "      <td>Business Analyst</td>\n",
       "    </tr>\n",
       "    <tr>\n",
       "      <th>689</th>\n",
       "      <td>WILCZYŃSKA-GAŁĘSKA ANETA</td>\n",
       "      <td>HR BIZNES PARTNER</td>\n",
       "      <td>HR Business Partner</td>\n",
       "    </tr>\n",
       "    <tr>\n",
       "      <th>690</th>\n",
       "      <td>WINCZASZEK BEATA</td>\n",
       "      <td>QUALITY EXPERT</td>\n",
       "      <td>Quality Expert</td>\n",
       "    </tr>\n",
       "    <tr>\n",
       "      <th>692</th>\n",
       "      <td>WOJCIULEWICZ Kamil</td>\n",
       "      <td>Chief Information Security Officer</td>\n",
       "      <td>Chief Information Security Officer</td>\n",
       "    </tr>\n",
       "    <tr>\n",
       "      <th>695</th>\n",
       "      <td>WÓJCIK BARTŁOMIEJ</td>\n",
       "      <td>AUTOMATION QUALITY ENGINEER</td>\n",
       "      <td>Automation Quality Engineer</td>\n",
       "    </tr>\n",
       "    <tr>\n",
       "      <th>697</th>\n",
       "      <td>WYZGA WOJCIECH</td>\n",
       "      <td>UX &amp; RPA Guild Master Business Analyst</td>\n",
       "      <td>Business Analyst</td>\n",
       "    </tr>\n",
       "    <tr>\n",
       "      <th>698</th>\n",
       "      <td>ZACHARZEWSKI RADOSŁAW</td>\n",
       "      <td>RPG DEVELOPER</td>\n",
       "      <td>RPG Developer</td>\n",
       "    </tr>\n",
       "    <tr>\n",
       "      <th>705</th>\n",
       "      <td>ŻUKOWSKI RYSZARD</td>\n",
       "      <td>PM ADVISOR</td>\n",
       "      <td>Project Management Advisor</td>\n",
       "    </tr>\n",
       "  </tbody>\n",
       "</table>\n",
       "<p>301 rows × 3 columns</p>\n",
       "</div>"
      ]
     },
     "execution_count": 687,
     "metadata": {},
     "output_type": "execute_result"
    }
   ],
   "source": [
    "merged_salary[(~merged_salary['MatchedPosition'].isnull()) & (merged_salary['Ratio'] < 0.2)][['FinanceName', 'FinancePosition', 'MatchedPosition']].drop_duplicates()"
   ]
  },
  {
   "cell_type": "code",
   "execution_count": 688,
   "metadata": {},
   "outputs": [],
   "source": [
    "employees = employees[['Name', 'Position', 'Tribe', 'Subtribe', 'Guild', 'Subguild', 'Office', 'Level', 'values',\n",
    "                       'LeaveDate', 'EmploymentDate', 'Management', 'Date', 'Backoffice', 'LastWorkingDate', 'Sex']]"
   ]
  },
  {
   "cell_type": "code",
   "execution_count": 689,
   "metadata": {},
   "outputs": [
    {
     "data": {
      "text/plain": [
       "array(['Na czas nieokreślony', 'B2B', 'Na okres próbny',\n       'Na czas określony', nan], dtype=object)"
      ]
     },
     "execution_count": 689,
     "metadata": {},
     "output_type": "execute_result"
    }
   ],
   "source": [
    "employees['Date'] = employees['Date'].apply(lambda x : x.date())\n",
    "merged_salary['Date'] = pd.to_datetime(merged_salary['Date'])\n",
    "merged_salary['Date'] = merged_salary['Date'].apply(lambda x : x.date())\n",
    "merged_salary = merged_salary.merge(employees, how=\"outer\", left_on=['MatchedName', 'Date'], right_on=['Name', 'Date'])\n",
    "merged_salary.head()\n",
    "salaries.shape[0], merged_salary.shape[0]\n",
    "merged_salary['Date'].unique()\n",
    "count = merged_salary.groupby(['Name', 'Date']).apply(lambda x: pd.DataFrame({'Count': [x.shape[0]]}))\n",
    "count[count['Count'] > 1]\n",
    "merged_salary.head()\n",
    "merged_salary[(merged_salary['Name'] == 'Monika Grzech')]['Ratio'].head()\n",
    "merged_salary['ContractType'].unique()\n"
   ]
  },
  {
   "cell_type": "code",
   "execution_count": 690,
   "metadata": {},
   "outputs": [],
   "source": [
    "FIN_SERVER = \"OBJPLDMFIN1\"\n",
    "FIN_DATABASE = \"Cost\"\n",
    "FIN_SCHEMA = \"dbo\"\n",
    "FIN_DB_CONNECTION = 'mssql+pyodbc://@' + FIN_SERVER + '/' + FIN_DATABASE + '?driver=SQL+Server+Native+Client+11.0?trusted_connection=yes'\n",
    "FIN_ENGINE = sqlalchemy.create_engine(FIN_DB_CONNECTION, pool_size=20, max_overflow=100)"
   ]
  },
  {
   "cell_type": "code",
   "execution_count": 691,
   "metadata": {},
   "outputs": [],
   "source": [
    "contract_data = merged_salary\n"
   ]
  },
  {
   "cell_type": "code",
   "execution_count": 692,
   "metadata": {},
   "outputs": [],
   "source": [
    "merged_salary.to_sql('Salaries_ContractValues_Tmp', FIN_ENGINE.connect(), if_exists='replace', index=False)"
   ]
  }
 ],
 "metadata": {
  "kernelspec": {
   "display_name": "Python 2",
   "language": "python",
   "name": "python2"
  },
  "language_info": {
   "codemirror_mode": {
    "name": "ipython",
    "version": 2
   },
   "file_extension": ".py",
   "mimetype": "text/x-python",
   "name": "python",
   "nbconvert_exporter": "python",
   "pygments_lexer": "ipython2",
   "version": "2.7.6"
  }
 },
 "nbformat": 4,
 "nbformat_minor": 0
}
