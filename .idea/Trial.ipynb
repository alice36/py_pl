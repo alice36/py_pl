{
 "cells": [
  {
   "cell_type": "code",
   "execution_count": 1,
   "metadata": {
    "collapsed": true
   },
   "outputs": [],
   "source": [
    "import pandas as pd\n",
    "import re\n",
    "import sqlalchemy\n",
    "import unicodedata\n",
    "import difflib\n",
    "import xlwings as xw\n",
    "from datetime import datetime\n",
    "from googletrans import Translator\n",
    "from os import listdir\n",
    "from os.path import isfile, join"
   ]
  },
  {
   "cell_type": "code",
   "execution_count": 2,
   "metadata": {},
   "outputs": [],
   "source": [
    "def get_full_cost(x, full_cost_columns):\n",
    "    cost = x[['Brutto', 'ZUS pracodawcy', 'ZUS Pracodawca', 'Skladki FGSP', 'Składki FGŚP', 'Skladki FP']].sum()\n",
    "    cost = cost - x[[c for c in full_cost_columns if 'Zas' in c]].sum()\n",
    "\n",
    "    return cost\n",
    "\n",
    "def get_protected_sheet_data(PATH):\n",
    "    wb = xw.Book(PATH)\n",
    "\n",
    "    salaries = []\n",
    "    for sheet in wb.sheets:\n",
    "        print(sheet)\n",
    "\n",
    "        data_from_sheet = sheet.range('A1').expand().options(pd.DataFrame, index=False, header=True).value\n",
    "\n",
    "        data_from_sheet['Etat'] = data_from_sheet.apply(lambda x: x['Wymiar etatu L']/x['Wymiar etatu M'], axis=1)\n",
    "\n",
    "        data_from_sheet.rename(columns={\"Tytul\": \"Stanowisko\",\n",
    "                                        \"Kwota\": \"Stawka\",\n",
    "                                        \"kwota\": \"Stawka\",\n",
    "                                        \"Wartość\": \"Stawka\",\n",
    "                                        \"wartość\": \"Stawka\",\n",
    "                                        \"ETAT\": 'Etat'}, inplace=True)\n",
    "\n",
    "        data_from_sheet['FinanceSheet'] = sheet.name\n",
    "\n",
    "        data_from_sheet['Date'] = data_from_sheet['Data']\n",
    "        full_cost_columns = data_from_sheet.columns.values\n",
    "        data_from_sheet['EnovaEmployerCost'] = data_from_sheet.apply(lambda x: get_full_cost(x, full_cost_columns), axis=1)\n",
    "\n",
    "        salaries.append(data_from_sheet[['Kod', 'Pracownik', 'Stanowisko', 'Etat',\n",
    "                                         'Typ umowy', 'FinanceSheet', 'Date', 'Stawka', 'EnovaEmployerCost']])\n",
    "\n",
    "    return salaries\n",
    "\n",
    "def etat_to_number(x):\n",
    "    g = re.match('([0-9])/([0-9])', str(x).replace(\"'\", \"\"))\n",
    "    if g is None:\n",
    "        return g\n",
    "    g = g.groups()\n",
    "    if len(g) == 1:\n",
    "        return g[0]\n",
    "    return float(g[0])/float(g[1])\n",
    "\n",
    "def get_name(x):\n",
    "    x = unicodedata.normalize('NFD', x.lower()).replace('ł', 'l').encode('ascii', 'ignore').decode()\n",
    "    if '(' in x:\n",
    "        full_name = re.match('(.{1,}) (.{1,}) \\(.{1,}\\)', x).groups()\n",
    "    else:\n",
    "        full_name = re.match('(.{1,}) (.{1,})', x).groups()\n",
    "    return full_name[1].title() + ' ' + full_name[0].title()"
   ]
  },
  {
   "cell_type": "code",
   "execution_count": 3,
   "metadata": {},
   "outputs": [],
   "source": [
    "mypath = 'C:\\\\Users\\\\anicieja\\\\Documents\\OBJ\\\\PL_automation\\\\source_new\\\\total'\n",
    "onlyfiles = [f for f in listdir(mypath) if isfile(join(mypath, f))]"
   ]
  },
  {
   "cell_type": "code",
   "execution_count": 4,
   "metadata": {},
   "outputs": [
    {
     "data": {
      "text/plain": [
       "['Total_payroll_OBSS_01-09.2018.xlsx']"
      ]
     },
     "execution_count": 4,
     "metadata": {},
     "output_type": "execute_result"
    }
   ],
   "source": [
    "onlyfiles = [file for file in onlyfiles if not '~' in file]\n",
    "onlyfiles"
   ]
  },
  {
   "cell_type": "code",
   "execution_count": 5,
   "metadata": {},
   "outputs": [
    {
     "name": "stdout",
     "output_type": "stream",
     "text": [
      "Total_payroll_OBSS_01-09.2018.xlsx\n"
     ]
    },
    {
     "name": "stdout",
     "output_type": "stream",
     "text": [
      "<Sheet [Total_payroll_OBSS_01-09.2018.xlsx]total_OBSS_UOP>\n"
     ]
    }
   ],
   "source": [
    "salaries_array = []\n",
    "for name in onlyfiles:\n",
    "    print(name)\n",
    "    salaries_array.append(pd.concat(get_protected_sheet_data('C:\\\\Users\\\\anicieja\\\\Documents\\\\OBJ\\\\PL_automation\\\\source_new\\\\total\\\\' + name)))"
   ]
  },
  {
   "cell_type": "code",
   "execution_count": 12,
   "metadata": {},
   "outputs": [
    {
     "ename": "ValueError",
     "evalue": "No objects to concatenate",
     "traceback": [
      "\u001b[1;31m---------------------------------------------------------------------------\u001b[0m",
      "\u001b[1;31mValueError\u001b[0m                                Traceback (most recent call last)",
      "\u001b[1;32m<ipython-input-12-eb3a2b4ff313>\u001b[0m in \u001b[0;36m<module>\u001b[1;34m()\u001b[0m\n\u001b[1;32m----> 1\u001b[1;33m \u001b[0msalaries\u001b[0m \u001b[1;33m=\u001b[0m \u001b[0mpd\u001b[0m\u001b[1;33m.\u001b[0m\u001b[0mconcat\u001b[0m\u001b[1;33m(\u001b[0m\u001b[0msalaries_array\u001b[0m\u001b[1;33m)\u001b[0m\u001b[1;33m\u001b[0m\u001b[0m\n\u001b[0m\u001b[0;32m      2\u001b[0m \u001b[0msalaries\u001b[0m\u001b[1;33m.\u001b[0m\u001b[0mhead\u001b[0m\u001b[1;33m(\u001b[0m\u001b[1;33m)\u001b[0m\u001b[1;33m\u001b[0m\u001b[0m\n",
      "\u001b[1;32m~\\AppData\\Local\\Programs\\Python\\Python37-32\\lib\\site-packages\\pandas\\core\\reshape\\concat.py\u001b[0m in \u001b[0;36mconcat\u001b[1;34m(objs, axis, join, join_axes, ignore_index, keys, levels, names, verify_integrity, sort, copy)\u001b[0m\n\u001b[0;32m    223\u001b[0m                        \u001b[0mkeys\u001b[0m\u001b[1;33m=\u001b[0m\u001b[0mkeys\u001b[0m\u001b[1;33m,\u001b[0m \u001b[0mlevels\u001b[0m\u001b[1;33m=\u001b[0m\u001b[0mlevels\u001b[0m\u001b[1;33m,\u001b[0m \u001b[0mnames\u001b[0m\u001b[1;33m=\u001b[0m\u001b[0mnames\u001b[0m\u001b[1;33m,\u001b[0m\u001b[1;33m\u001b[0m\u001b[0m\n\u001b[0;32m    224\u001b[0m                        \u001b[0mverify_integrity\u001b[0m\u001b[1;33m=\u001b[0m\u001b[0mverify_integrity\u001b[0m\u001b[1;33m,\u001b[0m\u001b[1;33m\u001b[0m\u001b[0m\n\u001b[1;32m--> 225\u001b[1;33m                        copy=copy, sort=sort)\n\u001b[0m\u001b[0;32m    226\u001b[0m     \u001b[1;32mreturn\u001b[0m \u001b[0mop\u001b[0m\u001b[1;33m.\u001b[0m\u001b[0mget_result\u001b[0m\u001b[1;33m(\u001b[0m\u001b[1;33m)\u001b[0m\u001b[1;33m\u001b[0m\u001b[0m\n\u001b[0;32m    227\u001b[0m \u001b[1;33m\u001b[0m\u001b[0m\n",
      "\u001b[1;32m~\\AppData\\Local\\Programs\\Python\\Python37-32\\lib\\site-packages\\pandas\\core\\reshape\\concat.py\u001b[0m in \u001b[0;36m__init__\u001b[1;34m(self, objs, axis, join, join_axes, keys, levels, names, ignore_index, verify_integrity, copy, sort)\u001b[0m\n\u001b[0;32m    257\u001b[0m \u001b[1;33m\u001b[0m\u001b[0m\n\u001b[0;32m    258\u001b[0m         \u001b[1;32mif\u001b[0m \u001b[0mlen\u001b[0m\u001b[1;33m(\u001b[0m\u001b[0mobjs\u001b[0m\u001b[1;33m)\u001b[0m \u001b[1;33m==\u001b[0m \u001b[1;36m0\u001b[0m\u001b[1;33m:\u001b[0m\u001b[1;33m\u001b[0m\u001b[0m\n\u001b[1;32m--> 259\u001b[1;33m             \u001b[1;32mraise\u001b[0m \u001b[0mValueError\u001b[0m\u001b[1;33m(\u001b[0m\u001b[1;34m'No objects to concatenate'\u001b[0m\u001b[1;33m)\u001b[0m\u001b[1;33m\u001b[0m\u001b[0m\n\u001b[0m\u001b[0;32m    260\u001b[0m \u001b[1;33m\u001b[0m\u001b[0m\n\u001b[0;32m    261\u001b[0m         \u001b[1;32mif\u001b[0m \u001b[0mkeys\u001b[0m \u001b[1;32mis\u001b[0m \u001b[1;32mNone\u001b[0m\u001b[1;33m:\u001b[0m\u001b[1;33m\u001b[0m\u001b[0m\n",
      "\u001b[1;31mValueError\u001b[0m: No objects to concatenate"
     ],
     "output_type": "error"
    }
   ],
   "source": [
    "salaries = pd.concat(salaries_array)\n",
    "\n",
    "for col in salaries.columns:\n",
    "    print(col)\n",
    "# salaries.head()"
   ]
  }
 ],
 "metadata": {
  "kernelspec": {
   "display_name": "Python 2",
   "language": "python",
   "name": "python2"
  },
  "language_info": {
   "codemirror_mode": {
    "name": "ipython",
    "version": 2
   },
   "file_extension": ".py",
   "mimetype": "text/x-python",
   "name": "python",
   "nbconvert_exporter": "python",
   "pygments_lexer": "ipython2",
   "version": "2.7.6"
  }
 },
 "nbformat": 4,
 "nbformat_minor": 0
}
