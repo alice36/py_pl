{
 "cells": [
  {
   "cell_type": "code",
   "execution_count": 28,
   "metadata": {
    "collapsed": true
   },
   "outputs": [
    {
     "name": "stdout",
     "output_type": "stream",
     "text": [
      "'4/5\n4\n5\n0.8\n00222\n"
     ]
    }
   ],
   "source": [
    "from datetime import datetime\n",
    "name = \"'4/5\"\n",
    "print(name)\n",
    "# temp = name[24:26] \n",
    "# print(temp)\n",
    "# date_tmp = name[26:30] + '-' + temp + '-' + '01'\n",
    "# \n",
    "# print(date_tmp)\n",
    "\n",
    "# tmp1 = int(str.replace(name[1], \"'\", \"\"))\n",
    "tmp1 = int(name[1])\n",
    "print(tmp1)\n",
    "\n",
    "tmp2 = int(name[3])\n",
    "print(tmp2)\n",
    "\n",
    "print(tmp1/tmp2)\n",
    "\n",
    "tmp=2\n",
    "stringus = \"222\"\n",
    "for x in range(2):\n",
    "    stringus = \"0\" + stringus\n",
    "print (stringus)"
   ]
  },
  {
   "cell_type": "code",
   "execution_count": null,
   "metadata": {},
   "outputs": [],
   "source": []
  }
 ],
 "metadata": {
  "kernelspec": {
   "display_name": "Python 2",
   "language": "python",
   "name": "python2"
  },
  "language_info": {
   "codemirror_mode": {
    "name": "ipython",
    "version": 2
   },
   "file_extension": ".py",
   "mimetype": "text/x-python",
   "name": "python",
   "nbconvert_exporter": "python",
   "pygments_lexer": "ipython2",
   "version": "2.7.6"
  }
 },
 "nbformat": 4,
 "nbformat_minor": 0
}
