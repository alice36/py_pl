{
 "cells": [
  {
   "cell_type": "code",
   "execution_count": 1,
   "metadata": {
    "collapsed": true
   },
   "outputs": [
    {
     "name": "stdout",
     "output_type": "stream",
     "text": [
      "30\n"
     ]
    }
   ],
   "source": [
    "x = lambda a, b : a * b\n",
    "print(x(5, 6))"
   ]
  },
  {
   "cell_type": "code",
   "execution_count": null,
   "metadata": {},
   "outputs": [],
   "source": [
    "import sqlalchemy\n",
    "from googletrans import Translator\n",
    "import pandas as pd"
   ]
  },
  {
   "cell_type": "code",
   "execution_count": 4,
   "metadata": {},
   "outputs": [
    {
     "ename": "NameError",
     "evalue": "name 'sqlalchemy' is not defined",
     "traceback": [
      "\u001b[1;31m---------------------------------------------------------------------------\u001b[0m",
      "\u001b[1;31mNameError\u001b[0m                                 Traceback (most recent call last)",
      "\u001b[1;32m<ipython-input-4-041d8b02e4f2>\u001b[0m in \u001b[0;36m<module>\u001b[1;34m()\u001b[0m\n\u001b[0;32m      3\u001b[0m \u001b[0mDM_SCHEMA\u001b[0m \u001b[1;33m=\u001b[0m \u001b[1;34m\"dbo\"\u001b[0m\u001b[1;33m\u001b[0m\u001b[0m\n\u001b[0;32m      4\u001b[0m \u001b[0mDM_DB_CONNECTION\u001b[0m \u001b[1;33m=\u001b[0m \u001b[1;34m'mssql+pyodbc://@'\u001b[0m \u001b[1;33m+\u001b[0m \u001b[0mDM_SERVER\u001b[0m \u001b[1;33m+\u001b[0m \u001b[1;34m'/'\u001b[0m \u001b[1;33m+\u001b[0m \u001b[0mDM_DATABASE\u001b[0m \u001b[1;33m+\u001b[0m \u001b[1;34m'?driver=SQL+Server+Native+Client+11.0?trusted_connection=yes'\u001b[0m\u001b[1;33m\u001b[0m\u001b[0m\n\u001b[1;32m----> 5\u001b[1;33m \u001b[0mDM_ENGINE\u001b[0m \u001b[1;33m=\u001b[0m \u001b[0msqlalchemy\u001b[0m\u001b[1;33m.\u001b[0m\u001b[0mcreate_engine\u001b[0m\u001b[1;33m(\u001b[0m\u001b[0mDM_DB_CONNECTION\u001b[0m\u001b[1;33m,\u001b[0m \u001b[0mpool_size\u001b[0m\u001b[1;33m=\u001b[0m\u001b[1;36m20\u001b[0m\u001b[1;33m,\u001b[0m \u001b[0mmax_overflow\u001b[0m\u001b[1;33m=\u001b[0m\u001b[1;36m100\u001b[0m\u001b[1;33m)\u001b[0m\u001b[1;33m\u001b[0m\u001b[0m\n\u001b[0m",
      "\u001b[1;31mNameError\u001b[0m: name 'sqlalchemy' is not defined"
     ],
     "output_type": "error"
    }
   ],
   "source": [
    "DM_SERVER = \"OBJPLDMSQL\"\n",
    "DM_DATABASE = \"Structure\"\n",
    "DM_SCHEMA = \"dbo\"\n",
    "DM_DB_CONNECTION = 'mssql+pyodbc://@' + DM_SERVER + '/' + DM_DATABASE + '?driver=SQL+Server+Native+Client+11.0?trusted_connection=yes'\n",
    "DM_ENGINE = sqlalchemy.create_engine(DM_DB_CONNECTION, pool_size=20, max_overflow=100)\n"
   ]
  },
  {
   "cell_type": "code",
   "execution_count": 8,
   "metadata": {},
   "outputs": [
    {
     "ename": "NameError",
     "evalue": "name 'sqlalchemy' is not defined",
     "traceback": [
      "\u001b[1;31m---------------------------------------------------------------------------\u001b[0m",
      "\u001b[1;31mNameError\u001b[0m                                 Traceback (most recent call last)",
      "\u001b[1;32m<ipython-input-8-041d8b02e4f2>\u001b[0m in \u001b[0;36m<module>\u001b[1;34m()\u001b[0m\n\u001b[0;32m      3\u001b[0m \u001b[0mDM_SCHEMA\u001b[0m \u001b[1;33m=\u001b[0m \u001b[1;34m\"dbo\"\u001b[0m\u001b[1;33m\u001b[0m\u001b[0m\n\u001b[0;32m      4\u001b[0m \u001b[0mDM_DB_CONNECTION\u001b[0m \u001b[1;33m=\u001b[0m \u001b[1;34m'mssql+pyodbc://@'\u001b[0m \u001b[1;33m+\u001b[0m \u001b[0mDM_SERVER\u001b[0m \u001b[1;33m+\u001b[0m \u001b[1;34m'/'\u001b[0m \u001b[1;33m+\u001b[0m \u001b[0mDM_DATABASE\u001b[0m \u001b[1;33m+\u001b[0m \u001b[1;34m'?driver=SQL+Server+Native+Client+11.0?trusted_connection=yes'\u001b[0m\u001b[1;33m\u001b[0m\u001b[0m\n\u001b[1;32m----> 5\u001b[1;33m \u001b[0mDM_ENGINE\u001b[0m \u001b[1;33m=\u001b[0m \u001b[0msqlalchemy\u001b[0m\u001b[1;33m.\u001b[0m\u001b[0mcreate_engine\u001b[0m\u001b[1;33m(\u001b[0m\u001b[0mDM_DB_CONNECTION\u001b[0m\u001b[1;33m,\u001b[0m \u001b[0mpool_size\u001b[0m\u001b[1;33m=\u001b[0m\u001b[1;36m20\u001b[0m\u001b[1;33m,\u001b[0m \u001b[0mmax_overflow\u001b[0m\u001b[1;33m=\u001b[0m\u001b[1;36m100\u001b[0m\u001b[1;33m)\u001b[0m\u001b[1;33m\u001b[0m\u001b[0m\n\u001b[0m",
      "\u001b[1;31mNameError\u001b[0m: name 'sqlalchemy' is not defined"
     ],
     "output_type": "error"
    }
   ],
   "source": [
    "DM_SERVER = \"OBJPLDMSQL\"\n",
    "DM_DATABASE = \"Structure\"\n",
    "DM_SCHEMA = \"dbo\"\n",
    "DM_DB_CONNECTION = 'mssql+pyodbc://@' + DM_SERVER + '/' + DM_DATABASE + '?driver=SQL+Server+Native+Client+11.0?trusted_connection=yes'\n",
    "DM_ENGINE = sqlalchemy.create_engine(DM_DB_CONNECTION, pool_size=20, max_overflow=100)"
   ]
  },
  {
   "cell_type": "code",
   "execution_count": 21,
   "metadata": {},
   "outputs": [
    {
     "ename": "NameError",
     "evalue": "name 'salaries' is not defined",
     "traceback": [
      "\u001b[1;31m---------------------------------------------------------------------------\u001b[0m",
      "\u001b[1;31mNameError\u001b[0m                                 Traceback (most recent call last)",
      "\u001b[1;32m<ipython-input-21-e1a3d654657c>\u001b[0m in \u001b[0;36m<module>\u001b[1;34m()\u001b[0m\n\u001b[0;32m     10\u001b[0m employees = pd.read_sql('''\n\u001b[0;32m     11\u001b[0m \u001b[0mselect\u001b[0m \u001b[1;33m*\u001b[0m \u001b[0mFROM\u001b[0m \u001b[1;33m[\u001b[0m\u001b[0mStructure\u001b[0m\u001b[1;33m]\u001b[0m\u001b[1;33m.\u001b[0m\u001b[1;33m[\u001b[0m\u001b[0mdbo\u001b[0m\u001b[1;33m]\u001b[0m\u001b[1;33m.\u001b[0m\u001b[1;33m[\u001b[0m\u001b[0mStructure_Monthly\u001b[0m\u001b[1;33m]\u001b[0m \u001b[0mwhere\u001b[0m \u001b[0mDate\u001b[0m \u001b[1;33m>=\u001b[0m \u001b[1;34m'{0} 00:00:00.000'\u001b[0m \u001b[1;32mand\u001b[0m \u001b[0mDate\u001b[0m \u001b[1;33m<=\u001b[0m \u001b[1;34m'{1} 00:00:00.000'\u001b[0m\u001b[1;33m\u001b[0m\u001b[0m\n\u001b[1;32m---> 12\u001b[1;33m '''.format(salaries['Date'].min(), salaries['Date'].max()), DM_ENGINE.connect())\n\u001b[0m\u001b[0;32m     13\u001b[0m \u001b[1;33m\u001b[0m\u001b[0m\n\u001b[0;32m     14\u001b[0m \u001b[0mprint\u001b[0m\u001b[1;33m(\u001b[0m\u001b[0memployees\u001b[0m\u001b[1;33m.\u001b[0m\u001b[0mhead\u001b[0m\u001b[1;33m(\u001b[0m\u001b[1;33m)\u001b[0m\u001b[1;33m)\u001b[0m\u001b[1;33m\u001b[0m\u001b[0m\n",
      "\u001b[1;31mNameError\u001b[0m: name 'salaries' is not defined"
     ],
     "output_type": "error"
    }
   ],
   "source": [
    "import pandas as pd\n",
    "import sqlalchemy\n",
    "\n",
    "DM_SERVER = \"OBJPLDMFIN1\"\n",
    "DM_DATABASE = \"COST\"\n",
    "DM_SCHEMA = \"dbo\"\n",
    "DM_DB_CONNECTION = 'mssql+pyodbc://@' + DM_SERVER + '/' + DM_DATABASE + '?driver=SQL+Server+Native+Client+11.0?trusted_connection=yes'\n",
    "DM_ENGINE = sqlalchemy.create_engine(DM_DB_CONNECTION, pool_size=20, max_overflow=100)\n",
    "\n",
    "salaries = pd.read_sql('''\n",
    "select * FROM [Cost].[dbo].[Salaries]\n",
    "''', DM_ENGINE.connect())\n",
    "\n",
    "print(salaries.head())\n"
   ]
  },
  {
   "cell_type": "code",
   "execution_count": 9,
   "metadata": {},
   "outputs": [
    {
     "ename": "NameError",
     "evalue": "name 'false' is not defined",
     "traceback": [
      "\u001b[1;31m---------------------------------------------------------------------------\u001b[0m",
      "\u001b[1;31mNameError\u001b[0m                                 Traceback (most recent call last)",
      "\u001b[1;32m<ipython-input-9-d1ce1e210073>\u001b[0m in \u001b[0;36m<module>\u001b[1;34m()\u001b[0m\n\u001b[1;32m----> 1\u001b[1;33m \u001b[0mx\u001b[0m\u001b[1;33m=\u001b[0m\u001b[0mfalse\u001b[0m\u001b[1;33m\u001b[0m\u001b[0m\n\u001b[0m\u001b[0;32m      2\u001b[0m \u001b[0mprint\u001b[0m\u001b[1;33m(\u001b[0m\u001b[1;33m~\u001b[0m\u001b[0mx\u001b[0m\u001b[1;33m)\u001b[0m\u001b[1;33m\u001b[0m\u001b[0m\n",
      "\u001b[1;31mNameError\u001b[0m: name 'false' is not defined"
     ],
     "output_type": "error"
    }
   ],
   "source": [
    "x=false\n",
    "print(~x)"
   ]
  },
  {
   "cell_type": "code",
   "execution_count": 22,
   "metadata": {},
   "outputs": [
    {
     "data": {
      "text/plain": [
       "'Hello, Tim!'"
      ]
     },
     "execution_count": 22,
     "metadata": {},
     "output_type": "execute_result"
    }
   ],
   "source": [
    "def say_hello(recipient):\n",
    "    return 'Hello, {}!'.format(recipient)\n",
    "\n",
    "say_hello('Tim')"
   ]
  },
  {
   "cell_type": "code",
   "execution_count": 26,
   "metadata": {},
   "outputs": [
    {
     "name": "stdout",
     "output_type": "stream",
     "text": [
      "         Date HansaCode             HansaName HansaSheet  HansaEmployerCost  \\\n0  2018-01-01       S08  Wojciech Krolikowski       OITS           25161.19   \n1  2018-01-01      None                  None       None                NaN   \n2  2018-01-01      None                  None       None                NaN   \n3  2018-01-01      None                  None       None                NaN   \n4  2018-01-01      None                  None       None                NaN   \n\n   FinanceCode            FinanceName                        FinancePosition  \\\n0          NaN                   None                                   None   \n1          NaN                   None                                   None   \n2        758.0  HAMILTON AGATA (0758)                         Bid Consultant   \n3        760.0    JAROSZ PAWEŁ (0760)  Team Leader Senior IT System Engineer   \n4        762.0    KAMIŃSKA EWA (0762)  Robotic Process Automation Specialist   \n\n   PartTime          ContractType     ...      FullEmployerCost  \\\n0       NaN                  None     ...                   NaN   \n1       NaN                  None     ...                   NaN   \n2       1.0  Na czas nieokreślony     ...               8940.71   \n3       1.0  Na czas nieokreślony     ...              28270.07   \n4       1.0  Na czas nieokreślony     ...              15291.29   \n\n  EmployerToContractRatio  IsDirector        Computation_Time    ID  \\\n0                     NaN       False 2018-09-20 16:28:20.133     0   \n1                     NaN       False 2018-09-20 16:28:20.133  6938   \n2                1.241765       False 2018-09-20 16:28:20.133  3133   \n3                2.482880       False 2018-09-20 16:28:20.133  3145   \n4                0.955706       False 2018-09-20 16:28:20.133  3149   \n\n  DateBeforeEmployment  FullTimeContractValue PreviousContractValue  Raise  \\\n0                False                    NaN                   NaN    NaN   \n1                False                    NaN                   NaN    NaN   \n2                False                 7200.0                   NaN    NaN   \n3                False                11386.0                   NaN    NaN   \n4                False                16000.0                   NaN    NaN   \n\n   IsMaternity  \n0          NaN  \n1          NaN  \n2          NaN  \n3          NaN  \n4          NaN  \n\n[5 rows x 46 columns]\n"
     ]
    },
    {
     "data": {
      "text/html": [
       "<div>\n",
       "<style scoped>\n",
       "    .dataframe tbody tr th:only-of-type {\n",
       "        vertical-align: middle;\n",
       "    }\n",
       "\n",
       "    .dataframe tbody tr th {\n",
       "        vertical-align: top;\n",
       "    }\n",
       "\n",
       "    .dataframe thead th {\n",
       "        text-align: right;\n",
       "    }\n",
       "</style>\n",
       "<table border=\"1\" class=\"dataframe\">\n",
       "  <thead>\n",
       "    <tr style=\"text-align: right;\">\n",
       "      <th></th>\n",
       "      <th>FinancePosition</th>\n",
       "      <th>FinanceEnglishPosition</th>\n",
       "    </tr>\n",
       "  </thead>\n",
       "  <tbody>\n",
       "    <tr>\n",
       "      <th>0</th>\n",
       "      <td>None</td>\n",
       "      <td>None</td>\n",
       "    </tr>\n",
       "    <tr>\n",
       "      <th>1</th>\n",
       "      <td>Bid Consultant</td>\n",
       "      <td>Bid Consultant</td>\n",
       "    </tr>\n",
       "    <tr>\n",
       "      <th>2</th>\n",
       "      <td>Team Leader Senior IT System Engineer</td>\n",
       "      <td>Team Leader Senior IT System Engineer</td>\n",
       "    </tr>\n",
       "    <tr>\n",
       "      <th>3</th>\n",
       "      <td>Robotic Process Automation Specialist</td>\n",
       "      <td>Robotic Process Automation Specialist</td>\n",
       "    </tr>\n",
       "    <tr>\n",
       "      <th>4</th>\n",
       "      <td>Business Travel Coordinator</td>\n",
       "      <td>Business Travel Coordinator</td>\n",
       "    </tr>\n",
       "  </tbody>\n",
       "</table>\n",
       "</div>"
      ],
      "text/plain": [
       "<div>\n",
       "<style scoped>\n",
       "    .dataframe tbody tr th:only-of-type {\n",
       "        vertical-align: middle;\n",
       "    }\n",
       "\n",
       "    .dataframe tbody tr th {\n",
       "        vertical-align: top;\n",
       "    }\n",
       "\n",
       "    .dataframe thead th {\n",
       "        text-align: right;\n",
       "    }\n",
       "</style>\n",
       "<table border=\"1\" class=\"dataframe\">\n",
       "  <thead>\n",
       "    <tr style=\"text-align: right;\">\n",
       "      <th></th>\n",
       "      <th>FinancePosition</th>\n",
       "      <th>FinanceEnglishPosition</th>\n",
       "    </tr>\n",
       "  </thead>\n",
       "  <tbody>\n",
       "    <tr>\n",
       "      <th>0</th>\n",
       "      <td>None</td>\n",
       "      <td>None</td>\n",
       "    </tr>\n",
       "    <tr>\n",
       "      <th>1</th>\n",
       "      <td>Bid Consultant</td>\n",
       "      <td>Bid Consultant</td>\n",
       "    </tr>\n",
       "    <tr>\n",
       "      <th>2</th>\n",
       "      <td>Team Leader Senior IT System Engineer</td>\n",
       "      <td>Team Leader Senior IT System Engineer</td>\n",
       "    </tr>\n",
       "    <tr>\n",
       "      <th>3</th>\n",
       "      <td>Robotic Process Automation Specialist</td>\n",
       "      <td>Robotic Process Automation Specialist</td>\n",
       "    </tr>\n",
       "    <tr>\n",
       "      <th>4</th>\n",
       "      <td>Business Travel Coordinator</td>\n",
       "      <td>Business Travel Coordinator</td>\n",
       "    </tr>\n",
       "  </tbody>\n",
       "</table>\n",
       "</div>"
      ]
     },
     "execution_count": 26,
     "metadata": {},
     "output_type": "execute_result"
    }
   ],
   "source": [
    "from googletrans import Translator\n",
    "import pandas as pd\n",
    "import sqlalchemy\n",
    "\n",
    "DM_SERVER = \"OBJPLDMFIN1\"\n",
    "DM_DATABASE = \"COST\"\n",
    "DM_SCHEMA = \"dbo\"\n",
    "DM_DB_CONNECTION = 'mssql+pyodbc://@' + DM_SERVER + '/' + DM_DATABASE + '?driver=SQL+Server+Native+Client+11.0?trusted_connection=yes'\n",
    "DM_ENGINE = sqlalchemy.create_engine(DM_DB_CONNECTION, pool_size=20, max_overflow=100)\n",
    "\n",
    "salaries = pd.read_sql('''\n",
    "select * FROM [Cost].[dbo].[Salaries]\n",
    "''', DM_ENGINE.connect())\n",
    "\n",
    "print(salaries.head())\n",
    "\n",
    "translator = Translator()\n",
    "positions = salaries['FinancePosition'].unique()\n",
    "translations = []\n",
    "for x in positions:\n",
    "    #print(x)\n",
    "    try:\n",
    "        translations.append(translator.translate(x.replace('/', ''), dest='en').text)\n",
    "    except Exception as e:\n",
    "        translations.append(x)\n",
    "positions_translations = pd.DataFrame({'FinancePosition': positions, 'FinanceEnglishPosition': translations})\n",
    "positions_translations.head()"
   ]
  },
  {
   "cell_type": "code",
   "execution_count": 82,
   "metadata": {},
   "outputs": [
    {
     "name": "stdout",
     "output_type": "stream",
     "text": [
      "Konto\nUnnamed: 1\nStan pocz.\nOkres Wn\nOkres Ma\nSaldo\nUnnamed: 6\nHansaSheet\nOpis\nDate\n"
     ]
    }
   ],
   "source": [
    "from datetime import datetime\n",
    "file = 'OBIT_B2B_04.2018.xlsx'\n",
    "hansa_data = pd.read_excel(r'C:\\Users\\anicieja\\Documents\\OBJ\\PL_automation\\source\\\\' + file, 'Hansa Report')\n",
    "hansa_data['HansaSheet'] = file[:8]\n",
    "hansa_data['Opis'] = hansa_data['Unnamed: 1']\n",
    "hansa_data['Date'] = datetime.strptime(file[9:16], '%m.%Y').date()\n",
    "\n",
    "hansa_array = []\n",
    "hansa_array.append(hansa_data)\n",
    "\n",
    "hansa_array[0].columns\n",
    "\n",
    "hansa_data.head()\n",
    "# print(type(hansa_array))\n",
    "\n",
    "for col in hansa_data.columns:\n",
    "    print(col)"
   ]
  },
  {
   "cell_type": "code",
   "execution_count": 74,
   "metadata": {},
   "outputs": [
    {
     "ename": "AttributeError",
     "evalue": "'str' object has no attribute 'columns'",
     "traceback": [
      "\u001b[1;31m---------------------------------------------------------------------------\u001b[0m",
      "\u001b[1;31mAttributeError\u001b[0m                            Traceback (most recent call last)",
      "\u001b[1;32m<ipython-input-74-d05bb2070e09>\u001b[0m in \u001b[0;36m<module>\u001b[1;34m()\u001b[0m\n\u001b[0;32m      1\u001b[0m \u001b[0mthislist\u001b[0m \u001b[1;33m=\u001b[0m \u001b[1;33m[\u001b[0m\u001b[1;34m\"apple\"\u001b[0m\u001b[1;33m,\u001b[0m \u001b[1;34m\"banana\"\u001b[0m\u001b[1;33m,\u001b[0m \u001b[1;34m\"cherry\"\u001b[0m\u001b[1;33m]\u001b[0m\u001b[1;33m\u001b[0m\u001b[0m\n\u001b[1;32m----> 2\u001b[1;33m \u001b[0mthislist\u001b[0m\u001b[1;33m[\u001b[0m\u001b[1;36m0\u001b[0m\u001b[1;33m]\u001b[0m\u001b[1;33m.\u001b[0m\u001b[0mcolumns\u001b[0m\u001b[1;33m\u001b[0m\u001b[0m\n\u001b[0m",
      "\u001b[1;31mAttributeError\u001b[0m: 'str' object has no attribute 'columns'"
     ],
     "output_type": "error"
    }
   ],
   "source": [
    "thislist = [\"apple\", \"banana\", \"cherry\"]\n",
    "thislist[0].columns"
   ]
  },
  {
   "cell_type": "code",
   "execution_count": 75,
   "metadata": {},
   "outputs": [
    {
     "name": "stdout",
     "output_type": "stream",
     "text": [
      "Five is greater than two!\n"
     ]
    }
   ],
   "source": [
    "if 5 > 2:\n",
    "    print(\"Five is greater than two!\")"
   ]
  },
  {
   "cell_type": "code",
   "execution_count": null,
   "metadata": {},
   "outputs": [],
   "source": []
  }
 ],
 "metadata": {
  "kernelspec": {
   "display_name": "Python 2",
   "language": "python",
   "name": "python2"
  },
  "language_info": {
   "codemirror_mode": {
    "name": "ipython",
    "version": 2
   },
   "file_extension": ".py",
   "mimetype": "text/x-python",
   "name": "python",
   "nbconvert_exporter": "python",
   "pygments_lexer": "ipython2",
   "version": "2.7.6"
  }
 },
 "nbformat": 4,
 "nbformat_minor": 0
}
