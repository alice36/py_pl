{
 "cells": [
  {
   "cell_type": "code",
   "execution_count": null,
   "metadata": {},
   "outputs": [],
   "source": [
    "import pandas as pd\n",
    "import re\n",
    "import sqlalchemy\n",
    "import unicodedata\n",
    "import difflib\n",
    "import xlwings as xw\n",
    "from datetime import datetime\n",
    "from googletrans import Translator\n",
    "from os import listdir\n",
    "from os.path import isfile, join"
   ]
  },
  {
   "cell_type": "code",
   "execution_count": null,
   "metadata": {},
   "outputs": [],
   "source": [
    "def get_full_cost(x, full_cost_columns):\n",
    "    cost = x[['Brutto', 'ZUS pracodawcy', 'ZUS Pracodawca', 'Skladki FGSP', 'Składki FGŚP', 'Skladki FP']].sum()\n",
    "    cost = cost - x[[c for c in full_cost_columns if 'Zas' in c]].sum()\n",
    "    \n",
    "    return cost\n",
    "\n",
    "def get_protected_sheet_data(PATH):\n",
    "    wb = xw.Book(PATH)\n",
    "    \n",
    "    salaries = []\n",
    "    for sheet in wb.sheets:\n",
    "        print(sheet)\n",
    "        \n",
    "        data_from_sheet = sheet.range('A1').expand().options(pd.DataFrame, index=False, header=True).value\n",
    "        \n",
    "        data_from_sheet['Etat'] = data_from_sheet.apply(lambda x: x['Wymiar etatu L']/x['Wymiar etatu M'], axis=1)\n",
    "        \n",
    "        data_from_sheet.rename(columns={\"Tytul\": \"Stanowisko\", \n",
    "                                        \"Kwota\": \"Stawka\",\n",
    "                                        \"kwota\": \"Stawka\",\n",
    "                                        \"Wartość\": \"Stawka\",\n",
    "                                        \"wartość\": \"Stawka\",\n",
    "                                       \"ETAT\": 'Etat'}, inplace=True)    \n",
    "            \n",
    "        data_from_sheet['FinanceSheet'] = sheet.name\n",
    "\n",
    "        data_from_sheet['Date'] = data_from_sheet['Data']\n",
    "        full_cost_columns = data_from_sheet.columns.values\n",
    "        data_from_sheet['EnovaEmployerCost'] = data_from_sheet.apply(lambda x: get_full_cost(x, full_cost_columns), axis=1)\n",
    "        \n",
    "        salaries.append(data_from_sheet[['Kod', 'Pracownik', 'Stanowisko', 'Etat',\n",
    "                                         'Typ umowy', 'FinanceSheet', 'Date', 'Stawka', 'EnovaEmployerCost']])\n",
    "    \n",
    "    return salaries\n",
    "\n",
    "def etat_to_number(x):\n",
    "    g = re.match('([0-9])/([0-9])', str(x).replace(\"'\", \"\"))\n",
    "    if g is None:\n",
    "        return g\n",
    "    g = g.groups()\n",
    "    if len(g) == 1:\n",
    "        return g[0]\n",
    "    return float(g[0])/float(g[1])\n",
    "\n",
    "def get_name(x):\n",
    "    x = unicodedata.normalize('NFD', x.lower()).replace('ł', 'l').encode('ascii', 'ignore').decode()\n",
    "    if '(' in x:\n",
    "        full_name = re.match('(.{1,}) (.{1,}) \\(.{1,}\\)', x).groups()\n",
    "    else:\n",
    "        full_name = re.match('(.{1,}) (.{1,})', x).groups()\n",
    "    return full_name[1].title() + ' ' + full_name[0].title()"
   ]
  },
  {
   "cell_type": "code",
   "execution_count": null,
   "metadata": {},
   "outputs": [],
   "source": [
    "mypath = 'C:\\GIT\\Salary\\data\\ContractValue'\n",
    "onlyfiles = [f for f in listdir(mypath) if isfile(join(mypath, f))]"
   ]
  },
  {
   "cell_type": "code",
   "execution_count": null,
   "metadata": {},
   "outputs": [],
   "source": [
    "onlyfiles = [file for file in onlyfiles if not '~' in file]\n",
    "onlyfiles"
   ]
  },
  {
   "cell_type": "code",
   "execution_count": null,
   "metadata": {},
   "outputs": [],
   "source": [
    "salaries_array = []\n",
    "for name in onlyfiles:\n",
    "    print(name)\n",
    "    salaries_array.append(pd.concat(get_protected_sheet_data('data\\ContractValue\\\\' + name)))"
   ]
  },
  {
   "cell_type": "code",
   "execution_count": null,
   "metadata": {},
   "outputs": [],
   "source": [
    "salaries = pd.concat(salaries_array)\n",
    "    \n",
    "salaries = salaries.rename(columns={\n",
    "    'Kod': 'FinanceCode', \n",
    "    'Pracownik': 'FinanceName', \n",
    "    'Stanowisko': 'FinancePosition', \n",
    "    'Etat': 'PartTime', \n",
    "    'Stawka': 'ContractValue',\n",
    "    'Typ umowy': 'ContractType',\n",
    "})\n",
    "\n",
    "#salaries['PartTime'] = salaries['PartTime'].apply(etat_to_number) \n",
    "salaries = salaries.drop_duplicates()\n",
    "\n",
    "salaries['CorrectedFinanceName'] = salaries['FinanceName'].apply(get_name)"
   ]
  },
  {
   "cell_type": "code",
   "execution_count": null,
   "metadata": {},
   "outputs": [],
   "source": [
    "salaries.head()"
   ]
  },
  {
   "cell_type": "code",
   "execution_count": null,
   "metadata": {},
   "outputs": [],
   "source": [
    "salaries['Date'] = salaries['Date'].apply(lambda x: x.replace(day=1))\n",
    "salaries.groupby(['Date']).count()"
   ]
  },
  {
   "cell_type": "code",
   "execution_count": null,
   "metadata": {},
   "outputs": [],
   "source": [
    "salaries = salaries[~salaries['FinancePosition'].isnull()]\n",
    "columns = ['FinanceCode', 'FinanceName', 'FinancePosition', 'PartTime', 'ContractType', 'FinanceSheet', 'Date', 'CorrectedFinanceName']"
   ]
  },
  {
   "cell_type": "code",
   "execution_count": null,
   "metadata": {},
   "outputs": [],
   "source": [
    "salaries = salaries.groupby(columns).sum().reset_index()"
   ]
  },
  {
   "cell_type": "code",
   "execution_count": null,
   "metadata": {},
   "outputs": [],
   "source": [
    "salaries = salaries[~(salaries['ContractValue'].isnull() & salaries['EmployerCost'].isnull())]\n",
    "salaries.head()"
   ]
  },
  {
   "cell_type": "code",
   "execution_count": null,
   "metadata": {},
   "outputs": [],
   "source": [
    "salaries.head()\n",
    "salaries['PartTime'] = salaries['PartTime'].fillna(1)\n",
    "salaries.shape"
   ]
  },
  {
   "cell_type": "code",
   "execution_count": null,
   "metadata": {},
   "outputs": [],
   "source": [
    "salaries['Date'] = salaries['Date'].apply(lambda x: x.date())"
   ]
  },
  {
   "cell_type": "code",
   "execution_count": null,
   "metadata": {},
   "outputs": [],
   "source": [
    "DM_SERVER = \"OBJPLDMSQL\"\n",
    "DM_DATABASE = \"Structure\"\n",
    "DM_SCHEMA = \"dbo\"\n",
    "DM_DB_CONNECTION = 'mssql+pyodbc://@' + DM_SERVER + '/' + DM_DATABASE + '?driver=SQL+Server+Native+Client+11.0?trusted_connection=yes'\n",
    "DM_ENGINE = sqlalchemy.create_engine(DM_DB_CONNECTION, pool_size=20, max_overflow=100)"
   ]
  },
  {
   "cell_type": "code",
   "execution_count": null,
   "metadata": {},
   "outputs": [],
   "source": [
    "employees = pd.read_sql('''\n",
    "select * FROM [Structure].[dbo].[Structure_Monthly] where Date >= '{0} 00:00:00.000' and Date <= '{1} 00:00:00.000'\n",
    "'''.format(salaries['Date'].min(), salaries['Date'].max()), DM_ENGINE.connect())"
   ]
  },
  {
   "cell_type": "code",
   "execution_count": null,
   "metadata": {},
   "outputs": [],
   "source": [
    "employees['Level'] = employees['Level'].replace({'': 'Regular'})"
   ]
  },
  {
   "cell_type": "code",
   "execution_count": null,
   "metadata": {},
   "outputs": [],
   "source": [
    "names_changes = pd.read_sql('''\n",
    "SELECT distinct concat([First_Name], ' ', [Surname]) as NameFrom\n",
    "      ,concat([First_Name], ' ', [Previous_Surname]) as NameTo\n",
    "FROM [Translations].[dbo].[Maiden_Name]\n",
    "\n",
    "UNION ALL\n",
    "\n",
    "SELECT distinct concat([First_Name], ' ', [Previous_Surname]) as NameFrom\n",
    "      ,concat([First_Name], ' ', [Surname]) as NameTo\n",
    "FROM [Translations].[dbo].[Maiden_Name]\n",
    "''', DM_ENGINE.connect())"
   ]
  },
  {
   "cell_type": "code",
   "execution_count": null,
   "metadata": {},
   "outputs": [],
   "source": [
    "translator = Translator()\n",
    "positions = salaries['FinancePosition'].unique()\n",
    "translations = []\n",
    "for x in positions:\n",
    "    #print(x)\n",
    "    try:\n",
    "        translations.append(translator.translate(x.replace('/', ''), dest='en').text)\n",
    "    except Exception as e:\n",
    "        translations.append(x)\n",
    "positions_translations = pd.DataFrame({'FinancePosition': positions, 'FinanceEnglishPosition': translations})\n",
    "positions_translations.head()"
   ]
  },
  {
   "cell_type": "code",
   "execution_count": null,
   "metadata": {},
   "outputs": [],
   "source": [
    "salaries = salaries.merge(positions_translations, how='left')\n",
    "salaries.shape"
   ]
  },
  {
   "cell_type": "code",
   "execution_count": null,
   "metadata": {},
   "outputs": [],
   "source": [
    "def get_matched_record(record, name_column='CorrectedFinanceName', position_column='FinanceEnglishPosition', prefix=''):\n",
    "    record = record.iloc[0]\n",
    "    x = record[name_column]\n",
    "    #print(x)\n",
    "    \n",
    "    ratios = pd.DataFrame({'Name': employees['Name'].unique(),\n",
    "                  'Ratio': [difflib.SequenceMatcher(None, x, name).ratio() for name in employees['Name'].unique()]\n",
    "                 })\n",
    "    \n",
    "    max_ratio = ratios['Ratio'].max() - 0.1\n",
    "    if max_ratio < 0.85:\n",
    "        print(x)\n",
    "        print(ratios['Ratio'].max())\n",
    "        \n",
    "        ratios_maiden = pd.DataFrame({'Name': names_changes['NameFrom'].tolist(),\n",
    "              'Ratio': [difflib.SequenceMatcher(None, x, name).ratio() for name in names_changes['NameFrom'].tolist()]\n",
    "             })\n",
    "        max_ratio_maiden = ratios_maiden['Ratio'].max()\n",
    "        matched_name_maiden = ratios_maiden[ratios_maiden['Ratio'] >= max_ratio_maiden]\n",
    "        if matched_name_maiden.shape[0] >= 1 and (max_ratio_maiden - 0.1) > max_ratio:\n",
    "            x = names_changes['NameTo'][names_changes['NameFrom'] == matched_name_maiden['Name'].iloc[0]].iloc[0]\n",
    "            \n",
    "            ratios = pd.DataFrame({'Name': employees['Name'].unique(),\n",
    "                  'Ratio': [difflib.SequenceMatcher(None, x, name).ratio() for name in employees['Name'].unique()]\n",
    "                 })\n",
    "    \n",
    "            max_ratio = ratios['Ratio'].max() - 0.1\n",
    "    \n",
    "    matched_name = ratios[ratios['Ratio'] >= max_ratio]\n",
    "\n",
    "    x = record[position_column]\n",
    "    #TODO\n",
    "    #x= translator.translate(x, dest='en').text\n",
    "\n",
    "    positions = employees[['Name', 'Position']].drop_duplicates().merge(matched_name, how='inner', on='Name')[['Name', 'Position', 'Ratio']]\n",
    "\n",
    "    pos_ratios = pd.DataFrame({\n",
    "        prefix + 'MatchedName': positions['Name'].tolist(),\n",
    "        prefix + 'MatchedNameRatio': positions['Ratio'].tolist(),\n",
    "        prefix + 'MatchedPosition': positions['Position'].tolist(),\n",
    "        prefix + 'MatchedPositionRatio': [difflib.SequenceMatcher(None, x.lower() if x is not None else ' '\n",
    "                                                         , name.lower() if name is not None else ' ').ratio() for name in positions['Position'].tolist()]\n",
    "    })\n",
    "    pos_max_ratio = pos_ratios[prefix + 'MatchedPositionRatio'].max()\n",
    "    matched_pos = pos_ratios[pos_ratios[prefix + 'MatchedPositionRatio'] >= pos_max_ratio]\n",
    "    \n",
    "    matched_pos = matched_pos[matched_pos[prefix + 'MatchedNameRatio'].max() == matched_pos[prefix + 'MatchedNameRatio']]\n",
    "\n",
    "    return matched_pos"
   ]
  },
  {
   "cell_type": "code",
   "execution_count": null,
   "metadata": {
    "scrolled": true
   },
   "outputs": [],
   "source": [
    "matched_employees = salaries.groupby(['CorrectedFinanceName', 'FinanceEnglishPosition']).apply(get_matched_record).reset_index()"
   ]
  },
  {
   "cell_type": "code",
   "execution_count": null,
   "metadata": {},
   "outputs": [],
   "source": [
    "matched_employees = matched_employees.drop(['level_2'], axis=1)"
   ]
  },
  {
   "cell_type": "code",
   "execution_count": null,
   "metadata": {},
   "outputs": [],
   "source": [
    "merged_salary = salaries.merge(matched_employees, how=\"outer\")\n",
    "merged_salary.shape"
   ]
  },
  {
   "cell_type": "code",
   "execution_count": null,
   "metadata": {},
   "outputs": [],
   "source": [
    "merged_salary['Ratio'] = merged_salary['MatchedNameRatio'] * merged_salary['MatchedPositionRatio']"
   ]
  },
  {
   "cell_type": "code",
   "execution_count": null,
   "metadata": {},
   "outputs": [],
   "source": [
    "import matplotlib.pyplot as plt\n",
    "%matplotlib inline\n",
    "\n",
    "merged_salary['Ratio'][~merged_salary['MatchedPosition'].isnull()].hist()"
   ]
  },
  {
   "cell_type": "code",
   "execution_count": null,
   "metadata": {},
   "outputs": [],
   "source": [
    "merged_salary[(~merged_salary['MatchedPosition'].isnull()) & (merged_salary['Ratio'] < 0.2)][['FinanceName', 'FinancePosition', 'MatchedPosition']].drop_duplicates()"
   ]
  },
  {
   "cell_type": "code",
   "execution_count": null,
   "metadata": {},
   "outputs": [],
   "source": [
    "employees = employees[['Name', 'Position', 'Tribe', 'Subtribe', 'Guild', 'Subguild', 'Office', 'Level', 'values',\n",
    "                      'LeaveDate', 'EmploymentDate', 'Management', 'Date', 'Backoffice', 'LastWorkingDate', 'Sex']]"
   ]
  },
  {
   "cell_type": "code",
   "execution_count": null,
   "metadata": {},
   "outputs": [],
   "source": [
    "employees['Date'] = employees['Date'].apply(lambda x : x.date())"
   ]
  },
  {
   "cell_type": "code",
   "execution_count": null,
   "metadata": {},
   "outputs": [],
   "source": [
    "merged_salary['Date'] = pd.to_datetime(merged_salary['Date'])"
   ]
  },
  {
   "cell_type": "code",
   "execution_count": null,
   "metadata": {},
   "outputs": [],
   "source": [
    "merged_salary['Date'] = merged_salary['Date'].apply(lambda x : x.date())"
   ]
  },
  {
   "cell_type": "code",
   "execution_count": null,
   "metadata": {},
   "outputs": [],
   "source": [
    "merged_salary = merged_salary.merge(employees, how=\"outer\", left_on=['MatchedName', 'Date'], right_on=['Name', 'Date'])"
   ]
  },
  {
   "cell_type": "code",
   "execution_count": null,
   "metadata": {},
   "outputs": [],
   "source": [
    "merged_salary.head()\n",
    "salaries.shape[0], merged_salary.shape[0]"
   ]
  },
  {
   "cell_type": "code",
   "execution_count": null,
   "metadata": {},
   "outputs": [],
   "source": [
    "merged_salary['Date'].unique()"
   ]
  },
  {
   "cell_type": "code",
   "execution_count": null,
   "metadata": {},
   "outputs": [],
   "source": [
    "count = merged_salary.groupby(['Name', 'Date']).apply(lambda x: pd.DataFrame({'Count': [x.shape[0]]}))\n",
    "count[count['Count'] > 1]"
   ]
  },
  {
   "cell_type": "code",
   "execution_count": null,
   "metadata": {},
   "outputs": [],
   "source": [
    "merged_salary.head()"
   ]
  },
  {
   "cell_type": "code",
   "execution_count": null,
   "metadata": {},
   "outputs": [],
   "source": [
    "merged_salary[(merged_salary['Name'] == 'Monika Grzech')]['Ratio'].head()"
   ]
  },
  {
   "cell_type": "code",
   "execution_count": null,
   "metadata": {},
   "outputs": [],
   "source": [
    "merged_salary['ContractType'].unique()"
   ]
  },
  {
   "cell_type": "code",
   "execution_count": null,
   "metadata": {},
   "outputs": [],
   "source": [
    "FIN_SERVER = \"OBJPLDMFIN1\"\n",
    "FIN_DATABASE = \"Cost\"\n",
    "FIN_SCHEMA = \"dbo\"\n",
    "FIN_DB_CONNECTION = 'mssql+pyodbc://@' + FIN_SERVER + '/' + FIN_DATABASE + '?driver=SQL+Server+Native+Client+11.0?trusted_connection=yes'\n",
    "FIN_ENGINE = sqlalchemy.create_engine(FIN_DB_CONNECTION, pool_size=20, max_overflow=100)"
   ]
  },
  {
   "cell_type": "code",
   "execution_count": null,
   "metadata": {},
   "outputs": [],
   "source": [
    "contract_data = merged_salary"
   ]
  },
  {
   "cell_type": "code",
   "execution_count": null,
   "metadata": {},
   "outputs": [],
   "source": [
    "#merged_salary = contract_data"
   ]
  },
  {
   "cell_type": "code",
   "execution_count": null,
   "metadata": {},
   "outputs": [],
   "source": [
    "merged_salary.to_sql('Salaries_ContractValues', FIN_ENGINE.connect(), if_exists='replace', index=False)"
   ]
  },
  {
   "cell_type": "code",
   "execution_count": null,
   "metadata": {},
   "outputs": [],
   "source": [
    "merged_salary = contract_data"
   ]
  },
  {
   "cell_type": "code",
   "execution_count": null,
   "metadata": {},
   "outputs": [],
   "source": [
    "merged_salary.head()"
   ]
  },
  {
   "cell_type": "code",
   "execution_count": null,
   "metadata": {},
   "outputs": [],
   "source": [
    "mypath = 'C:\\GIT\\Salary\\data\\EmployerCost\\Hansa'\n",
    "onlyfiles = [f for f in listdir(mypath) if isfile(join(mypath, f))]\n",
    "onlyfiles = [file for file in onlyfiles if not '~' in file and 'B2B' in file]\n",
    "onlyfiles"
   ]
  },
  {
   "cell_type": "code",
   "execution_count": null,
   "metadata": {},
   "outputs": [],
   "source": [
    "hansa_array = []\n",
    "for file in onlyfiles:\n",
    "    print(file)\n",
    "    hansa_data = pd.read_excel('data\\EmployerCost\\Hansa\\\\' + file, 'Hansa Report')\n",
    "    hansa_data['HansaSheet'] = file[:8]\n",
    "    hansa_data['Opis'] = hansa_data['Unnamed: 1']\n",
    "    hansa_data['Date'] = datetime.strptime(file[9:16], '%m.%Y').date()\n",
    "    hansa_array.append(hansa_data)\n",
    "\n",
    "hansa_array[1].columns"
   ]
  },
  {
   "cell_type": "code",
   "execution_count": null,
   "metadata": {},
   "outputs": [],
   "source": [
    "mypath = 'C:\\GIT\\Salary\\data\\EmployerCost\\Hansa'\n",
    "onlyfiles = [f for f in listdir(mypath) if isfile(join(mypath, f))]\n",
    "onlyfiles = [file for file in onlyfiles if not '~' in file and 'B2B' not in file]\n",
    "onlyfiles"
   ]
  },
  {
   "cell_type": "code",
   "execution_count": null,
   "metadata": {},
   "outputs": [],
   "source": [
    "for file in onlyfiles:\n",
    "    for t in ['OBSS', 'OITS']:\n",
    "        print(file)\n",
    "        print(t)\n",
    "        hansa_data = pd.read_excel('data\\EmployerCost\\Hansa\\\\' + file, sheetname=t, skiprows=1)\n",
    "        print(hansa_data.shape)\n",
    "        hansa_data['HansaSheet'] = t\n",
    "        hansa_data['Konto'] = hansa_data['Obiekt']\n",
    "        hansa_data['Date'] = datetime.strptime(file[:7], '%m_%Y').date()\n",
    "        hansa_array.append(hansa_data)"
   ]
  },
  {
   "cell_type": "code",
   "execution_count": null,
   "metadata": {},
   "outputs": [],
   "source": [
    "hansa = pd.concat(hansa_array)"
   ]
  },
  {
   "cell_type": "code",
   "execution_count": null,
   "metadata": {},
   "outputs": [],
   "source": [
    "[ha.shape[0] for ha in hansa_array]"
   ]
  },
  {
   "cell_type": "code",
   "execution_count": null,
   "metadata": {},
   "outputs": [],
   "source": [
    "hansa.head()"
   ]
  },
  {
   "cell_type": "code",
   "execution_count": null,
   "metadata": {},
   "outputs": [],
   "source": [
    "hansa = pd.DataFrame({\n",
    "    'HansaCode': hansa['Konto'],\n",
    "    'HansaName': hansa['Opis'].apply(lambda x: unicodedata.normalize('NFD', str(x).strip()).replace('ł', 'l').replace('Ł', 'L').encode('ascii', 'ignore').decode()),\n",
    "    'HansaEmployerCost': hansa['Okres Wn'],\n",
    "    'HansaSheet': hansa['HansaSheet'],\n",
    "    'Date': hansa['Date']\n",
    "})"
   ]
  },
  {
   "cell_type": "code",
   "execution_count": null,
   "metadata": {},
   "outputs": [],
   "source": [
    "hansa.groupby(['Date']).count()"
   ]
  },
  {
   "cell_type": "code",
   "execution_count": null,
   "metadata": {},
   "outputs": [],
   "source": [
    "def str_to_float(x):\n",
    "    if re.match('[0-9]{1,}.[0-9]{1,}.[0-9]{1,},[0-9]{1,}', str(x)) is not None:\n",
    "        return float(str(x).replace('.', '').replace(',', '.'))\n",
    "    elif re.match('-{0,}[0-9]{1,}.[0-9]{1,},[0-9]{1,}', str(x)) is not None:\n",
    "        return float(str(x).replace('.', '').replace(',', '.'))\n",
    "    return float(str(x))\n",
    "\n",
    "hansa['HansaEmployerCost'] = hansa['HansaEmployerCost'].apply(str_to_float)"
   ]
  },
  {
   "cell_type": "code",
   "execution_count": null,
   "metadata": {},
   "outputs": [],
   "source": [
    "hansa = hansa[~hansa['HansaName'].isin(['Miscellaneous', 'Wynagrodzenia - agencje pracy', 'wolne']) & ~hansa['HansaEmployerCost'].isnull()]"
   ]
  },
  {
   "cell_type": "code",
   "execution_count": null,
   "metadata": {},
   "outputs": [],
   "source": [
    "hansa['HansaName'] = hansa['HansaName'].replace({'Pawel Ozog QE': 'Pawel Ozog', 'Daniel Wiczak': 'Daniel Wilczak'})"
   ]
  },
  {
   "cell_type": "code",
   "execution_count": null,
   "metadata": {},
   "outputs": [],
   "source": [
    "hansa.head()"
   ]
  },
  {
   "cell_type": "code",
   "execution_count": null,
   "metadata": {},
   "outputs": [],
   "source": [
    "hansa = hansa.groupby(['Date', 'HansaCode', 'HansaName', 'HansaSheet']).sum().reset_index()"
   ]
  },
  {
   "cell_type": "code",
   "execution_count": null,
   "metadata": {},
   "outputs": [],
   "source": [
    "merged_hansa = hansa.merge(merged_salary, how='outer', left_on=['HansaName', 'Date'], right_on=['Name', 'Date'])\n",
    "merged_hansa.shape, merged_salary.shape"
   ]
  },
  {
   "cell_type": "code",
   "execution_count": null,
   "metadata": {},
   "outputs": [],
   "source": [
    "merged_hansa[(merged_hansa['Name'].isnull()) & (~merged_hansa['HansaName'].isnull())]"
   ]
  },
  {
   "cell_type": "code",
   "execution_count": null,
   "metadata": {},
   "outputs": [],
   "source": [
    "mypath = 'C:\\GIT\\Salary\\data\\EmployerCost\\Enova'\n",
    "onlyfiles = [f for f in listdir(mypath) if isfile(join(mypath, f))]\n",
    "onlyfiles = [file for file in onlyfiles if not '~' in file and 'LISTA' in file]\n",
    "onlyfiles"
   ]
  },
  {
   "cell_type": "code",
   "execution_count": null,
   "metadata": {},
   "outputs": [],
   "source": [
    "full_cost = []\n",
    "for PATH in onlyfiles:\n",
    "    wb = xw.Book('data\\EmployerCost\\Enova\\\\' +  PATH)\n",
    "    \n",
    "    for sheet in wb.sheets:\n",
    "        data_from_sheet = sheet.range('A1').expand().options(pd.DataFrame, index=False, header=True).value\n",
    "\n",
    "        data_from_sheet['EnovaName'] =  data_from_sheet['NAZWISKO IMIĘ']\n",
    "        data_from_sheet['EnovaPosition'] =  data_from_sheet['SATANOWISKO']\n",
    "\n",
    "        data_from_sheet['Date'] = data_from_sheet['Data'] #datetime(int(date_str[1]), int(date_str[0]), 1)\n",
    "        data_from_sheet['Path'] = PATH\n",
    "\n",
    "        full_cost.append(data_from_sheet)"
   ]
  },
  {
   "cell_type": "code",
   "execution_count": null,
   "metadata": {},
   "outputs": [],
   "source": [
    "full_cost = pd.concat(full_cost)\n",
    "full_cost = full_cost[~full_cost['EnovaName'].isnull()]"
   ]
  },
  {
   "cell_type": "code",
   "execution_count": null,
   "metadata": {},
   "outputs": [],
   "source": [
    "def get_full_cost(x):\n",
    "    cost = x[['Brutto', 'ZUS pracodawcy', 'ZUS Pracodawca', 'Skladki FGSP', 'Składki FGŚP', 'Skladki FP']].sum()\n",
    "    cost = cost - x[[c for c in full_cost_columns if 'Zas' in c]].sum()\n",
    "    \n",
    "    return cost\n",
    "\n",
    "def get_zasilek(x):\n",
    "    return x[[c for c in full_cost_columns if 'Zas' in c]].sum()"
   ]
  },
  {
   "cell_type": "code",
   "execution_count": null,
   "metadata": {},
   "outputs": [],
   "source": [
    "full_cost_columns = full_cost.columns.values\n",
    "full_cost['EnovaEmployerCost'] = full_cost.apply(get_full_cost, axis=1)\n",
    "full_cost['EnovaDole'] = full_cost.apply(get_zasilek, axis=1)"
   ]
  },
  {
   "cell_type": "code",
   "execution_count": null,
   "metadata": {},
   "outputs": [],
   "source": [
    "full_cost['EnovaDole'].hist()"
   ]
  },
  {
   "cell_type": "code",
   "execution_count": null,
   "metadata": {},
   "outputs": [],
   "source": [
    "full_cost['Date'] = full_cost['Date'].apply(lambda x: datetime.strptime(x, '%m.%Y') if '.' in str(x) else x)"
   ]
  },
  {
   "cell_type": "code",
   "execution_count": null,
   "metadata": {},
   "outputs": [],
   "source": [
    "full_cost['Date'] = full_cost['Date'].apply(lambda x: x.replace(day=1).date())"
   ]
  },
  {
   "cell_type": "code",
   "execution_count": null,
   "metadata": {},
   "outputs": [],
   "source": [
    "full_cost = full_cost[['Date', 'EnovaName', 'EnovaEmployerCost', 'EnovaPosition', 'EnovaDole']]"
   ]
  },
  {
   "cell_type": "code",
   "execution_count": null,
   "metadata": {},
   "outputs": [],
   "source": [
    "full_cost[full_cost['EnovaName'] == 'SZATANIK BARTOSZ']"
   ]
  },
  {
   "cell_type": "code",
   "execution_count": null,
   "metadata": {},
   "outputs": [],
   "source": [
    "full_cost = full_cost.groupby(['Date', 'EnovaName', 'EnovaPosition']).sum().reset_index()"
   ]
  },
  {
   "cell_type": "code",
   "execution_count": null,
   "metadata": {},
   "outputs": [],
   "source": [
    "full_cost.head()"
   ]
  },
  {
   "cell_type": "code",
   "execution_count": null,
   "metadata": {},
   "outputs": [],
   "source": [
    "full_cost = full_cost.drop_duplicates()"
   ]
  },
  {
   "cell_type": "code",
   "execution_count": null,
   "metadata": {},
   "outputs": [],
   "source": [
    "full_cost.head()"
   ]
  },
  {
   "cell_type": "code",
   "execution_count": null,
   "metadata": {},
   "outputs": [],
   "source": [
    "# Translations\n",
    "positions = full_cost['EnovaPosition'].unique()\n",
    "translations = []\n",
    "for x in positions:\n",
    "    #print(x)\n",
    "    try:\n",
    "        translations.append(translator.translate(x.replace('/', ''), dest='en').text)\n",
    "    except Exception as e:\n",
    "        translations.append(x)\n",
    "positions_translations = pd.DataFrame({'EnovaPosition': positions, 'EnovaEnglishPosition': translations})\n",
    "positions_translations.head()"
   ]
  },
  {
   "cell_type": "code",
   "execution_count": null,
   "metadata": {},
   "outputs": [],
   "source": [
    "full_cost = full_cost.merge(positions_translations, how='left')"
   ]
  },
  {
   "cell_type": "code",
   "execution_count": null,
   "metadata": {},
   "outputs": [],
   "source": [
    "full_cost = full_cost[['Date', 'EnovaName', 'EnovaEmployerCost', 'EnovaDole', 'EnovaEnglishPosition', 'EnovaPosition']]"
   ]
  },
  {
   "cell_type": "code",
   "execution_count": null,
   "metadata": {},
   "outputs": [],
   "source": [
    "full_cost['CorrectedEnovaName'] = full_cost['EnovaName'].apply(get_name)"
   ]
  },
  {
   "cell_type": "code",
   "execution_count": null,
   "metadata": {},
   "outputs": [],
   "source": [
    "# Names\n",
    "matched_employees = full_cost.groupby(['CorrectedEnovaName', 'EnovaEnglishPosition']).apply(lambda x: get_matched_record(x, 'CorrectedEnovaName', 'EnovaEnglishPosition', 'Enova')).reset_index()"
   ]
  },
  {
   "cell_type": "code",
   "execution_count": null,
   "metadata": {},
   "outputs": [],
   "source": [
    "matched_employees = matched_employees.drop('level_2', axis=1)"
   ]
  },
  {
   "cell_type": "code",
   "execution_count": null,
   "metadata": {},
   "outputs": [],
   "source": [
    "full_cost_names = full_cost.merge(matched_employees, how=\"outer\")"
   ]
  },
  {
   "cell_type": "code",
   "execution_count": null,
   "metadata": {},
   "outputs": [],
   "source": [
    "full_cost_names[full_cost_names['EnovaName'] == 'ROMANOWSKI TOMASZ']"
   ]
  },
  {
   "cell_type": "code",
   "execution_count": null,
   "metadata": {},
   "outputs": [],
   "source": [
    "count = full_cost_names.groupby(['Date', 'EnovaName', 'EnovaPosition']).apply(lambda x: pd.DataFrame({'Count': [x.shape[0]]})).reset_index()\n",
    "count[count['Count'] > 1]"
   ]
  },
  {
   "cell_type": "code",
   "execution_count": null,
   "metadata": {},
   "outputs": [],
   "source": [
    "merged_all = merged_hansa.merge(full_cost_names, how='outer', left_on=['Name', 'Date'], right_on=['EnovaMatchedName', 'Date'])"
   ]
  },
  {
   "cell_type": "code",
   "execution_count": null,
   "metadata": {},
   "outputs": [],
   "source": [
    "merged_all = merged_hansa"
   ]
  },
  {
   "cell_type": "code",
   "execution_count": null,
   "metadata": {},
   "outputs": [],
   "source": [
    "merged_all['EmployerCost'] = merged_all['EnovaEmployerCost'].fillna(0) + merged_all['HansaEmployerCost'].fillna(0)"
   ]
  },
  {
   "cell_type": "code",
   "execution_count": null,
   "metadata": {},
   "outputs": [],
   "source": [
    "merged_all.columns"
   ]
  },
  {
   "cell_type": "code",
   "execution_count": null,
   "metadata": {},
   "outputs": [],
   "source": [
    "merged_all['PartTime'] = merged_all['PartTime'].replace({0.0: 1.0})\n",
    "merged_all['FullEmployerCost'] = merged_all['EmployerCost']/merged_all['PartTime']"
   ]
  },
  {
   "cell_type": "code",
   "execution_count": null,
   "metadata": {},
   "outputs": [],
   "source": [
    "merged_all['EmployerToContractRatio'] = merged_all['EmployerCost']/merged_all['ContractValue']"
   ]
  },
  {
   "cell_type": "code",
   "execution_count": null,
   "metadata": {},
   "outputs": [],
   "source": [
    "merged_all['IsDirector'] = merged_all['Position'].isin(['Group Finance Director', 'Director', 'Managing Director', 'Marketing Director'])"
   ]
  },
  {
   "cell_type": "code",
   "execution_count": null,
   "metadata": {},
   "outputs": [],
   "source": [
    "merged_all['Computation_Time'] = datetime.now()"
   ]
  },
  {
   "cell_type": "code",
   "execution_count": null,
   "metadata": {},
   "outputs": [],
   "source": [
    "merged_all = merged_all.drop_duplicates()\n",
    "merged_all['ID'] = list(range(merged_all.shape[0]))"
   ]
  },
  {
   "cell_type": "code",
   "execution_count": null,
   "metadata": {},
   "outputs": [],
   "source": [
    "maternity = pd.read_sql('''\n",
    "SELECT distinct Name, Date\n",
    "FROM [AvailableDays].[dbo].[TimesheetDetailed]\n",
    "where [IsMaternity] = 1''', DM_ENGINE.connect())\n",
    "maternity.head()"
   ]
  },
  {
   "cell_type": "code",
   "execution_count": null,
   "metadata": {},
   "outputs": [],
   "source": [
    "maternity['IsMaternity'] = 1"
   ]
  },
  {
   "cell_type": "code",
   "execution_count": null,
   "metadata": {},
   "outputs": [],
   "source": [
    "maternity['Date'] = maternity['Date'].apply(lambda x: x.date())"
   ]
  },
  {
   "cell_type": "code",
   "execution_count": null,
   "metadata": {},
   "outputs": [],
   "source": [
    "merged_all['DateBeforeEmployment'] = merged_all['Date'] < merged_all['EmploymentDate'].apply(lambda x: datetime.strptime(str(x)[:10], '%Y-%m-%d').date() if str(x) != 'nan' and x is not None else None)"
   ]
  },
  {
   "cell_type": "code",
   "execution_count": null,
   "metadata": {},
   "outputs": [],
   "source": [
    "merged_all['FullTimeContractValue'] = merged_all['ContractValue']/merged_all['PartTime']"
   ]
  },
  {
   "cell_type": "code",
   "execution_count": null,
   "metadata": {},
   "outputs": [],
   "source": [
    "merged_all = merged_all.sort_values(['Date'])\n",
    "#merged_all = merged_all.drop(['PreviousContractValue', 'Raise'], axis=1)\n",
    "def get_previous(x):\n",
    "    return pd.DataFrame({'PreviousContractValue': x['ContractValue'].shift(1),\n",
    "                        'Raise': x['ContractValue'] - x['ContractValue'].shift(1),\n",
    "                        'Date': x['Date'],\n",
    "                        'Name': x['Name']})\n",
    "previous = merged_all.groupby(['Name']).apply(get_previous)\n",
    "merged_all = merged_all.merge(previous, how='left')"
   ]
  },
  {
   "cell_type": "code",
   "execution_count": null,
   "metadata": {},
   "outputs": [],
   "source": [
    "merged_all.merge(maternity, how='left').to_sql('Salaries', FIN_ENGINE.connect(), if_exists='replace', index=False)"
   ]
  },
  {
   "cell_type": "code",
   "execution_count": null,
   "metadata": {},
   "outputs": [],
   "source": [
    "customer_props = pd.read_sql('''select \n",
    "[Date], Person, Position, Customer, Hours, Ratio, Excluded_hours_proportionally, Not_excluded_hours_proportionally\n",
    "from [DetailedBillability].[dbo].[Customers_Proportions]\n",
    "where [Date] >= '2018-04-01'\n",
    "and [Date] <= '2018-08-01'\n",
    "''', DM_ENGINE.connect())"
   ]
  },
  {
   "cell_type": "code",
   "execution_count": null,
   "metadata": {},
   "outputs": [],
   "source": [
    "customer_props.head()"
   ]
  },
  {
   "cell_type": "code",
   "execution_count": null,
   "metadata": {},
   "outputs": [],
   "source": [
    "matched_employees = customer_props.groupby(['Person', 'Position']).apply(lambda x: get_matched_record(x, 'Person', 'Position', '')).reset_index()"
   ]
  },
  {
   "cell_type": "code",
   "execution_count": null,
   "metadata": {},
   "outputs": [],
   "source": [
    "matched_employees.head()"
   ]
  },
  {
   "cell_type": "code",
   "execution_count": null,
   "metadata": {},
   "outputs": [],
   "source": [
    "customer_props = matched_employees.merge(customer_props, how='outer')"
   ]
  },
  {
   "cell_type": "code",
   "execution_count": null,
   "metadata": {},
   "outputs": [],
   "source": [
    "customer_props['Not_excluded_hours_proportionally'] = customer_props['Not_excluded_hours_proportionally'].fillna(0)\n",
    "customer_props['Hours_With_Overhead'] = customer_props['Hours'] + customer_props['Not_excluded_hours_proportionally']\n",
    "customer_props['Hours_With_Overhead'].hist()"
   ]
  },
  {
   "cell_type": "code",
   "execution_count": null,
   "metadata": {},
   "outputs": [],
   "source": [
    "customer_props['Overhead_Ratio'] = customer_props['Not_excluded_hours_proportionally']/customer_props['Hours_With_Overhead']\n",
    "customer_props['Overhead_Ratio'].hist()"
   ]
  },
  {
   "cell_type": "code",
   "execution_count": null,
   "metadata": {},
   "outputs": [],
   "source": [
    "x = customer_props[(customer_props['Person'] == 'Jacek Krasnoborski') & (customer_props['Date'] == '2018-06-01')]"
   ]
  },
  {
   "cell_type": "code",
   "execution_count": null,
   "metadata": {},
   "outputs": [],
   "source": [
    "real_customers = x[~x['Customer'].isin(['Objectivity_not_excl', 'Objectivity_excl'])]\n",
    "holidays = x[x['Customer'] == 'Objectivity_excl']\n",
    "obj = x[x['Customer'] == 'Objectivity_not_excl']\n",
    "x['Nr_Of_Customers'] = real_customers.shape[0]\n",
    "real_customers = x[~x['Customer'].isin(['Objectivity_not_excl', 'Objectivity_excl'])]"
   ]
  },
  {
   "cell_type": "code",
   "execution_count": null,
   "metadata": {},
   "outputs": [],
   "source": [
    "obj"
   ]
  },
  {
   "cell_type": "code",
   "execution_count": null,
   "metadata": {},
   "outputs": [],
   "source": [
    "def get_prop(x):\n",
    "    real_customers = x[~x['Customer'].isin(['Objectivity_not_excl', 'Objectivity_excl'])]\n",
    "    holidays = x[x['Customer'] == 'Objectivity_excl']\n",
    "    obj = x[x['Customer'] == 'Objectivity_not_excl']\n",
    "    x['Nr_Of_Customers'] = real_customers.shape[0]\n",
    "    real_customers = x[~x['Customer'].isin(['Objectivity_not_excl', 'Objectivity_excl'])]\n",
    "    \n",
    "    if real_customers['Hours'].sum() > obj['Hours'].sum():\n",
    "        real_customers['Hours_With_Overhead'] = real_customers['Hours'] + real_customers['Not_excluded_hours_proportionally']\n",
    "    else:\n",
    "        real_customers = x[~x['Customer'].isin(['Objectivity_excl'])]\n",
    "        \n",
    "        real_customers['Hours_With_Overhead'][real_customers['Customer'] != 'Objectivity_not_excl'] = \\\n",
    "        real_customers['Hours'] + obj['Hours'].sum() * real_customers['Hours'][real_customers['Customer'] != 'Objectivity_not_excl'] /real_customers['Hours'].sum()\n",
    "        \n",
    "        real_customers['Hours_With_Overhead'][real_customers['Customer'] == 'Objectivity_not_excl'] = \\\n",
    "            obj['Hours'].sum() * real_customers['Hours'][real_customers['Customer'] == 'Objectivity_not_excl'] /real_customers['Hours'].sum()\n",
    "        \n",
    "    real_customers['ProportionWithoutHolidays'] = real_customers['Hours_With_Overhead']/real_customers['Hours_With_Overhead'].sum()\n",
    "    real_customers = pd.concat([real_customers, holidays])\n",
    "    real_customers['Proportion'] = real_customers['Hours_With_Overhead']/real_customers['Hours_With_Overhead'].sum()\n",
    "    \n",
    "    real_customers = real_customers.drop(['level_2', 'Date', 'Person'], axis=1)\n",
    "    return real_customers"
   ]
  },
  {
   "cell_type": "code",
   "execution_count": null,
   "metadata": {},
   "outputs": [],
   "source": [
    "prop = customer_props.\\\n",
    "    groupby(['Date', 'Person']).apply(get_prop).reset_index()\n",
    "prop[prop['Person'] == 'Jacek Kolonko']"
   ]
  },
  {
   "cell_type": "code",
   "execution_count": null,
   "metadata": {},
   "outputs": [],
   "source": [
    "prop.to_sql('Customer_Proportions', FIN_ENGINE.connect(), if_exists='replace')"
   ]
  },
  {
   "cell_type": "code",
   "execution_count": null,
   "metadata": {},
   "outputs": [],
   "source": [
    "prop.head()"
   ]
  },
  {
   "cell_type": "code",
   "execution_count": null,
   "metadata": {},
   "outputs": [],
   "source": [
    "# TODO zwykłe proporcje gdzie obj też jest customerem"
   ]
  }
 ],
 "metadata": {
  "kernelspec": {
   "display_name": "Python 3",
   "language": "python",
   "name": "python3"
  },
  "language_info": {
   "codemirror_mode": {
    "name": "ipython",
    "version": 3
   },
   "file_extension": ".py",
   "mimetype": "text/x-python",
   "name": "python",
   "nbconvert_exporter": "python",
   "pygments_lexer": "ipython3",
   "version": "3.6.2"
  }
 },
 "nbformat": 4,
 "nbformat_minor": 1
}
